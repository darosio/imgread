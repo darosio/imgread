{
 "cells": [
  {
   "cell_type": "code",
   "execution_count": null,
   "metadata": {
    "autoscroll": false,
    "ein.hycell": false,
    "ein.tags": "worksheet-0",
    "slideshow": {
     "slide_type": "-"
    }
   },
   "outputs": [],
   "source": [
    "%load_ext autoreload\n",
    "%autoreload 2\n",
    "import nima_io\n",
    "import nima_io.read as ir\n",
    "\n",
    "# import skimage.io\n",
    "# import matplotlib\n",
    "# import matplotlib.pyplot as plt\n",
    "# %matplotlib inline\n",
    "# nd2 = \"/home/dan/pims/pims/tests/data/bioformats/cluster.nd2\"\n",
    "import numpy as np\n",
    "from pathlib import Path\n",
    "\n",
    "tdata = Path(\"../../tests/data/\")\n",
    "\n",
    "lif = tdata / \"2015Aug28_TransHXB2_50min+DMSO.lif\"\n",
    "img_tile = tdata / \"t4_1.tif\"  # C=3 T=4 S=15\n",
    "img_void_tile = tdata / \"tile6_1.tif\"  # C=4 T=3 S=14 scattered\n",
    "# imgsingle = tdata / \"exp2_2.tif\"  # C=2 T=81\n",
    "\n",
    "# mcts = tdata / \"multi-channel-time-series.ome.tif\"  # C=3 T=7\n",
    "# bigtiff = tdata / \"LC26GFP_1.tf8\"  # bigtiff\n",
    "\n",
    "slif = str(lif)\n",
    "simg_tile = str(img_tile)\n",
    "simg_void_tile = str(img_void_tile)\n",
    "# simgsingle = str(imgsingle)\n",
    "# smcts = str(mcts)\n",
    "# sbigtiff = str(bigtiff)"
   ]
  },
  {
   "cell_type": "markdown",
   "metadata": {
    "autoscroll": false,
    "ein.hycell": false,
    "ein.tags": "worksheet-0",
    "slideshow": {
     "slide_type": "-"
    }
   },
   "source": [
    "Core metadata list at:\n",
    "https://docs.openmicroscopy.org/bio-formats/5.9.1/developers/file-reader.html\n",
    "\n"
   ]
  },
  {
   "cell_type": "code",
   "execution_count": null,
   "metadata": {},
   "outputs": [],
   "source": [
    "ir.ensure_vm()\n",
    "md, wr = ir.read(slif)"
   ]
  },
  {
   "cell_type": "code",
   "execution_count": null,
   "metadata": {},
   "outputs": [],
   "source": [
    "wr.rdr.setSeries(4)\n",
    "wr.rdr.getImageCount()"
   ]
  },
  {
   "cell_type": "code",
   "execution_count": null,
   "metadata": {},
   "outputs": [],
   "source": [
    "md"
   ]
  },
  {
   "cell_type": "code",
   "execution_count": null,
   "metadata": {},
   "outputs": [],
   "source": [
    "rdr, xml_md = ir.img_reader(slif)"
   ]
  },
  {
   "cell_type": "code",
   "execution_count": null,
   "metadata": {},
   "outputs": [],
   "source": [
    "rdr.setSeries(4)\n",
    "rdr.getImageCount()"
   ]
  },
  {
   "cell_type": "code",
   "execution_count": null,
   "metadata": {},
   "outputs": [],
   "source": [
    "xml_md.getPlaneCount(4), xml_md.getPlaneTheC(4, 110), xml_md.getPixelsSizeZ(4)"
   ]
  },
  {
   "cell_type": "code",
   "execution_count": null,
   "metadata": {},
   "outputs": [],
   "source": [
    "rdr.getDimensionOrder()"
   ]
  },
  {
   "cell_type": "code",
   "execution_count": null,
   "metadata": {},
   "outputs": [],
   "source": [
    "v = xml_md.getPixelsPhysicalSizeY(0)\n",
    "v.value(), v.unit, ir.convert_value(v)"
   ]
  },
  {
   "cell_type": "code",
   "execution_count": null,
   "metadata": {},
   "outputs": [],
   "source": [
    "md2, mdd2 = ir.read2(simg_tile)"
   ]
  },
  {
   "cell_type": "code",
   "execution_count": null,
   "metadata": {},
   "outputs": [],
   "source": [
    "md2.keys(), md2[\"FolderCount\"]"
   ]
  },
  {
   "cell_type": "code",
   "execution_count": null,
   "metadata": {},
   "outputs": [],
   "source": [
    "md2[\"PlanePositionX\"]"
   ]
  },
  {
   "cell_type": "code",
   "execution_count": null,
   "metadata": {},
   "outputs": [],
   "source": [
    "extra_md, mdd = ir.get_md_dict(xml_md, simg_tile)"
   ]
  },
  {
   "cell_type": "code",
   "execution_count": null,
   "metadata": {},
   "outputs": [],
   "source": [
    "extra_md[\"PlanePositionX\"]"
   ]
  },
  {
   "cell_type": "code",
   "execution_count": null,
   "metadata": {},
   "outputs": [],
   "source": [
    "ir.get_allvalues_grouped(xml_md, \"getPixelsBigEndian\", 1, True)"
   ]
  },
  {
   "cell_type": "code",
   "execution_count": null,
   "metadata": {},
   "outputs": [],
   "source": [
    "md, mdd = ir.get_md_dict(xml_md)\n",
    "len(md)"
   ]
  },
  {
   "cell_type": "code",
   "execution_count": null,
   "metadata": {},
   "outputs": [],
   "source": [
    "md"
   ]
  },
  {
   "cell_type": "code",
   "execution_count": null,
   "metadata": {},
   "outputs": [],
   "source": [
    "root = xml_md.getRoot()\n",
    "im0 = root.getImage(0)\n",
    "pixels = im0.getPixels()"
   ]
  },
  {
   "cell_type": "code",
   "execution_count": null,
   "metadata": {},
   "outputs": [],
   "source": [
    "import io\n",
    "\n",
    "plane = pixels.getPlane(3)\n",
    "\n",
    "output = io.StringIO()\n",
    "output.write(str(plane.getDeltaT()))\n",
    "contents = output.getvalue()\n",
    "output.close()"
   ]
  },
  {
   "cell_type": "code",
   "execution_count": null,
   "metadata": {},
   "outputs": [],
   "source": [
    "output = io.StringIO()\n",
    "output.write(str(plane.getDeltaT()))\n",
    "contents = output.getvalue()\n",
    "output.close()\n",
    "contents"
   ]
  },
  {
   "cell_type": "code",
   "execution_count": null,
   "metadata": {},
   "outputs": [],
   "source": [
    "md, missing_keys = ir.get_md_dict(xml_md)"
   ]
  },
  {
   "cell_type": "code",
   "execution_count": null,
   "metadata": {},
   "outputs": [],
   "source": [
    "md[\"PixelsSizeZ\"]"
   ]
  },
  {
   "cell_type": "code",
   "execution_count": null,
   "metadata": {},
   "outputs": [],
   "source": [
    "getattr(xml_md, \"getChannelExcitationWavelength\")(0, 1)"
   ]
  },
  {
   "cell_type": "markdown",
   "metadata": {
    "ein.tags": "worksheet-0",
    "slideshow": {
     "slide_type": "-"
    }
   },
   "source": [
    "## XML\n",
    "getRoot is used in imgread-0.2.1"
   ]
  },
  {
   "cell_type": "code",
   "execution_count": null,
   "metadata": {},
   "outputs": [],
   "source": [
    "wrapper, mdata = ir.img_reader(simg_tile)"
   ]
  },
  {
   "cell_type": "code",
   "execution_count": null,
   "metadata": {},
   "outputs": [],
   "source": [
    "root = mdata.getRoot()"
   ]
  },
  {
   "cell_type": "code",
   "execution_count": null,
   "metadata": {},
   "outputs": [],
   "source": [
    "instrument = root.getInstrument(0)\n",
    "detector = instrument.getDetector(0)\n",
    "detector.getModel()"
   ]
  },
  {
   "cell_type": "code",
   "execution_count": null,
   "metadata": {
    "autoscroll": false,
    "ein.hycell": false,
    "ein.tags": "worksheet-0",
    "slideshow": {
     "slide_type": "-"
    }
   },
   "outputs": [],
   "source": [
    "[m for m in root.methods if m[:3] == \"get\"]"
   ]
  },
  {
   "cell_type": "code",
   "execution_count": null,
   "metadata": {
    "autoscroll": false,
    "ein.hycell": false,
    "ein.tags": "worksheet-0",
    "slideshow": {
     "slide_type": "-"
    }
   },
   "outputs": [],
   "source": [
    "image = root.getImage(13)\n",
    "[m for m in image.methods if m[:3] == \"get\"]"
   ]
  },
  {
   "cell_type": "code",
   "execution_count": null,
   "metadata": {
    "autoscroll": false,
    "ein.hycell": false,
    "ein.tags": "worksheet-0",
    "slideshow": {
     "slide_type": "-"
    }
   },
   "outputs": [],
   "source": [
    "obj = image.getObjectiveSettings()\n",
    "[m for m in obj.methods if m[:3] == \"get\"]\n",
    "obj.getID()"
   ]
  },
  {
   "cell_type": "code",
   "execution_count": null,
   "metadata": {
    "autoscroll": false,
    "ein.hycell": false,
    "ein.tags": "worksheet-0",
    "scrolled": true,
    "slideshow": {
     "slide_type": "-"
    }
   },
   "outputs": [],
   "source": [
    "ch = pixels.getChannel(0)\n",
    "[m for m in ch.methods if m[:3] == \"get\"]"
   ]
  },
  {
   "cell_type": "code",
   "execution_count": null,
   "metadata": {
    "autoscroll": false,
    "ein.hycell": false,
    "ein.tags": "worksheet-0",
    "slideshow": {
     "slide_type": "-"
    }
   },
   "outputs": [],
   "source": [
    "lp = ch.getLightPath()\n",
    "[m for m in lp.methods if m[:3] == \"get\"]"
   ]
  },
  {
   "cell_type": "code",
   "execution_count": null,
   "metadata": {
    "autoscroll": false,
    "ein.hycell": false,
    "ein.tags": "worksheet-0",
    "slideshow": {
     "slide_type": "-"
    }
   },
   "outputs": [],
   "source": [
    "pixels = image.getPixels()\n",
    "[m for m in pixels.methods if m[:3] == \"get\"]"
   ]
  },
  {
   "cell_type": "code",
   "execution_count": null,
   "metadata": {
    "autoscroll": false,
    "ein.hycell": false,
    "ein.tags": "worksheet-0",
    "slideshow": {
     "slide_type": "-"
    }
   },
   "outputs": [],
   "source": [
    "pixels.getTimeIncrement()"
   ]
  },
  {
   "cell_type": "code",
   "execution_count": null,
   "metadata": {
    "autoscroll": false,
    "ein.hycell": false,
    "ein.tags": "worksheet-0",
    "slideshow": {
     "slide_type": "-"
    }
   },
   "outputs": [],
   "source": [
    "plane = pixels.getPlane(11)\n",
    "[m for m in plane.methods if m[:3] == \"get\"]"
   ]
  },
  {
   "cell_type": "code",
   "execution_count": null,
   "metadata": {
    "autoscroll": false,
    "ein.hycell": false,
    "ein.tags": "worksheet-0",
    "slideshow": {
     "slide_type": "-"
    }
   },
   "outputs": [],
   "source": [
    "plane.getTheC(), plane.getDeltaT(), plane.getExposureTime()"
   ]
  },
  {
   "cell_type": "code",
   "execution_count": null,
   "metadata": {
    "autoscroll": false,
    "ein.hycell": false,
    "ein.tags": "worksheet-0",
    "slideshow": {
     "slide_type": "-"
    }
   },
   "outputs": [],
   "source": [
    "for k in root.methods:\n",
    "    if k[:3] == \"get\":\n",
    "        print(k)"
   ]
  },
  {
   "cell_type": "code",
   "execution_count": null,
   "metadata": {
    "autoscroll": false,
    "ein.hycell": false,
    "ein.tags": "worksheet-0",
    "slideshow": {
     "slide_type": "-"
    }
   },
   "outputs": [],
   "source": [
    "root.getInstrument(0).getDetector(0).getModel()"
   ]
  },
  {
   "cell_type": "code",
   "execution_count": null,
   "metadata": {
    "autoscroll": false,
    "ein.hycell": false,
    "ein.tags": "worksheet-0",
    "slideshow": {
     "slide_type": "-"
    }
   },
   "outputs": [],
   "source": [
    "mdata.getExperimentID(0)"
   ]
  },
  {
   "cell_type": "code",
   "execution_count": null,
   "metadata": {
    "autoscroll": false,
    "ein.hycell": false,
    "ein.tags": "worksheet-0",
    "slideshow": {
     "slide_type": "-"
    }
   },
   "outputs": [],
   "source": [
    "root.getExperiment(0)"
   ]
  },
  {
   "cell_type": "code",
   "execution_count": null,
   "metadata": {
    "autoscroll": false,
    "ein.hycell": false,
    "ein.tags": "worksheet-0",
    "slideshow": {
     "slide_type": "-"
    }
   },
   "outputs": [],
   "source": [
    "im = root.getImage(0)\n",
    "obj = im.getObjectiveSettings()\n",
    "obj.getID(), obj.getMedium(), obj.getRefractiveIndex(), obj.getCorrectionCollar(), obj.getObjective()"
   ]
  },
  {
   "cell_type": "code",
   "execution_count": null,
   "metadata": {
    "autoscroll": false,
    "ein.hycell": false,
    "ein.tags": "worksheet-0",
    "slideshow": {
     "slide_type": "-"
    }
   },
   "outputs": [],
   "source": [
    "mdata.getObjectiveID(0, 0) == obj.getID(), mdata.getObjectiveLensNA(0, 0)"
   ]
  },
  {
   "cell_type": "markdown",
   "metadata": {
    "ein.tags": "worksheet-0",
    "slideshow": {
     "slide_type": "-"
    }
   },
   "source": [
    "## md vs root (to remember)\n",
    "\n",
    "from md i can get info on camera, objectives ...\n",
    "\n",
    "ut also key parameters like exposuretime, DeltaT, planePositionXYZ"
   ]
  },
  {
   "cell_type": "code",
   "execution_count": null,
   "metadata": {},
   "outputs": [],
   "source": [
    "mdata.getObjectiveCount(0)"
   ]
  },
  {
   "cell_type": "code",
   "execution_count": null,
   "metadata": {
    "autoscroll": false,
    "ein.hycell": false,
    "ein.tags": "worksheet-0",
    "scrolled": true,
    "slideshow": {
     "slide_type": "-"
    }
   },
   "outputs": [],
   "source": [
    "metadata = mdata\n",
    "# might be used to check if metadata are the same for all series\n",
    "(\n",
    "    metadata.getObjectiveCount(0),\n",
    "    metadata.getObjectiveImmersion(0, 0),\n",
    "    metadata.getPixelsDimensionOrder(0),\n",
    "    metadata.getPixelsPhysicalSizeX(0),\n",
    "    # metadata.getTiffDataIFD(0, 5), only fei\n",
    "    metadata.getObjectiveLensNA(0, 0),\n",
    "    metadata.getChannelCount(0),\n",
    "    metadata.getDetectorSettingsBinning(0, 1),  # series, channel\n",
    "    metadata.getDetectorModel(0, 0),\n",
    "    metadata.getDetectorType(0, 0),\n",
    "    metadata.getTiffDataCount(0),\n",
    "    metadata.getPlaneExposureTime(0, 1),  # none.value() catch this error with try\n",
    "    metadata.getPlaneDeltaT(0, 2).value(),\n",
    "    metadata.getPlaneDeltaT(0, 11).value().doubleValue(),\n",
    "    metadata.getPlanePositionX(0, 0),\n",
    "    metadata.getScreenCount(),\n",
    "    # metadata.getXMLAnnotationCount(),\n",
    ")\n",
    "# cerca tutti i ...Count()"
   ]
  },
  {
   "cell_type": "code",
   "execution_count": null,
   "metadata": {
    "autoscroll": false,
    "ein.hycell": false,
    "ein.tags": "worksheet-0",
    "slideshow": {
     "slide_type": "-"
    }
   },
   "outputs": [],
   "source": [
    "metadata.getXMLAnnotationValue(\n",
    "    0\n",
    ") == metadata.getRoot().getStructuredAnnotations().getXMLAnnotation(0).getValue()"
   ]
  },
  {
   "cell_type": "code",
   "execution_count": null,
   "metadata": {
    "autoscroll": false,
    "ein.hycell": false,
    "ein.tags": "worksheet-0",
    "slideshow": {
     "slide_type": "-"
    }
   },
   "outputs": [],
   "source": [
    "import bioformats\n",
    "\n",
    "md = bioformats.get_omexml_metadata(slif)\n",
    "from xml.etree import ElementTree as ETree\n",
    "\n",
    "mdroot = ETree.fromstring(metadata.dumpXML())\n",
    "mdroot = ETree.fromstring(\n",
    "    metadata.getRoot().getStructuredAnnotations().getXMLAnnotation(0).getValue()\n",
    ")\n",
    "# mdroot = ETree.fromstring(md)\n",
    "\n",
    "for a in mdroot:\n",
    "    print((a.tag, a.attrib))\n",
    "    for aa in a:\n",
    "        print((\" GGSSS \", aa.tag, aa.attrib))\n",
    "        for aaa in aa:\n",
    "            print((\" GGSSS2 \", aaa.tag, aaa.attrib))"
   ]
  },
  {
   "cell_type": "code",
   "execution_count": null,
   "metadata": {
    "autoscroll": false,
    "ein.hycell": false,
    "ein.tags": "worksheet-0",
    "slideshow": {
     "slide_type": "-"
    }
   },
   "outputs": [],
   "source": [
    "import xmltodict\n",
    "\n",
    "m1 = xmltodict.parse(metadata.dumpXML())\n",
    "m2 = xmltodict.parse(bioformats.get_omexml_metadata(simg_tile))\n",
    "m2[\"OME\"]"
   ]
  },
  {
   "cell_type": "code",
   "execution_count": null,
   "metadata": {
    "autoscroll": false,
    "ein.hycell": false,
    "ein.tags": "worksheet-0",
    "slideshow": {
     "slide_type": "-"
    }
   },
   "outputs": [],
   "source": [
    "metalist = [\n",
    "    (child.tag, [[child.attrib]])\n",
    "    for child in ETree.fromstring(metadata.dumpXML()).iter()\n",
    "]"
   ]
  },
  {
   "cell_type": "code",
   "execution_count": null,
   "metadata": {
    "autoscroll": false,
    "ein.hycell": false,
    "ein.tags": "worksheet-0",
    "slideshow": {
     "slide_type": "-"
    }
   },
   "outputs": [],
   "source": [
    "m = metalist[10]\n",
    "m[0], m[1][0][0]"
   ]
  },
  {
   "cell_type": "code",
   "execution_count": null,
   "metadata": {
    "autoscroll": false,
    "ein.hycell": false,
    "ein.tags": "worksheet-0",
    "slideshow": {
     "slide_type": "-"
    }
   },
   "outputs": [],
   "source": [
    "for child in mdroot:\n",
    "    if child.tag.endswith(\"\"):\n",
    "        for grandchild in child:\n",
    "            print((grandchild.tag, grandchild.attrib))"
   ]
  }
 ],
 "metadata": {
  "kernelspec": {
   "display_name": "Python 3 (ipykernel)",
   "language": "python",
   "name": "python3"
  },
  "language_info": {
   "codemirror_mode": {
    "name": "ipython",
    "version": 3
   },
   "file_extension": ".py",
   "mimetype": "text/x-python",
   "name": "python",
   "nbconvert_exporter": "python",
   "pygments_lexer": "ipython3",
   "version": "3.10.13"
  },
  "name": "general_reading_and_development.ipynb"
 },
 "nbformat": 4,
 "nbformat_minor": 4
}
