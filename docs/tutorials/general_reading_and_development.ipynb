{
 "cells": [
  {
   "cell_type": "code",
   "execution_count": null,
   "metadata": {
    "autoscroll": false,
    "ein.hycell": false,
    "ein.tags": "worksheet-0",
    "slideshow": {
     "slide_type": "-"
    }
   },
   "outputs": [],
   "source": [
    "%load_ext autoreload\n",
    "%autoreload 2\n",
    "import nima_io\n",
    "import nima_io.read as ir\n",
    "\n",
    "#import skimage.io\n",
    "#import matplotlib\n",
    "#import matplotlib.pyplot as plt\n",
    "#%matplotlib inline\n",
    "lif = \"../tests/data/2015Aug28_TransHXB2_50min+DMSO.lif\"\n",
    "img_tile = \"../tests/data/t4_1.tif\"\n",
    "img = \"../tests/data/exp2_2.tif\"\n",
    "\n",
    "mcts = \"../tests/data/multi-channel-time-series.ome.tif\"\n",
    "nd2 = \"/home/dan/pims/pims/tests/data/bioformats/cluster.nd2\""
   ]
  },
  {
   "cell_type": "markdown",
   "metadata": {
    "autoscroll": false,
    "ein.hycell": false,
    "ein.tags": "worksheet-0",
    "slideshow": {
     "slide_type": "-"
    }
   },
   "source": [
    "Core metadata list at:\n",
    "https://docs.openmicroscopy.org/bio-formats/5.9.1/developers/file-reader.html\n",
    "\n"
   ]
  },
  {
   "cell_type": "code",
   "execution_count": null,
   "metadata": {},
   "outputs": [],
   "source": [
    "ir.ensure_vm()\n",
    "md, wr = ir.read(lif)"
   ]
  },
  {
   "cell_type": "code",
   "execution_count": null,
   "metadata": {},
   "outputs": [],
   "source": [
    "wr.rdr.setSeries(4)\n",
    "wr.rdr.getImageCount()"
   ]
  },
  {
   "cell_type": "code",
   "execution_count": null,
   "metadata": {},
   "outputs": [],
   "source": [
    "md"
   ]
  },
  {
   "cell_type": "code",
   "execution_count": null,
   "metadata": {},
   "outputs": [],
   "source": [
    "rdr, xml_md = ir.img_reader(lif)"
   ]
  },
  {
   "cell_type": "code",
   "execution_count": null,
   "metadata": {},
   "outputs": [],
   "source": [
    "rdr.setSeries(4)\n",
    "rdr.getImageCount()"
   ]
  },
  {
   "cell_type": "code",
   "execution_count": null,
   "metadata": {},
   "outputs": [],
   "source": [
    "xml_md.getPlaneCount(4), xml_md.getPlaneTheC(4, 110), xml_md.getPixelsSizeZ(4)"
   ]
  },
  {
   "cell_type": "markdown",
   "metadata": {},
   "source": [
    "# Jpype"
   ]
  },
  {
   "cell_type": "code",
   "execution_count": null,
   "metadata": {},
   "outputs": [],
   "source": [
    "from six.moves.urllib.request import urlopen\n",
    "import hashlib, os\n",
    "\n",
    "url = (\n",
    "    \"http://downloads.openmicroscopy.org/bio-formats/\"\n",
    "    + \"5.9.0\"\n",
    "    + \"/artifacts/loci_tools.jar\"\n",
    ")\n",
    "loc = \".\"\n",
    "path = os.path.join(loc, \"loci_tools.jar\")\n",
    "loci_tools = urlopen(url).read()\n",
    "sha1_checksum = urlopen(url + \".sha1\").read().split(b\" \")[0].decode()\n",
    "\n",
    "downloaded = hashlib.sha1(loci_tools).hexdigest()\n",
    "if downloaded != sha1_checksum:\n",
    "    raise IOError(\n",
    "        \"Downloaded loci_tools.jar has invalid checksum. \" \"Please try again.\"\n",
    "    )\n",
    "\n",
    "with open(path, \"wb\") as output:\n",
    "    output.write(loci_tools)"
   ]
  },
  {
   "cell_type": "code",
   "execution_count": null,
   "metadata": {},
   "outputs": [],
   "source": [
    "import jpype\n",
    "\n",
    "# loci_path = '/home/dan/.venvs/imgread-dev/lib/python3.6/site-packages/pims/loci_tools.jar'\n",
    "# loci_path = '/home/dan/.progs/bftools/bioformats_package.jar'\n",
    "loci_path = \"./loci_tools.jar\"\n",
    "java_memory = \"512m\"\n",
    "\n",
    "jpype.startJVM(\n",
    "    jpype.getDefaultJVMPath(),\n",
    "    \"-ea\",\n",
    "    \"-Djava.class.path=\" + loci_path,\n",
    "    \"-Xmx\" + java_memory,\n",
    ")"
   ]
  },
  {
   "cell_type": "code",
   "execution_count": null,
   "metadata": {},
   "outputs": [],
   "source": [
    "filepath = img_tile\n",
    "loci = jpype.JPackage(\"loci\")\n",
    "rdr = loci.formats.ImageReader()\n",
    "rdr.setMetadataStore(loci.formats.MetadataTools.createOMEXMLMetadata())\n",
    "rdr.setId(filepath)\n",
    "xml_md = rdr.getMetadataStore()"
   ]
  },
  {
   "cell_type": "code",
   "execution_count": null,
   "metadata": {},
   "outputs": [],
   "source": [
    "md, mdd = ir.get_md_dict(xml_md, debug=True)\n",
    "md"
   ]
  },
  {
   "cell_type": "code",
   "execution_count": null,
   "metadata": {},
   "outputs": [],
   "source": [
    "print(md[\"ImageCount\"][0][1], md[\"PlaneCount\"])\n",
    "print(md[\"PlanePositionX\"][3][1][0])\n",
    "print(md[\"ImageAcquisitionDate\"])\n",
    "print(md[\"PixelsPhysicalSizeX\"][0][1][0])\n",
    "print(md[\"PixelsType\"][0][1])"
   ]
  },
  {
   "cell_type": "code",
   "execution_count": null,
   "metadata": {},
   "outputs": [],
   "source": [
    "md0, rdrdt = ir.read_jpype(img_tile)\n",
    "rdrdt, md0"
   ]
  },
  {
   "cell_type": "code",
   "execution_count": null,
   "metadata": {},
   "outputs": [],
   "source": [
    "mmd = rdrdt[2]"
   ]
  },
  {
   "cell_type": "code",
   "execution_count": null,
   "metadata": {},
   "outputs": [],
   "source": [
    "mmd[\"ArcType\"]"
   ]
  },
  {
   "cell_type": "code",
   "execution_count": null,
   "metadata": {},
   "outputs": [],
   "source": [
    "rdr = rdrdt[0]"
   ]
  },
  {
   "cell_type": "code",
   "execution_count": null,
   "metadata": {},
   "outputs": [],
   "source": [
    "rdr.getPixelType(), rdr.getDimensionOrder(),"
   ]
  },
  {
   "cell_type": "code",
   "execution_count": null,
   "metadata": {},
   "outputs": [],
   "source": [
    "r = rdr.getMetadataStoreRoot()"
   ]
  },
  {
   "cell_type": "code",
   "execution_count": null,
   "metadata": {},
   "outputs": [],
   "source": [
    "reader = rdr.getReader()"
   ]
  },
  {
   "cell_type": "code",
   "execution_count": null,
   "metadata": {},
   "outputs": [],
   "source": [
    "r.getImage"
   ]
  },
  {
   "cell_type": "code",
   "execution_count": null,
   "metadata": {},
   "outputs": [],
   "source": [
    "md[\"PlanePositionZ\"]"
   ]
  },
  {
   "cell_type": "code",
   "execution_count": null,
   "metadata": {},
   "outputs": [],
   "source": [
    "rdr.getIndex(0, 3, 2)"
   ]
  },
  {
   "cell_type": "code",
   "execution_count": null,
   "metadata": {},
   "outputs": [],
   "source": [
    "loci"
   ]
  },
  {
   "cell_type": "code",
   "execution_count": null,
   "metadata": {},
   "outputs": [],
   "source": [
    "loci = jpype.JPackage(\"loci\")\n",
    "\n",
    "isLittleEndian = rdr.isLittleEndian()\n",
    "LE_prefix = [\">\", \"<\"][isLittleEndian]\n",
    "FormatTools = loci.formats.FormatTools\n",
    "_dtype_dict = {\n",
    "    FormatTools.INT8: \"i1\",\n",
    "    FormatTools.UINT8: \"u1\",\n",
    "    FormatTools.INT16: LE_prefix + \"i2\",\n",
    "    FormatTools.UINT16: LE_prefix + \"u2\",\n",
    "    FormatTools.INT32: LE_prefix + \"i4\",\n",
    "    FormatTools.UINT32: LE_prefix + \"u4\",\n",
    "    FormatTools.FLOAT: LE_prefix + \"f4\",\n",
    "    FormatTools.DOUBLE: LE_prefix + \"f8\",\n",
    "}\n",
    "_dtype_dict_java = {}\n",
    "for loci_format in _dtype_dict.keys():\n",
    "    _dtype_dict_java[loci_format] = (\n",
    "        FormatTools.getBytesPerPixel(loci_format),\n",
    "        FormatTools.isFloatingPoint(loci_format),\n",
    "        isLittleEndian,\n",
    "    )\n",
    "# above duplicated"
   ]
  },
  {
   "cell_type": "code",
   "execution_count": null,
   "metadata": {},
   "outputs": [],
   "source": [
    "def _jbytearr_javacasting(arr, dtype, bpp, fp, little_endian):\n",
    "    # let java do the type conversion\n",
    "    Jconv = loci.common.DataTools.makeDataArray(arr, bpp, fp, little_endian)\n",
    "    return np.array(Jconv[:], dtype=dtype)\n",
    "\n",
    "\n",
    "java_dtype = _dtype_dict_java[rdr.getPixelType()]\n",
    "a_jbytearr_javacasting = lambda arr: _jbytearr_javacasting(arr, dtype, *java_dtype)\n",
    "a_jbytearr_javacasting([1, 2])"
   ]
  },
  {
   "cell_type": "code",
   "execution_count": null,
   "metadata": {},
   "outputs": [],
   "source": [
    "loci.formats.ImageReader.getPixelType()"
   ]
  },
  {
   "cell_type": "code",
   "execution_count": null,
   "metadata": {},
   "outputs": [],
   "source": [
    "a_jbytearr_javacasting(rdr.openBytes(0)).shape"
   ]
  },
  {
   "cell_type": "code",
   "execution_count": null,
   "metadata": {},
   "outputs": [],
   "source": [
    "%%timeit\n",
    "rdr.read()"
   ]
  },
  {
   "cell_type": "code",
   "execution_count": null,
   "metadata": {},
   "outputs": [],
   "source": [
    "reader = rdr.reader\n",
    "# reader=\n",
    "\n",
    "cs = loci.formats.ChannelSeparator(rdr.reader)\n",
    "fs = loci.formats.Memoizer(rdr.reader)"
   ]
  },
  {
   "cell_type": "code",
   "execution_count": null,
   "metadata": {},
   "outputs": [],
   "source": [
    "v = meta.getPixelsPhysicalSizeY(0)\n",
    "v.value(), v.unit, ir.convert_value(v)"
   ]
  },
  {
   "cell_type": "code",
   "execution_count": null,
   "metadata": {},
   "outputs": [],
   "source": [
    "len(readlist), len(md.keys()), len(set(readlist)), len(set(md.keys())), set(\n",
    "    readlist\n",
    ") - ss, set(md.keys()) - ss"
   ]
  },
  {
   "cell_type": "code",
   "execution_count": null,
   "metadata": {},
   "outputs": [],
   "source": [
    "md, mdd = ir.read2(\n",
    "    img_tile,\n",
    ")"
   ]
  },
  {
   "cell_type": "code",
   "execution_count": null,
   "metadata": {},
   "outputs": [],
   "source": [
    "set(readlist) - set(md), set(md) - set(readlist)"
   ]
  },
  {
   "cell_type": "code",
   "execution_count": null,
   "metadata": {},
   "outputs": [],
   "source": [
    "md.keys(), readlist, md[\"FolderCount\"]"
   ]
  },
  {
   "cell_type": "code",
   "execution_count": null,
   "metadata": {},
   "outputs": [],
   "source": [
    "rdr, xml_md = ir.img_reader(img_tile)"
   ]
  },
  {
   "cell_type": "code",
   "execution_count": null,
   "metadata": {},
   "outputs": [],
   "source": [
    "rdr, xml_md = ir.img_reader(lif)"
   ]
  },
  {
   "cell_type": "code",
   "execution_count": null,
   "metadata": {},
   "outputs": [],
   "source": [
    "rdr.getMetadataStore()"
   ]
  },
  {
   "cell_type": "code",
   "execution_count": null,
   "metadata": {},
   "outputs": [],
   "source": [
    "[(k, v) for k, v in mdd.items() if k[:9] == \"getPixels\"]"
   ]
  },
  {
   "cell_type": "code",
   "execution_count": null,
   "metadata": {},
   "outputs": [],
   "source": [
    "%%timeit\n",
    "md, mdd = ir.get_md_dict(xml_md, img_tile)"
   ]
  },
  {
   "cell_type": "code",
   "execution_count": null,
   "metadata": {},
   "outputs": [],
   "source": [
    "class MetadataRetrieve(object):\n",
    "    \"\"\"This class is an interface to loci.formats.meta.MetadataRetrieve. At\n",
    "    initialization, it tests all the MetadataRetrieve functions and it only\n",
    "    binds the ones that do not raise a java exception.\n",
    "\n",
    "    Parameters\n",
    "    ----------\n",
    "    jmd: jpype._jclass.loci.formats.ome.OMEXMLMetadataImpl\n",
    "        java MetadataStore, instanciated with:\n",
    "            jmd = loci.formats.MetadataTools.createOMEXMLMetadata()\n",
    "        and coupled to reader with `rdr.setMetadataStore(metadata)`\n",
    "\n",
    "    Methods\n",
    "    ----------\n",
    "    <loci.formats.meta.MetadataRetrieve.function>(*args) : float or int or str\n",
    "        see loci.formats.meta.MetadataRetrieve API on openmicroscopy.org\n",
    "    \"\"\"\n",
    "\n",
    "    def __init__(self, md):\n",
    "        def wrap_md(fn, name=None, paramcount=None, *args):\n",
    "            if len(args) != paramcount:\n",
    "                # raise sensible error for wrong number of arguments\n",
    "                raise TypeError(\n",
    "                    (\"{0}() takes exactly {1} arguments ({2} \" + \"given)\").format(\n",
    "                        name, paramcount, len(args)\n",
    "                    )\n",
    "                )\n",
    "            field = fn(*args)\n",
    "\n",
    "            # deal with fields wrapped in a custom metadata type\n",
    "            if hasattr(field, \"value\"):\n",
    "                field = field.value\n",
    "            try:  # some fields have to be called\n",
    "                field = field()\n",
    "            except TypeError:\n",
    "                pass\n",
    "\n",
    "            # check if it is already casted to a python type by jpype\n",
    "            if not hasattr(field, \"toString\"):\n",
    "                return field\n",
    "            else:\n",
    "                field = field.toString()\n",
    "\n",
    "            # convert to int or float if possible\n",
    "            try:\n",
    "                return int(field)\n",
    "            except ValueError:\n",
    "                try:\n",
    "                    return float(field)\n",
    "                except ValueError:\n",
    "                    return field\n",
    "\n",
    "        self.fields = []\n",
    "\n",
    "        for name in dir(md):\n",
    "            if (name[:3] != \"get\") or (name in [\"getRoot\", \"getClass\"]):\n",
    "                continue\n",
    "            fn = getattr(md, name)\n",
    "            for paramcount in range(5):\n",
    "                try:\n",
    "                    field = fn(*((0,) * paramcount))\n",
    "                    if field is None:\n",
    "                        continue\n",
    "\n",
    "                    # If there is no exception, wrap the function and bind.\n",
    "                    def fnw(fn1=fn, naame=name, paramcount=paramcount):\n",
    "                        return lambda *args: wrap_md(fn1, naame, paramcount, *args)\n",
    "\n",
    "                    fnw = fnw()\n",
    "                    fnw.__doc__ = (\n",
    "                        \"loci.formats.meta.MetadataRetrieve.\"\n",
    "                        + name\n",
    "                        + \" wrapped\\nby JPype and an \"\n",
    "                        \"additional automatic typeconversion.\\n\\n\"\n",
    "                    )\n",
    "                    setattr(self, name[3:], fnw)\n",
    "                    self.fields.append(name[3:])\n",
    "                    continue\n",
    "                except:\n",
    "                    # function is not supported by this specific reader\n",
    "                    pass\n",
    "\n",
    "    def __repr__(self):\n",
    "        return (\n",
    "            \"<MetadataRetrieve> Available loci.formats.meta.\"\n",
    "            + \"MetadataRetrieve functions: \"\n",
    "            + \", \".join(self.fields)\n",
    "        )"
   ]
  },
  {
   "cell_type": "code",
   "execution_count": null,
   "metadata": {},
   "outputs": [],
   "source": [
    "mdat.PlaneDeltaT(0, 0)"
   ]
  },
  {
   "cell_type": "code",
   "execution_count": null,
   "metadata": {},
   "outputs": [],
   "source": [
    "mdr = MetadataRetrieve(\"ChannelAcquisitionMode\")\n",
    "mdr.ChannelAcquisitionMode(0, 0)"
   ]
  },
  {
   "cell_type": "code",
   "execution_count": null,
   "metadata": {},
   "outputs": [],
   "source": [
    "mdr = MetadataRetrieve(meta)\n",
    "mdr.ChannelAcquisitionMode(0, 0)"
   ]
  },
  {
   "cell_type": "code",
   "execution_count": null,
   "metadata": {},
   "outputs": [],
   "source": [
    "c = meta.getPixelsBinDataBigEndian(0, 10000)\n",
    "ir.convert_value(c.value)"
   ]
  },
  {
   "cell_type": "code",
   "execution_count": null,
   "metadata": {},
   "outputs": [],
   "source": [
    "ir.get_allvalues_grouped(meta, \"getPixelsBigEndian\", 1, True)"
   ]
  },
  {
   "cell_type": "code",
   "execution_count": null,
   "metadata": {},
   "outputs": [],
   "source": [
    "md, mdd = ir.get_md_dict(meta)\n",
    "len(md)"
   ]
  },
  {
   "cell_type": "code",
   "execution_count": null,
   "metadata": {},
   "outputs": [],
   "source": []
  },
  {
   "cell_type": "code",
   "execution_count": null,
   "metadata": {},
   "outputs": [],
   "source": [
    "import javabridge\n",
    "import bioformats\n",
    "\n",
    "javabridge.start_vm(class_path=bioformats.JARS)"
   ]
  },
  {
   "cell_type": "code",
   "execution_count": null,
   "metadata": {},
   "outputs": [],
   "source": [
    "%%timeit\n",
    "im.metadata.PlaneDeltaT(0, 7)"
   ]
  },
  {
   "cell_type": "code",
   "execution_count": null,
   "metadata": {},
   "outputs": [],
   "source": [
    "im = pims.open(img_tile)\n",
    "im.get_frame(3)"
   ]
  },
  {
   "cell_type": "code",
   "execution_count": null,
   "metadata": {},
   "outputs": [],
   "source": [
    "rdr, xml_md = ir.img_reader(\"/home/dan/pims/pims/tests/data/bioformats/cluster.nd2\")\n",
    "\n",
    "ht = rdr.getGlobalMetadata()"
   ]
  },
  {
   "cell_type": "code",
   "execution_count": null,
   "metadata": {},
   "outputs": [],
   "source": [
    "md, wr = ir.read2(\"/home/dan/pims/pims/tests/data/bioformats/cluster.nd2\")\n",
    "md"
   ]
  },
  {
   "cell_type": "code",
   "execution_count": null,
   "metadata": {},
   "outputs": [],
   "source": [
    "from imgread.read import convert_value"
   ]
  },
  {
   "cell_type": "code",
   "execution_count": null,
   "metadata": {},
   "outputs": [],
   "source": [
    "mdata.getPlaneDeltaT(0, 0)"
   ]
  },
  {
   "cell_type": "code",
   "execution_count": null,
   "metadata": {},
   "outputs": [],
   "source": [
    "root = mdata.getRoot()\n",
    "im0 = root.getImage(0)\n",
    "pixels = im0.getPixels()"
   ]
  },
  {
   "cell_type": "code",
   "execution_count": null,
   "metadata": {},
   "outputs": [],
   "source": [
    "import io\n",
    "plane = pixels.getPlane(3)\n",
    "\n",
    "output = io.StringIO()\n",
    "output.write(str(plane.getDeltaT()))\n",
    "contents = output.getvalue()\n",
    "output.close()"
   ]
  },
  {
   "cell_type": "code",
   "execution_count": null,
   "metadata": {},
   "outputs": [],
   "source": []
  },
  {
   "cell_type": "code",
   "execution_count": null,
   "metadata": {},
   "outputs": [],
   "source": [
    "output = io.StringIO()\n",
    "output.write(str(plane.getDeltaT()))\n",
    "contents = output.getvalue()\n",
    "output.close()\n",
    "contents"
   ]
  },
  {
   "cell_type": "code",
   "execution_count": null,
   "metadata": {},
   "outputs": [],
   "source": [
    "%%timeit\n",
    "\n",
    "import io\n",
    "\n",
    "output = io.StringIO()\n",
    "output.write(str(mdata.getLightPathExcitationFilterRef(0, 0, 0)))\n",
    "contents = output.getvalue()\n",
    "output.close()\n",
    "contents"
   ]
  },
  {
   "cell_type": "code",
   "execution_count": null,
   "metadata": {},
   "outputs": [],
   "source": [
    "md, missing_keys = ir.get_md_dict(mdata, img)"
   ]
  },
  {
   "cell_type": "code",
   "execution_count": null,
   "metadata": {},
   "outputs": [],
   "source": [
    "md[\"PixelsSizeZ\"]"
   ]
  },
  {
   "cell_type": "code",
   "execution_count": null,
   "metadata": {},
   "outputs": [],
   "source": [
    "getattr(mdata, \"getChannelExcitationWavelength\")(0, 1)"
   ]
  },
  {
   "cell_type": "markdown",
   "metadata": {
    "ein.tags": "worksheet-0",
    "slideshow": {
     "slide_type": "-"
    }
   },
   "source": [
    "### XML\n",
    "    getRoot is used in imgread-0.2.1"
   ]
  },
  {
   "cell_type": "code",
   "execution_count": null,
   "metadata": {
    "autoscroll": false,
    "ein.hycell": false,
    "ein.tags": "worksheet-0",
    "slideshow": {
     "slide_type": "-"
    }
   },
   "outputs": [],
   "source": [
    "ir.ensure_vm()\n",
    "md, wr = ir.read(img_tile)"
   ]
  },
  {
   "cell_type": "code",
   "execution_count": null,
   "metadata": {
    "autoscroll": false,
    "ein.hycell": false,
    "ein.tags": "worksheet-0",
    "slideshow": {
     "slide_type": "-"
    }
   },
   "outputs": [],
   "source": [
    "md"
   ]
  },
  {
   "cell_type": "code",
   "execution_count": null,
   "metadata": {},
   "outputs": [],
   "source": [
    "wrapper, mdata = ir.img_reader(img_tile)"
   ]
  },
  {
   "cell_type": "code",
   "execution_count": null,
   "metadata": {},
   "outputs": [],
   "source": [
    "root = mdata.getRoot()"
   ]
  },
  {
   "cell_type": "code",
   "execution_count": null,
   "metadata": {},
   "outputs": [],
   "source": [
    "instrument = root.getInstrument(0)\n",
    "detector = instrument.getDetector(0)\n",
    "detector.getModel()"
   ]
  },
  {
   "cell_type": "code",
   "execution_count": null,
   "metadata": {
    "autoscroll": false,
    "ein.hycell": false,
    "ein.tags": "worksheet-0",
    "slideshow": {
     "slide_type": "-"
    }
   },
   "outputs": [],
   "source": [
    "[m for m in root.methods if m[:3] == \"get\"]"
   ]
  },
  {
   "cell_type": "code",
   "execution_count": null,
   "metadata": {
    "autoscroll": false,
    "ein.hycell": false,
    "ein.tags": "worksheet-0",
    "slideshow": {
     "slide_type": "-"
    }
   },
   "outputs": [],
   "source": [
    "image = root.getImage(13)\n",
    "[m for m in image.methods if m[:3] == \"get\"]"
   ]
  },
  {
   "cell_type": "code",
   "execution_count": null,
   "metadata": {
    "autoscroll": false,
    "ein.hycell": false,
    "ein.tags": "worksheet-0",
    "slideshow": {
     "slide_type": "-"
    }
   },
   "outputs": [],
   "source": [
    "obj = image.getObjectiveSettings()\n",
    "[m for m in obj.methods if m[:3] == \"get\"]\n",
    "obj.getID()"
   ]
  },
  {
   "cell_type": "code",
   "execution_count": null,
   "metadata": {
    "autoscroll": false,
    "ein.hycell": false,
    "ein.tags": "worksheet-0",
    "slideshow": {
     "slide_type": "-"
    }
   },
   "outputs": [],
   "source": [
    "ch = pixels.getChannel(0)\n",
    "[m for m in ch.methods if m[:3] == \"get\"]"
   ]
  },
  {
   "cell_type": "code",
   "execution_count": null,
   "metadata": {
    "autoscroll": false,
    "ein.hycell": false,
    "ein.tags": "worksheet-0",
    "slideshow": {
     "slide_type": "-"
    }
   },
   "outputs": [],
   "source": [
    "lp = ch.getLightPath()\n",
    "[m for m in lp.methods if m[:3] == \"get\"]"
   ]
  },
  {
   "cell_type": "code",
   "execution_count": null,
   "metadata": {
    "autoscroll": false,
    "ein.hycell": false,
    "ein.tags": "worksheet-0",
    "slideshow": {
     "slide_type": "-"
    }
   },
   "outputs": [],
   "source": [
    "ex = lp.getLinkedExcitationFilter(0)\n",
    "[m for m in ex.methods if m[:3] == \"get\"]"
   ]
  },
  {
   "cell_type": "code",
   "execution_count": null,
   "metadata": {
    "autoscroll": false,
    "ein.hycell": false,
    "ein.tags": "worksheet-0",
    "slideshow": {
     "slide_type": "-"
    }
   },
   "outputs": [],
   "source": [
    "ex.getID()"
   ]
  },
  {
   "cell_type": "code",
   "execution_count": null,
   "metadata": {
    "autoscroll": false,
    "ein.hycell": false,
    "ein.tags": "worksheet-0",
    "slideshow": {
     "slide_type": "-"
    }
   },
   "outputs": [],
   "source": [
    "pixels = image.getPixels()\n",
    "[m for m in pixels.methods if m[:3] == \"get\"]"
   ]
  },
  {
   "cell_type": "code",
   "execution_count": null,
   "metadata": {
    "autoscroll": false,
    "ein.hycell": false,
    "ein.tags": "worksheet-0",
    "slideshow": {
     "slide_type": "-"
    }
   },
   "outputs": [],
   "source": [
    "pixels.getTimeIncrement()"
   ]
  },
  {
   "cell_type": "code",
   "execution_count": null,
   "metadata": {
    "autoscroll": false,
    "ein.hycell": false,
    "ein.tags": "worksheet-0",
    "slideshow": {
     "slide_type": "-"
    }
   },
   "outputs": [],
   "source": [
    "plane = pixels.getPlane(11)\n",
    "[m for m in plane.methods if m[:3] == \"get\"]"
   ]
  },
  {
   "cell_type": "code",
   "execution_count": null,
   "metadata": {
    "autoscroll": false,
    "ein.hycell": false,
    "ein.tags": "worksheet-0",
    "slideshow": {
     "slide_type": "-"
    }
   },
   "outputs": [],
   "source": [
    "plane.getTheC(), plane.getDeltaT(), plane.getExposureTime()"
   ]
  },
  {
   "cell_type": "code",
   "execution_count": null,
   "metadata": {
    "autoscroll": false,
    "ein.hycell": false,
    "ein.tags": "worksheet-0",
    "slideshow": {
     "slide_type": "-"
    }
   },
   "outputs": [],
   "source": [
    "for k in root.methods:\n",
    "    if k[:3] == \"get\":\n",
    "        print(k)"
   ]
  },
  {
   "cell_type": "code",
   "execution_count": null,
   "metadata": {
    "autoscroll": false,
    "ein.hycell": false,
    "ein.tags": "worksheet-0",
    "slideshow": {
     "slide_type": "-"
    }
   },
   "outputs": [],
   "source": [
    "root.getInstrument(0).getDetector(0).getModel()"
   ]
  },
  {
   "cell_type": "code",
   "execution_count": null,
   "metadata": {
    "autoscroll": false,
    "ein.hycell": false,
    "ein.tags": "worksheet-0",
    "slideshow": {
     "slide_type": "-"
    }
   },
   "outputs": [],
   "source": [
    "mdata.getExperimentID(0)"
   ]
  },
  {
   "cell_type": "code",
   "execution_count": null,
   "metadata": {
    "autoscroll": false,
    "ein.hycell": false,
    "ein.tags": "worksheet-0",
    "slideshow": {
     "slide_type": "-"
    }
   },
   "outputs": [],
   "source": [
    "root.getExperiment(0)"
   ]
  },
  {
   "cell_type": "code",
   "execution_count": null,
   "metadata": {
    "autoscroll": false,
    "ein.hycell": false,
    "ein.tags": "worksheet-0",
    "slideshow": {
     "slide_type": "-"
    }
   },
   "outputs": [],
   "source": [
    "im = root.getImage(0)\n",
    "obj = im.getObjectiveSettings()\n",
    "obj.getID(), obj.getMedium(), obj.getRefractiveIndex(), obj.getCorrectionCollar(), obj.getObjective()"
   ]
  },
  {
   "cell_type": "code",
   "execution_count": null,
   "metadata": {
    "autoscroll": false,
    "ein.hycell": false,
    "ein.tags": "worksheet-0",
    "slideshow": {
     "slide_type": "-"
    }
   },
   "outputs": [],
   "source": [
    "mdata.getObjectiveID(0, 0) == obj.getID(), mdata.getObjectiveLensNA(0, 0)"
   ]
  },
  {
   "cell_type": "markdown",
   "metadata": {
    "ein.tags": "worksheet-0",
    "slideshow": {
     "slide_type": "-"
    }
   },
   "source": [
    "## md vs root (to remember)\n",
    "\n",
    "from md i can get info on camera, objetives ...\n",
    "\n",
    "but also key parameters like exposuretime, DeltaT, planePositionXYZ"
   ]
  },
  {
   "cell_type": "code",
   "execution_count": null,
   "metadata": {
    "autoscroll": false,
    "ein.hycell": false,
    "ein.tags": "worksheet-0",
    "scrolled": true,
    "slideshow": {
     "slide_type": "-"
    }
   },
   "outputs": [],
   "source": [
    "metadata=mdata\n",
    "# might be used to check if metadata are the same for all series\n",
    "(\n",
    "    metadata.getObjectiveCount(0),\n",
    "    metadata.getObjectiveImmersion(0, 0),\n",
    "    metadata.getPixelsDimensionOrder(0),\n",
    "    metadata.getPixelsPhysicalSizeX(0),\n",
    "    # metadata.getTiffDataIFD(0, 5), only fei\n",
    "    metadata.getObjectiveLensNA(0, 0),\n",
    "    metadata.getChannelCount(0),\n",
    "    metadata.getDetectorSettingsBinning(0, 1),  # serie, channel\n",
    "    metadata.getDetectorModel(0, 0),\n",
    "    metadata.getDetectorType(0, 0),\n",
    "    metadata.getTiffDataCount(0),\n",
    "    metadata.getPlaneExposureTime(0, 1),  # none.value() catch this error with try\n",
    "    metadata.getPlaneDeltaT(0, 2).value(),\n",
    "    metadata.getPlaneDeltaT(0, 33).value().doubleValue(),\n",
    "    metadata.getPlanePositionX(0, 0),\n",
    "    metadata.getScreenCount(),\n",
    "    # metadata.getXMLAnnotationCount(),\n",
    ")\n",
    "# cerca tutti i ...Count()"
   ]
  },
  {
   "cell_type": "code",
   "execution_count": null,
   "metadata": {
    "autoscroll": false,
    "ein.hycell": false,
    "ein.tags": "worksheet-0",
    "slideshow": {
     "slide_type": "-"
    }
   },
   "outputs": [],
   "source": [
    "metadata.getXMLAnnotationValue(\n",
    "    0\n",
    ") == metadata.getRoot().getStructuredAnnotations().getXMLAnnotation(0).getValue()"
   ]
  },
  {
   "cell_type": "code",
   "execution_count": null,
   "metadata": {
    "autoscroll": false,
    "ein.hycell": false,
    "ein.tags": "worksheet-0",
    "slideshow": {
     "slide_type": "-"
    }
   },
   "outputs": [],
   "source": [
    "md = bioformats.get_omexml_metadata(lif)\n",
    "from xml.etree import ElementTree as ETree\n",
    "\n",
    "mdroot = ETree.fromstring(metadata.dumpXML())\n",
    "mdroot = ETree.fromstring(\n",
    "    metadata.getRoot().getStructuredAnnotations().getXMLAnnotation(0).getValue()\n",
    ")\n",
    "# mdroot = ETree.fromstring(md)\n",
    "\n",
    "for a in mdroot:\n",
    "    print((a.tag, a.attrib))\n",
    "    for aa in a:\n",
    "        print((\" GGSSS \", aa.tag, aa.attrib))\n",
    "        for aaa in aa:\n",
    "            print((\" GGSSS2 \", aaa.tag, aaa.attrib))"
   ]
  },
  {
   "cell_type": "code",
   "execution_count": null,
   "metadata": {
    "autoscroll": false,
    "ein.hycell": false,
    "ein.tags": "worksheet-0",
    "slideshow": {
     "slide_type": "-"
    }
   },
   "outputs": [],
   "source": [
    "import xmltodict\n",
    "\n",
    "m1 = xmltodict.parse(metadata.dumpXML())\n",
    "m2 = xmltodict.parse(bioformats.get_omexml_metadata(img_tile))\n",
    "m2[\"OME\"]"
   ]
  },
  {
   "cell_type": "code",
   "execution_count": null,
   "metadata": {
    "autoscroll": false,
    "ein.hycell": false,
    "ein.tags": "worksheet-0",
    "slideshow": {
     "slide_type": "-"
    }
   },
   "outputs": [],
   "source": [
    "metalist = [\n",
    "    (child.tag, [[child.attrib]])\n",
    "    for child in ETree.fromstring(metadata.dumpXML()).iter()\n",
    "]"
   ]
  },
  {
   "cell_type": "code",
   "execution_count": null,
   "metadata": {
    "autoscroll": false,
    "ein.hycell": false,
    "ein.tags": "worksheet-0",
    "slideshow": {
     "slide_type": "-"
    }
   },
   "outputs": [],
   "source": [
    "m = metalist[10]\n",
    "m[0], m[1][0][0]"
   ]
  },
  {
   "cell_type": "code",
   "execution_count": null,
   "metadata": {
    "autoscroll": false,
    "ein.hycell": false,
    "ein.tags": "worksheet-0",
    "slideshow": {
     "slide_type": "-"
    }
   },
   "outputs": [],
   "source": [
    "for child in mdroot:\n",
    "    if child.tag.endswith(\"\"):\n",
    "        for grandchild in child:\n",
    "            print((grandchild.tag, grandchild.attrib))"
   ]
  },
  {
   "cell_type": "code",
   "execution_count": null,
   "metadata": {
    "autoscroll": false,
    "ein.hycell": false,
    "ein.tags": "worksheet-1",
    "slideshow": {
     "slide_type": "-"
    }
   },
   "outputs": [],
   "source": []
  }
 ],
 "metadata": {
  "kernelspec": {
   "display_name": "Python 3 (ipykernel)",
   "language": "python",
   "name": "python3"
  },
  "language_info": {
   "codemirror_mode": {
    "name": "ipython",
    "version": 3
   },
   "file_extension": ".py",
   "mimetype": "text/x-python",
   "name": "python",
   "nbconvert_exporter": "python",
   "pygments_lexer": "ipython3",
   "version": "3.10.13"
  },
  "name": "general_reading_and_development.ipynb"
 },
 "nbformat": 4,
 "nbformat_minor": 4
}
