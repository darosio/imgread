{
 "cells": [
  {
   "cell_type": "markdown",
   "metadata": {},
   "source": [
    "## Jpype"
   ]
  },
  {
   "cell_type": "code",
   "execution_count": null,
   "metadata": {
    "autoscroll": false,
    "ein.hycell": false,
    "ein.tags": "worksheet-0",
    "slideshow": {
     "slide_type": "-"
    }
   },
   "outputs": [],
   "source": [
    "%load_ext autoreload\n",
    "%autoreload 2\n",
    "import nima_io\n",
    "import nima_io.read as ir\n",
    "\n",
    "# import skimage.io\n",
    "# import matplotlib\n",
    "# import matplotlib.pyplot as plt\n",
    "# %matplotlib inline\n",
    "# nd2 = \"/home/dan/pims/pims/tests/data/bioformats/cluster.nd2\"\n",
    "import numpy as np\n",
    "from pathlib import Path\n",
    "\n",
    "tdata = Path(\"../../tests/data/\")\n",
    "\n",
    "lif = tdata / \"2015Aug28_TransHXB2_50min+DMSO.lif\"\n",
    "img_tile = tdata / \"t4_1.tif\"  # C=3 T=4 S=15\n",
    "img_void_tile = tdata / \"tile6_1.tif\"  # C=4 T=3 S=14 scattered\n",
    "imgsingle = tdata / \"exp2_2.tif\"  # C=2 T=81\n",
    "\n",
    "mcts = tdata / \"multi-channel-time-series.ome.tif\"  # C=3 T=7\n",
    "bigtiff = tdata / \"LC26GFP_1.tf8\"  # bigtiff\n",
    "\n",
    "slif = str(lif)\n",
    "simg_tile = str(img_tile)\n",
    "simg_void_tile = str(img_void_tile)\n",
    "simgsingle = str(imgsingle)\n",
    "smcts = str(mcts)\n",
    "sbigtiff = str(bigtiff)"
   ]
  },
  {
   "cell_type": "markdown",
   "metadata": {
    "autoscroll": false,
    "ein.hycell": false,
    "ein.tags": "worksheet-0",
    "slideshow": {
     "slide_type": "-"
    }
   },
   "source": [
    "Core metadata list at:\n",
    "https://docs.openmicroscopy.org/bio-formats/5.9.1/developers/file-reader.html\n",
    "\n"
   ]
  },
  {
   "cell_type": "code",
   "execution_count": null,
   "metadata": {},
   "outputs": [],
   "source": [
    "from six.moves.urllib.request import urlopen\n",
    "import hashlib, os\n",
    "\n",
    "url = (\n",
    "    \"http://downloads.openmicroscopy.org/bio-formats/\"\n",
    "    + \"5.9.0\"\n",
    "    + \"/artifacts/loci_tools.jar\"\n",
    ")\n",
    "loc = \".\"\n",
    "path = os.path.join(loc, \"loci_tools.jar\")\n",
    "loci_tools = urlopen(url).read()\n",
    "sha1_checksum = urlopen(url + \".sha1\").read().split(b\" \")[0].decode()\n",
    "\n",
    "downloaded = hashlib.sha1(loci_tools).hexdigest()\n",
    "if downloaded != sha1_checksum:\n",
    "    raise IOError(\n",
    "        \"Downloaded loci_tools.jar has invalid checksum. \" \"Please try again.\"\n",
    "    )\n",
    "\n",
    "with open(path, \"wb\") as output:\n",
    "    output.write(loci_tools)"
   ]
  },
  {
   "cell_type": "code",
   "execution_count": null,
   "metadata": {},
   "outputs": [],
   "source": [
    "import jpype\n",
    "\n",
    "# loci_path = '/home/dan/.venvs/imgread-dev/lib/python3.6/site-packages/pims/loci_tools.jar'\n",
    "# loci_path = '/home/dan/.progs/bftools/bioformats_package.jar'\n",
    "loci_path = \"./loci_tools.jar\"\n",
    "java_memory = \"512m\"\n",
    "\n",
    "jpype.startJVM(\n",
    "    jpype.getDefaultJVMPath(),\n",
    "    \"-ea\",\n",
    "    \"-Djava.class.path=\" + loci_path,\n",
    "    \"-Xmx\" + java_memory,\n",
    ")"
   ]
  },
  {
   "cell_type": "code",
   "execution_count": null,
   "metadata": {},
   "outputs": [],
   "source": [
    "filepath = simg_void_tile\n",
    "loci = jpype.JPackage(\"loci\")\n",
    "rdr = loci.formats.ImageReader()\n",
    "rdr.setMetadataStore(loci.formats.MetadataTools.createOMEXMLMetadata())\n",
    "rdr.setId(filepath)\n",
    "xml_md = rdr.getMetadataStore()"
   ]
  },
  {
   "cell_type": "code",
   "execution_count": null,
   "metadata": {},
   "outputs": [],
   "source": [
    "md, mdd = ir.get_md_dict(xml_md, debug=True)\n",
    "md"
   ]
  },
  {
   "cell_type": "code",
   "execution_count": null,
   "metadata": {},
   "outputs": [],
   "source": [
    "print(md[\"ImageCount\"][0][1], md[\"PlaneCount\"])\n",
    "print(md[\"PlanePositionX\"][3][1][0])\n",
    "print(md[\"ImageAcquisitionDate\"])\n",
    "print(md[\"PixelsPhysicalSizeX\"][0][1][0])\n",
    "print(md[\"PixelsType\"][0][1])\n",
    "\n",
    "print(md[\"PlanePositionZ\"])"
   ]
  },
  {
   "cell_type": "code",
   "execution_count": null,
   "metadata": {},
   "outputs": [],
   "source": [
    "md0, rdrdt = ir.read_jpype(simg_tile)\n",
    "rdrdt, md0"
   ]
  },
  {
   "cell_type": "code",
   "execution_count": null,
   "metadata": {},
   "outputs": [],
   "source": [
    "mmd = rdrdt[2]"
   ]
  },
  {
   "cell_type": "code",
   "execution_count": null,
   "metadata": {},
   "outputs": [],
   "source": [
    "mmd[\"ArcType\"]"
   ]
  },
  {
   "cell_type": "code",
   "execution_count": null,
   "metadata": {},
   "outputs": [],
   "source": [
    "rdr = rdrdt[0]"
   ]
  },
  {
   "cell_type": "code",
   "execution_count": null,
   "metadata": {},
   "outputs": [],
   "source": [
    "rdr.getPixelType(), rdr.getDimensionOrder(),"
   ]
  },
  {
   "cell_type": "code",
   "execution_count": null,
   "metadata": {},
   "outputs": [],
   "source": [
    "r = rdr.getMetadataStoreRoot()"
   ]
  },
  {
   "cell_type": "code",
   "execution_count": null,
   "metadata": {},
   "outputs": [],
   "source": [
    "reader = rdr.getReader()"
   ]
  },
  {
   "cell_type": "code",
   "execution_count": null,
   "metadata": {},
   "outputs": [],
   "source": [
    "r.getImage"
   ]
  },
  {
   "cell_type": "code",
   "execution_count": null,
   "metadata": {},
   "outputs": [],
   "source": [
    "rdr.getIndex(0, 3, 2)"
   ]
  },
  {
   "cell_type": "code",
   "execution_count": null,
   "metadata": {},
   "outputs": [],
   "source": [
    "# loci = jpype.JPackage(\"loci\")\n",
    "\n",
    "isLittleEndian = rdr.isLittleEndian()\n",
    "LE_prefix = [\">\", \"<\"][isLittleEndian]\n",
    "FormatTools = loci.formats.FormatTools\n",
    "_dtype_dict = {\n",
    "    FormatTools.INT8: \"i1\",\n",
    "    FormatTools.UINT8: \"u1\",\n",
    "    FormatTools.INT16: LE_prefix + \"i2\",\n",
    "    FormatTools.UINT16: LE_prefix + \"u2\",\n",
    "    FormatTools.INT32: LE_prefix + \"i4\",\n",
    "    FormatTools.UINT32: LE_prefix + \"u4\",\n",
    "    FormatTools.FLOAT: LE_prefix + \"f4\",\n",
    "    FormatTools.DOUBLE: LE_prefix + \"f8\",\n",
    "}\n",
    "_dtype_dict_java = {}\n",
    "for loci_format in _dtype_dict.keys():\n",
    "    _dtype_dict_java[loci_format] = (\n",
    "        FormatTools.getBytesPerPixel(loci_format),\n",
    "        FormatTools.isFloatingPoint(loci_format),\n",
    "        isLittleEndian,\n",
    "    )\n",
    "# above duplicated"
   ]
  },
  {
   "cell_type": "code",
   "execution_count": null,
   "metadata": {},
   "outputs": [],
   "source": [
    "def _jbytearr_javacasting(arr, dtype, bpp, fp, little_endian):\n",
    "    # let java do the type conversion\n",
    "    Jconv = loci.common.DataTools.makeDataArray(arr, bpp, fp, little_endian)\n",
    "    return np.array(Jconv[:], dtype=dtype)\n",
    "\n",
    "\n",
    "dtype = float\n",
    "\n",
    "java_dtype = _dtype_dict_java[rdr.getPixelType()]\n",
    "a_jbytearr_javacasting = lambda arr: _jbytearr_javacasting(arr, dtype, *java_dtype)\n",
    "a_jbytearr_javacasting([1, 2])"
   ]
  },
  {
   "cell_type": "code",
   "execution_count": null,
   "metadata": {},
   "outputs": [],
   "source": [
    "a_jbytearr_javacasting(rdr.openBytes(0)).shape"
   ]
  },
  {
   "cell_type": "code",
   "execution_count": null,
   "metadata": {},
   "outputs": [],
   "source": [
    "cs = loci.formats.ChannelSeparator(reader)\n",
    "fs = loci.formats.Memoizer(reader)"
   ]
  },
  {
   "cell_type": "code",
   "execution_count": null,
   "metadata": {},
   "outputs": [],
   "source": []
  },
  {
   "cell_type": "code",
   "execution_count": null,
   "metadata": {},
   "outputs": [],
   "source": [
    "v = xml_md.getPixelsPhysicalSizeY(0)\n",
    "v.value(), v.unit, ir.convert_value(v)"
   ]
  },
  {
   "cell_type": "code",
   "execution_count": null,
   "metadata": {},
   "outputs": [],
   "source": [
    "rdr.getMetadataStore()"
   ]
  },
  {
   "cell_type": "code",
   "execution_count": null,
   "metadata": {},
   "outputs": [],
   "source": [
    "[(k, v) for k, v in mdd.items() if k[:9] == \"getPixels\"]"
   ]
  },
  {
   "cell_type": "code",
   "execution_count": null,
   "metadata": {},
   "outputs": [],
   "source": []
  },
  {
   "cell_type": "code",
   "execution_count": null,
   "metadata": {},
   "outputs": [],
   "source": [
    "md_, mdd_ = ir.get_md_dict(xml_md, simg_tile)\n",
    "md"
   ]
  },
  {
   "cell_type": "code",
   "execution_count": null,
   "metadata": {},
   "outputs": [],
   "source": [
    "for k in md_:\n",
    "    if md_[k] != md[k]:\n",
    "        print(md_[k], md[k])"
   ]
  }
 ],
 "metadata": {
  "kernelspec": {
   "display_name": "Python 3 (ipykernel)",
   "language": "python",
   "name": "python3"
  },
  "language_info": {
   "codemirror_mode": {
    "name": "ipython",
    "version": 3
   },
   "file_extension": ".py",
   "mimetype": "text/x-python",
   "name": "python",
   "nbconvert_exporter": "python",
   "pygments_lexer": "ipython3",
   "version": "3.10.13"
  },
  "name": "general_reading_and_development.ipynb"
 },
 "nbformat": 4,
 "nbformat_minor": 4
}
