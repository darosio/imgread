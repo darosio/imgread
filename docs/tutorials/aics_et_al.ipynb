{
 "cells": [
  {
   "cell_type": "markdown",
   "id": "5b631045-a739-4722-82eb-2af8cee4500f",
   "metadata": {},
   "source": [
    "## Import and Data Path Assignment\n",
    "\n",
    "To begin our analysis, we first need to import the necessary libraries and assign the path to our data files. This step ensures that we have access to the tools and resources required for the subsequent tasks.\n",
    "\n",
    "Let's get started by executing the following code:"
   ]
  },
  {
   "cell_type": "code",
   "execution_count": null,
   "id": "5a23c9e2-cb1e-4518-9ca1-d12e03722461",
   "metadata": {},
   "outputs": [],
   "source": [
    "%load_ext autoreload\n",
    "%autoreload 2\n",
    "\n",
    "%load_ext line_profiler\n",
    "%load_ext memory_profiler\n",
    "\n",
    "import matplotlib.pyplot as plt\n",
    "import skimage.io\n",
    "import numpy as np\n",
    "import tifffile\n",
    "\n",
    "import nima_io.read as ir\n",
    "\n",
    "from pathlib import Path\n",
    "\n",
    "tdata = Path(\"../../tests/data/\")\n",
    "\n",
    "lif = tdata / \"2015Aug28_TransHXB2_50min+DMSO.lif\"\n",
    "img_tile = tdata / \"t4_1.tif\"  # C=3 T=4 S=15\n",
    "img_void_tile = tdata / \"tile6_1.tif\"  # C=4 T=3 S=14 scattered\n",
    "imgsingle = tdata / \"exp2_2.tif\"  # C=2 T=81\n",
    "\n",
    "mcts = tdata / \"multi-channel-time-series.ome.tif\"  # C=3 T=7\n",
    "bigtiff = tdata / \"LC26GFP_1.tf8\"  # bigtiff\n",
    "\n",
    "slif = str(lif)\n",
    "simg_tile = str(img_tile)\n",
    "simg_void_tile = str(img_void_tile)\n",
    "simgsingle = str(imgsingle)\n",
    "smcts = str(mcts)\n",
    "sbigtiff = str(bigtiff)"
   ]
  },
  {
   "cell_type": "markdown",
   "id": "b23a791c-1080-4e38-bc12-f5d53eca2c2e",
   "metadata": {},
   "source": [
    "So, we have few options to open microscopy datafiles:\n",
    "\n",
    "- skimage.io.imread\n",
    "- skimage.io.imread_collection\n",
    "- tifffile.TiffFile\n",
    "- tifffile.TiffSequence\n",
    "- bioformats.ImageReader\n",
    "\n",
    "Imagej hyperstack are organized as **TZCYXS**.\n",
    "\n",
    "Holoview can also be used. Check availability of reading from disk a la memmap.\n",
    "\n",
    "Bioformats claims the following standard: separate tiff for each channel and for each time point.\n",
    "Thus a ome.tif would contain a single plane or a zstack. \n",
    "\n",
    "What about tiles? Bioformats has some 6D, 7D and 8D working aroud 5D. But how is exactly defined 5D?"
   ]
  },
  {
   "cell_type": "markdown",
   "id": "cd09e9ee-e0a4-46ae-b04e-3411cc356dc8",
   "metadata": {},
   "source": [
    "## Skimage and Tifffile"
   ]
  },
  {
   "cell_type": "code",
   "execution_count": null,
   "id": "3d1b7d1a-27b9-417e-b974-dfed3dff625d",
   "metadata": {},
   "outputs": [],
   "source": [
    "t1 = skimage.io.imread(img_tile, plugin='tifffile')\n",
    "t2 = skimage.io.imread(img_void_tile, plugin='tifffile')\n",
    "t1.shape, t2.shape"
   ]
  },
  {
   "cell_type": "code",
   "execution_count": null,
   "id": "1ca4cfa8-8e52-4e23-9924-db71af66b75f",
   "metadata": {},
   "outputs": [],
   "source": [
    "tf1 = tifffile.imread(img_tile)\n",
    "tf2 = tifffile.imread(img_void_tile)\n",
    "tf1.shape, tf2.shape"
   ]
  },
  {
   "cell_type": "markdown",
   "id": "0cde09f8-0896-42fd-ab9c-ef3f70a1393b",
   "metadata": {},
   "source": [
    "Only for tiff data files provides:\n",
    "\n",
    "- sequence\n",
    "- OME metadata\n",
    "- memmap\n",
    "- zarr"
   ]
  },
  {
   "cell_type": "code",
   "execution_count": null,
   "id": "1b11f1b2-cb32-4e05-aedf-706fbccf9fbe",
   "metadata": {},
   "outputs": [],
   "source": [
    "fp1glob = '/home/dati/liaisan/data/260816/FLAT/cyan_em10/cyan_em10_p*.tif'\n",
    "tifs = tifffile.TiffSequence(fp1glob)\n",
    "d = tifs.asarray()\n",
    "print(d.shape) \n",
    "print(tifs.shape)"
   ]
  },
  {
   "cell_type": "code",
   "execution_count": null,
   "id": "05781629-a043-4ce5-990c-06c0f4a10aac",
   "metadata": {},
   "outputs": [],
   "source": [
    "with tifffile.TiffFile(img_tile) as tif:\n",
    "    tag = tif.pages[0].tags['ImageDescription']\n",
    "    \n",
    "tag.value"
   ]
  },
  {
   "cell_type": "markdown",
   "id": "9745c848-db39-4deb-afcd-0568e9a26d49",
   "metadata": {},
   "source": [
    "## nima_io.read"
   ]
  },
  {
   "cell_type": "code",
   "execution_count": null,
   "id": "6ea6bcdc-fead-4212-b340-8fed02b1c08f",
   "metadata": {},
   "outputs": [],
   "source": [
    "ir.ensure_vm()"
   ]
  },
  {
   "cell_type": "code",
   "execution_count": null,
   "id": "a45898ba-19f0-4489-b468-9d0172ed4424",
   "metadata": {},
   "outputs": [],
   "source": [
    "%%timeit\n",
    "r = ir.read(simg_void_tile)"
   ]
  },
  {
   "cell_type": "code",
   "execution_count": null,
   "id": "41f193b1-217b-493d-a70a-d1d97a1dfb2c",
   "metadata": {},
   "outputs": [],
   "source": [
    "r"
   ]
  },
  {
   "cell_type": "code",
   "execution_count": null,
   "id": "265efb49-476f-499c-bec3-5b48c80be1ae",
   "metadata": {
    "scrolled": true
   },
   "outputs": [],
   "source": [
    "%%timeit\n",
    "#md2, wr2, mdd2 = ir.read2(simg_void_tile,True)\n",
    "r2 = ir.read2(simg_void_tile)"
   ]
  },
  {
   "cell_type": "code",
   "execution_count": null,
   "id": "674ed41d-2848-42a2-bd6c-fe50b04db3b9",
   "metadata": {},
   "outputs": [],
   "source": [
    "r2[0]"
   ]
  },
  {
   "cell_type": "code",
   "execution_count": null,
   "id": "c5cd66ec-4db1-4c9a-84cf-4910d2924a15",
   "metadata": {},
   "outputs": [],
   "source": [
    "%%timeit\n",
    "rinf = ir.read_inf(img_void_tile)"
   ]
  },
  {
   "cell_type": "code",
   "execution_count": null,
   "id": "b00c1115-12fe-445f-8677-12a009f79abb",
   "metadata": {},
   "outputs": [],
   "source": [
    "rinf = ir.read_inf(img_void_tile)\n",
    "rinf"
   ]
  },
  {
   "cell_type": "code",
   "execution_count": null,
   "id": "48f31869-a138-4d88-b29c-6721e4e449bc",
   "metadata": {},
   "outputs": [],
   "source": [
    "wr2 == wr"
   ]
  },
  {
   "cell_type": "code",
   "execution_count": null,
   "id": "37d81bda-07c9-4324-9c0a-8b0862a2acba",
   "metadata": {},
   "outputs": [],
   "source": [
    "import json\n",
    "\n",
    "with open('md2.json', 'w') as f:\n",
    "       json.dump(md2, f, indent=2)\n",
    "\n",
    "with open('md2.json', 'r') as f:\n",
    "       loaded_dict = json.load(f)"
   ]
  },
  {
   "cell_type": "code",
   "execution_count": null,
   "id": "bdcc1981-cdf2-456c-b22d-1489986a0a61",
   "metadata": {},
   "outputs": [],
   "source": [
    "np.save('md2.npy', md2)"
   ]
  },
  {
   "cell_type": "code",
   "execution_count": null,
   "id": "8d3f7e74-aa9a-4c1a-bac1-8d34c288e033",
   "metadata": {},
   "outputs": [],
   "source": [
    "read_dictionary = np.load('md2.npy', allow_pickle=True).item()"
   ]
  },
  {
   "cell_type": "code",
   "execution_count": null,
   "id": "6f4d01aa-4ea1-48f6-bbb7-2542b8910bc4",
   "metadata": {},
   "outputs": [],
   "source": [
    "ir.get_md_dict(md_xml)"
   ]
  },
  {
   "cell_type": "code",
   "execution_count": null,
   "id": "400d046f-b210-4e8b-8ae0-1143eac40194",
   "metadata": {},
   "outputs": [],
   "source": [
    "mdJ, wrJ = ir.read_jpype(simg_void_tile)"
   ]
  },
  {
   "cell_type": "code",
   "execution_count": null,
   "id": "f245e3d5-a1fa-476e-b572-00d90029ce3f",
   "metadata": {},
   "outputs": [],
   "source": [
    "sorted_dict = {k: read_dictionary[k] for k in sorted(read_dictionary.keys())}\n",
    "sorted_dictJ = {k: wrJ[2][k] for k in sorted(wrJ[2].keys())}"
   ]
  },
  {
   "cell_type": "code",
   "execution_count": null,
   "id": "7b61e539-7ac2-4f60-a76b-4e53333fad15",
   "metadata": {},
   "outputs": [],
   "source": [
    "sorted(wrJ[2].keys()) == sorted(read_dictionary.keys())"
   ]
  },
  {
   "cell_type": "code",
   "execution_count": null,
   "id": "228bc1bf-5a41-491a-94f4-d3aad95611bb",
   "metadata": {},
   "outputs": [],
   "source": [
    "read_dictionary.keys() - wrJ[2].keys()"
   ]
  },
  {
   "cell_type": "code",
   "execution_count": null,
   "id": "56192c9f-6b5b-45d4-bc37-60350f1000e3",
   "metadata": {},
   "outputs": [],
   "source": [
    "read_dictionary[\"Format\"]"
   ]
  },
  {
   "cell_type": "code",
   "execution_count": null,
   "id": "59f3a1ed-a036-4a35-82ac-259f4d294ff0",
   "metadata": {},
   "outputs": [],
   "source": [
    "read_dictionary.pop(\"Format\")"
   ]
  },
  {
   "cell_type": "code",
   "execution_count": null,
   "id": "12eff48a-db52-41cc-b8d8-8d18f73f81b8",
   "metadata": {},
   "outputs": [],
   "source": [
    "len(read_dictionary.keys() == "
   ]
  },
  {
   "cell_type": "code",
   "execution_count": null,
   "id": "ea45bd88-9c45-4f39-b7fc-e957bb77c784",
   "metadata": {},
   "outputs": [],
   "source": [
    "sorted_dict = {k: read_dictionary[k] for k in sorted(read_dictionary.keys())}\n",
    "for k in sorted_dict:\n",
    "    if not sorted_dict[k] == sorted_dictJ[k]:\n",
    "        print(k)"
   ]
  },
  {
   "cell_type": "code",
   "execution_count": null,
   "id": "6dc29b8a-012e-489d-bf3c-863d2b2509b5",
   "metadata": {},
   "outputs": [],
   "source": [
    "print(read_dictionary[\"ChannelLightSourceSettingsAttenuation\"], wrJ[2][\"ChannelLightSourceSettingsAttenuation\"])\n",
    "print(read_dictionary[\"PixelsBigEndian\"], wrJ[2][\"PixelsBigEndian\"])\n",
    "print(read_dictionary[\"PixelsInterleaved\"], wrJ[2][\"PixelsInterleaved\"])"
   ]
  },
  {
   "cell_type": "code",
   "execution_count": null,
   "id": "536bc32d-1404-42e3-a25d-20e305801d34",
   "metadata": {},
   "outputs": [],
   "source": [
    "%%timeit\n",
    "rbf = ir.read_bf(simg_void_tile)"
   ]
  },
  {
   "cell_type": "code",
   "execution_count": null,
   "id": "2c31baec-85ac-4c7c-b863-b33019d2b937",
   "metadata": {},
   "outputs": [],
   "source": [
    "rbf"
   ]
  },
  {
   "cell_type": "code",
   "execution_count": null,
   "id": "996c4847-addc-4265-af56-6a1087d72621",
   "metadata": {},
   "outputs": [],
   "source": [
    "%%timeit\n",
    "rjb = ir.read_jb(simg_void_tile)"
   ]
  },
  {
   "cell_type": "code",
   "execution_count": null,
   "id": "97023b5a-69d6-4444-a486-3601763516ce",
   "metadata": {},
   "outputs": [],
   "source": [
    "rjb"
   ]
  },
  {
   "cell_type": "code",
   "execution_count": null,
   "id": "64022483-6104-4d53-9e96-19fc2277bde6",
   "metadata": {},
   "outputs": [],
   "source": [
    "%timeit rrw = ir.read_wrap(simg_void_tile)"
   ]
  },
  {
   "cell_type": "code",
   "execution_count": null,
   "id": "196b3e64-b8bb-413f-8e65-6ce046dcf516",
   "metadata": {},
   "outputs": [],
   "source": [
    "rrw"
   ]
  },
  {
   "cell_type": "markdown",
   "id": "98e5d9de-4b62-476e-86f0-e5d60ab91b2e",
   "metadata": {},
   "source": [
    "### PIMS"
   ]
  },
  {
   "cell_type": "code",
   "execution_count": null,
   "id": "994a0cdf-0bc9-455e-bcab-6a9d13688d4c",
   "metadata": {},
   "outputs": [],
   "source": [
    "%timeit ir.read_pims(img_void_tile)"
   ]
  },
  {
   "cell_type": "code",
   "execution_count": null,
   "id": "6bf5006c-7dd5-4196-8c0c-91a055d91f2c",
   "metadata": {},
   "outputs": [],
   "source": [
    "rpims = ir.read_pims(img_void_tile)\n",
    "rpims"
   ]
  },
  {
   "cell_type": "code",
   "execution_count": null,
   "id": "5dd891e4-8f38-4d52-be9d-7953aef5eb67",
   "metadata": {},
   "outputs": [],
   "source": [
    "%timeit ir.read_jpype(simg_void_tile)\n",
    "%memit ir.read_jpype(simg_void_tile)"
   ]
  },
  {
   "cell_type": "code",
   "execution_count": null,
   "id": "40dcfa24-5d1d-44d8-8ee0-4451f89de49e",
   "metadata": {},
   "outputs": [],
   "source": [
    "rjpype = ir.read_jpype(simg_void_tile)\n",
    "rjpype"
   ]
  },
  {
   "cell_type": "code",
   "execution_count": null,
   "id": "814144b5-0c32-432f-9eef-ade6e5d0e9b7",
   "metadata": {},
   "outputs": [],
   "source": [
    "md1, md2"
   ]
  },
  {
   "cell_type": "code",
   "execution_count": null,
   "id": "819679c9-ecdc-44c0-a545-633f97c68995",
   "metadata": {},
   "outputs": [],
   "source": [
    "f = ir.stitch(md2, wr2, c=2, t=2)\n",
    "skimage.io.imshow(f)"
   ]
  },
  {
   "cell_type": "code",
   "execution_count": null,
   "id": "ac24dad5-2761-4918-ab90-5261b92e481a",
   "metadata": {},
   "outputs": [],
   "source": [
    "import javabridge\n",
    "import bioformats\n",
    "javabridge.start_vm(class_path=bioformats.JARS)"
   ]
  },
  {
   "cell_type": "code",
   "execution_count": null,
   "id": "393dd90f-716e-45f5-8ae0-9b0cfddd978a",
   "metadata": {},
   "outputs": [],
   "source": [
    "bioformats.ImageReader(str(img_tile))"
   ]
  },
  {
   "cell_type": "code",
   "execution_count": null,
   "id": "c0a1b10f-2240-4e25-a141-dcdf74244cb4",
   "metadata": {},
   "outputs": [],
   "source": [
    "import jpype, scyjava\n",
    "scyjava.start_jvm()\n",
    "def hello():\n",
    "    JOptionPane = scyjava.jimport('javax.swing.JOptionPane')\n",
    "    JOptionPane.showMessageDialog(None, \"Hello world\")\n",
    "jpype.setupGuiEnvironment(hello)\n",
    "\n",
    "#bioformats_jar\n",
    "import jpype\n",
    "import scyjava\n",
    "\n",
    "scyjava.config.endpoints.append('ome:formats-gpl:6.7.0')\n",
    "scyjava.start_jvm()\n",
    "loci = jpype.JPackage(\"loci\")\n",
    "loci.common.DebugTools.setRootLevel(\"ERROR\")"
   ]
  },
  {
   "cell_type": "markdown",
   "id": "d03ae657-bc44-4482-9bec-2b7260598c14",
   "metadata": {},
   "source": [
    "## performance\n",
    "### showinf"
   ]
  },
  {
   "cell_type": "code",
   "execution_count": null,
   "id": "6829f011-bfb6-4148-9b43-085e6d80a53b",
   "metadata": {},
   "outputs": [],
   "source": [
    "s1, s2, s3 = str(lif), str(imgsingle), str(img_tile)\n",
    "%timeit ir.read_inf(s1), ir.read_inf(s2), ir.read_inf(s3)\n",
    "#%memit ir.read_inf(lif), ir.read_inf(img), ir.read_inf(img_tile)"
   ]
  },
  {
   "cell_type": "markdown",
   "id": "bcc9e370-9ef4-4ab1-8b66-eaca7880e54a",
   "metadata": {},
   "source": [
    "### bioformats (std)"
   ]
  },
  {
   "cell_type": "code",
   "execution_count": null,
   "id": "66d70788-dca5-48a5-a9dc-26036f052305",
   "metadata": {},
   "outputs": [],
   "source": [
    "%timeit ir.read_bf(s1), ir.read_bf(s2), ir.read_bf(s3)\n",
    "#%memit ir.read_bf(lif), ir.read_bf(img), ir.read_bf(img_tile)"
   ]
  },
  {
   "cell_type": "markdown",
   "id": "526024f0-2340-4daf-81d6-a996ff5279ec",
   "metadata": {},
   "source": [
    "### javabridge"
   ]
  },
  {
   "cell_type": "code",
   "execution_count": null,
   "id": "a7c49ef8-bb45-481f-a6b0-ed3309a422cc",
   "metadata": {},
   "outputs": [],
   "source": [
    "# OME-TIFF only\n",
    "%timeit ir.read_jb(img), ir.read_jb(img_tile)\n",
    "%memit ir.read_jb(img), ir.read_jb(img_tile)"
   ]
  },
  {
   "cell_type": "markdown",
   "id": "e087b9ad-7cc6-4e04-8405-1516211e84fc",
   "metadata": {},
   "source": [
    "### read"
   ]
  },
  {
   "cell_type": "code",
   "execution_count": null,
   "id": "1a62169e-1b7e-460a-acae-fd2841ee84db",
   "metadata": {},
   "outputs": [],
   "source": [
    "%timeit ir.read(lif), ir.read(img), ir.read(img_tile)\n",
    "%memit ir.read(lif), ir.read(img), ir.read(img_tile)"
   ]
  },
  {
   "cell_type": "markdown",
   "id": "953f0cb2-a996-4cb6-aaf0-6e96da4d28f7",
   "metadata": {},
   "source": [
    "## ImageIO"
   ]
  },
  {
   "cell_type": "markdown",
   "id": "8b430fef-d232-4ec4-b379-090e58f2ee18",
   "metadata": {},
   "source": [
    "Started comparing the available options to read microscopy file.\n",
    "\n",
    "- mosaic"
   ]
  },
  {
   "cell_type": "code",
   "execution_count": null,
   "id": "9477b049-2b46-4ab3-8e6b-b809c762bda3",
   "metadata": {},
   "outputs": [],
   "source": [
    "from imageio.v3 import imread\n",
    "\n",
    "%timeit imread(img_void_tile, index=13)\n",
    "%memit imread(img_void_tile, index=13)\n",
    "i = imread(img_void_tile, index=13)\n",
    "i.shape"
   ]
  },
  {
   "cell_type": "code",
   "execution_count": null,
   "id": "f88e7ba7-21e4-4c2d-bf08-20a7157d6f40",
   "metadata": {},
   "outputs": [],
   "source": [
    "i.nbytes, 512**2*3*4*2"
   ]
  },
  {
   "cell_type": "markdown",
   "id": "8e1fa466-c8b6-4edb-b5b7-87dcbca156b8",
   "metadata": {},
   "source": [
    "It can read tif (tf8) files. Series might be passed using `index` (you need to know in advance).\n",
    "\n",
    "## AICSImageIO"
   ]
  },
  {
   "cell_type": "code",
   "execution_count": null,
   "id": "0bad2621-ee75-4c61-9a3c-434c67866c31",
   "metadata": {},
   "outputs": [],
   "source": [
    "from aicsimageio import AICSImage\n",
    "\n",
    "i = AICSImage(img_void_tile)\n",
    "#i = AICSImage(img_void_tile, reconstruct_mosaic=True)\n",
    "#i_lif = AICSImage(lif)"
   ]
  },
  {
   "cell_type": "code",
   "execution_count": null,
   "id": "e63e480e-af93-4654-ac9a-0f87738eaa64",
   "metadata": {},
   "outputs": [],
   "source": [
    "i.ome_metadata"
   ]
  },
  {
   "cell_type": "code",
   "execution_count": null,
   "id": "5482b4a9-8bb7-4c86-8d24-d066d55e9678",
   "metadata": {},
   "outputs": [],
   "source": [
    "i_lif.scenes"
   ]
  },
  {
   "cell_type": "code",
   "execution_count": null,
   "id": "06fa9adb-e8f3-4e78-bfcf-e292ab941c8f",
   "metadata": {},
   "outputs": [],
   "source": [
    "i.get_dask_stack()"
   ]
  },
  {
   "cell_type": "markdown",
   "id": "5ff0083c-40ef-4ff7-ab40-cb0d5193f345",
   "metadata": {},
   "source": [
    "Mosaic stitch is not supported on tif files; so I will use my function relying on the PositionXYZ metadata.\n",
    "\n",
    "## dask_image"
   ]
  },
  {
   "cell_type": "code",
   "execution_count": null,
   "id": "086065c7-e210-410f-8d96-07fb1fc27a43",
   "metadata": {},
   "outputs": [],
   "source": [
    "from dask_image.imread import imread\n",
    "\n",
    "i = imread(img_void_tile)"
   ]
  },
  {
   "cell_type": "code",
   "execution_count": null,
   "id": "fe7d003f-96d6-44f5-a229-79bfc07e95fb",
   "metadata": {},
   "outputs": [],
   "source": [
    "i"
   ]
  },
  {
   "cell_type": "code",
   "execution_count": null,
   "id": "a6d9b62a-5aea-4dcd-9310-f2d8bdbf9930",
   "metadata": {},
   "outputs": [],
   "source": [
    "imread(lif)"
   ]
  },
  {
   "cell_type": "markdown",
   "id": "71d2c542-5b10-457d-88b5-25c5c474184a",
   "metadata": {},
   "source": [
    "Somehow it uses bioformats and can handle lif. No mosaic, no metadata though.\n",
    "\n",
    "**Pycroscopy** https://pypi.org/project/pycroscopy/ is not reading lif nor ome-tif at the moment.\n",
    "\n",
    "**large-image[all]** failed to intall.\n",
    "\n",
    "**pyimagej** need conda?\n",
    "\n",
    "## bioio-bioformats"
   ]
  },
  {
   "cell_type": "code",
   "execution_count": null,
   "id": "44f47685-c33a-49d4-92cc-22fc010ee7d6",
   "metadata": {},
   "outputs": [],
   "source": [
    "import bioio_ome_tiled_tiff"
   ]
  },
  {
   "cell_type": "code",
   "execution_count": null,
   "id": "32aefc16-475d-4254-b336-433c8dc57316",
   "metadata": {},
   "outputs": [],
   "source": [
    "bioio_ome_tiled_tiff.Reader(str(img_tile))"
   ]
  },
  {
   "cell_type": "code",
   "execution_count": null,
   "id": "b48df022-16b9-40a8-bf06-e93714d3ffe9",
   "metadata": {},
   "outputs": [],
   "source": [
    "import bioio_bioformats\n",
    "\n",
    "im = bioio_bioformats.Reader(img_void_tile)\n",
    "bioio_bioformats.ReaderMetadata(img_void_tile)"
   ]
  },
  {
   "cell_type": "code",
   "execution_count": null,
   "id": "c71b717f-fcd0-4054-8cef-6be1e0727b6a",
   "metadata": {},
   "outputs": [],
   "source": [
    "im.xarray_dask_data"
   ]
  },
  {
   "cell_type": "code",
   "execution_count": null,
   "id": "24ec421e-3b7b-4649-8e6b-8bfa7e65669d",
   "metadata": {},
   "outputs": [],
   "source": [
    "i = bioio_bioformats.Reader(img_tile)\n",
    "i.data.shape"
   ]
  },
  {
   "cell_type": "code",
   "execution_count": null,
   "id": "e697140f-b756-486f-bca7-725ccd25f782",
   "metadata": {},
   "outputs": [],
   "source": [
    "i.xarray_dask_data.attrs['processed']"
   ]
  },
  {
   "cell_type": "code",
   "execution_count": null,
   "id": "19b06f57-3802-4c00-b86d-878d6ba6af01",
   "metadata": {},
   "outputs": [],
   "source": [
    "import nima_io.read as ir"
   ]
  },
  {
   "cell_type": "code",
   "execution_count": null,
   "id": "7554121e-de88-4b3c-93ca-9b7cd1a37392",
   "metadata": {},
   "outputs": [],
   "source": [
    "ir.bioformats.get_omexml_metadata(img_tile)"
   ]
  },
  {
   "cell_type": "code",
   "execution_count": null,
   "id": "bc355042-d3e2-4260-9f3a-dfa49d780ba1",
   "metadata": {},
   "outputs": [],
   "source": [
    "unp = i.xarray_dask_data.attrs['unprocessed']\n",
    "ir.get_md_dict?"
   ]
  },
  {
   "cell_type": "code",
   "execution_count": null,
   "id": "5d8afb5b-daf9-46dd-ab1f-cf351f749e6d",
   "metadata": {},
   "outputs": [],
   "source": [
    "i.ome_metadata"
   ]
  },
  {
   "cell_type": "code",
   "execution_count": null,
   "id": "48df43f5-f189-48d0-b5e0-d2243c6b72cb",
   "metadata": {},
   "outputs": [],
   "source": [
    "stk = i.get_dask_stack()"
   ]
  },
  {
   "cell_type": "code",
   "execution_count": null,
   "id": "6d910666-9ed5-4809-aa73-6bb116baed51",
   "metadata": {},
   "outputs": [],
   "source": [
    "stk.A"
   ]
  },
  {
   "cell_type": "markdown",
   "id": "54963f96-3e06-4e85-8c4b-1870689c2523",
   "metadata": {},
   "source": [
    "## bfio"
   ]
  },
  {
   "cell_type": "code",
   "execution_count": null,
   "id": "c14d2152-521b-4c3d-924f-462525647be5",
   "metadata": {},
   "outputs": [],
   "source": [
    "import bfio\n",
    "\n",
    "bfio.BioReader(img_void_tile)"
   ]
  },
  {
   "cell_type": "code",
   "execution_count": null,
   "id": "a5650a71-bf23-4632-9857-be38ddb32bb2",
   "metadata": {},
   "outputs": [],
   "source": [
    "rdr = bfio.BioReader(img_void_tile)\n",
    "%timeit i = rdr.read()\n",
    "i = rdr.read()\n",
    "i.shape"
   ]
  },
  {
   "cell_type": "code",
   "execution_count": null,
   "id": "69328e4b-cfff-45ec-af5a-73b94577c230",
   "metadata": {},
   "outputs": [],
   "source": [
    "rdr.metadata"
   ]
  },
  {
   "cell_type": "code",
   "execution_count": null,
   "id": "a222f1fe-34db-43d1-8a97-6720ccede82a",
   "metadata": {},
   "outputs": [],
   "source": [
    "rdr.ps_x"
   ]
  },
  {
   "cell_type": "code",
   "execution_count": null,
   "id": "eab10d55-8697-453f-8422-145418ef10d6",
   "metadata": {},
   "outputs": [],
   "source": [
    "rdr.close()"
   ]
  },
  {
   "cell_type": "markdown",
   "id": "e6d681d7-0dd1-4be8-b5ed-6e25d09bcf58",
   "metadata": {},
   "source": [
    "## PIMS"
   ]
  },
  {
   "cell_type": "code",
   "execution_count": null,
   "id": "ea19fd32-096d-4cf4-9d1f-a17143d950ec",
   "metadata": {},
   "outputs": [],
   "source": [
    "import pims\n",
    "\n",
    "%timeit fs = pims.Bioformats(img_void_tile)\n",
    "fs = pims.Bioformats(img_void_tile)\n",
    "fs.sizes"
   ]
  },
  {
   "cell_type": "markdown",
   "id": "51091c74-7230-4ae9-b34c-3eb998e2a2a9",
   "metadata": {},
   "source": [
    "## PyOMETiff"
   ]
  },
  {
   "cell_type": "code",
   "execution_count": null,
   "id": "d1584382-71bc-45a3-8b1a-864919a2bddf",
   "metadata": {},
   "outputs": [],
   "source": [
    "import pyometiff\n",
    "\n",
    "%timeit rdr = pyometiff.OMETIFFReader(fpath=img_void_tile)\n",
    "rdr = pyometiff.OMETIFFReader(fpath=img_void_tile)"
   ]
  },
  {
   "cell_type": "code",
   "execution_count": null,
   "id": "9c0c6e95-2056-4cbe-83bb-015924e804e0",
   "metadata": {},
   "outputs": [],
   "source": [
    "%timeit r = rdr.read()\n",
    "res = rdr.read()"
   ]
  },
  {
   "cell_type": "code",
   "execution_count": null,
   "id": "776b9078-04d4-41b1-ade6-2583d4741810",
   "metadata": {},
   "outputs": [],
   "source": [
    "res[2]"
   ]
  },
  {
   "cell_type": "code",
   "execution_count": null,
   "id": "7eb964f5-be1a-4c65-9304-87eef305059e",
   "metadata": {},
   "outputs": [],
   "source": [
    "pyometiff.OMETIFFReader._get_metadata_template()"
   ]
  },
  {
   "cell_type": "markdown",
   "id": "173fc85e-e4e3-40ff-bf57-97d1c252d4a0",
   "metadata": {},
   "source": [
    "## Final Note\n",
    "\n",
    "I will keep \n",
    "\n",
    "0. Read\n",
    "1. stitch\n",
    "2. md_grouping\n",
    "\n",
    "\n",
    "- pycromanager\n",
    "- microscope\n",
    "- python-microscopy"
   ]
  },
  {
   "cell_type": "code",
   "execution_count": null,
   "id": "ef6c5da7-5090-4f01-a754-50eabea84925",
   "metadata": {},
   "outputs": [],
   "source": [
    "import imgread"
   ]
  },
  {
   "cell_type": "code",
   "execution_count": null,
   "id": "ecad961e-2964-44a6-8058-fdab0090eab4",
   "metadata": {},
   "outputs": [],
   "source": [
    "from imgread import read"
   ]
  },
  {
   "cell_type": "code",
   "execution_count": null,
   "id": "42963116-2197-4d30-aef1-b133865b86dc",
   "metadata": {},
   "outputs": [],
   "source": [
    "read.read_pims(img_void_tile)"
   ]
  },
  {
   "cell_type": "code",
   "execution_count": null,
   "id": "1f082080-df03-443f-bcf3-ba2ce0cc5eac",
   "metadata": {},
   "outputs": [],
   "source": [
    "read.read_jb(img_void_tile)"
   ]
  }
 ],
 "metadata": {
  "kernelspec": {
   "display_name": "Python 3 (ipykernel)",
   "language": "python",
   "name": "python3"
  },
  "language_info": {
   "codemirror_mode": {
    "name": "ipython",
    "version": 3
   },
   "file_extension": ".py",
   "mimetype": "text/x-python",
   "name": "python",
   "nbconvert_exporter": "python",
   "pygments_lexer": "ipython3",
   "version": "3.10.13"
  }
 },
 "nbformat": 4,
 "nbformat_minor": 5
}
