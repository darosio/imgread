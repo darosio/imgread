{
 "cells": [
  {
   "cell_type": "markdown",
   "id": "5b631045-a739-4722-82eb-2af8cee4500f",
   "metadata": {},
   "source": [
    "# Choosing the Right Tool: A Comprehensive Guide to Reading Microscopy Data in Python\n",
    "\n",
    "Microscopy data analysis in Python offers a multitude of options, each with its unique strengths and capabilities. Navigating the expansive landscape of tools can be daunting, but selecting the right one can significantly impact your workflow efficiency and data insights. This guide aims to provide a comprehensive overview of the various Python libraries and frameworks available for reading microscopy data. Whether you prioritize speed, versatility, or integration with other data analysis tools, this guide will help you make informed decisions to meet your specific requirements. Explore the possibilities and empower your microscopy data analysis with the right tools for the job.\n",
    "\n",
    "## Import and Data Path Assignment\n",
    "\n",
    "To begin our analysis, we first need to import the necessary libraries and assign the path to our data files. This step ensures that we have access to the tools and resources required for the subsequent tasks.\n",
    "\n",
    "Let's get started by executing the following code:"
   ]
  },
  {
   "cell_type": "code",
   "execution_count": null,
   "id": "5a23c9e2-cb1e-4518-9ca1-d12e03722461",
   "metadata": {},
   "outputs": [],
   "source": [
    "%load_ext autoreload\n",
    "%autoreload 2\n",
    "\n",
    "%load_ext line_profiler\n",
    "%load_ext memory_profiler\n",
    "\n",
    "import matplotlib.pyplot as plt\n",
    "import skimage.io\n",
    "import numpy as np\n",
    "import tifffile\n",
    "\n",
    "import nima_io.read as ir\n",
    "\n",
    "from pathlib import Path\n",
    "\n",
    "tdata = Path(\"../../tests/data/\")\n",
    "\n",
    "lif = tdata / \"2015Aug28_TransHXB2_50min+DMSO.lif\"\n",
    "img_tile = tdata / \"t4_1.tif\"  # C=3 T=4 S=15\n",
    "img_void_tile = tdata / \"tile6_1.tif\"  # C=4 T=3 S=14 scattered\n",
    "imgsingle = tdata / \"exp2_2.tif\"  # C=2 T=81\n",
    "\n",
    "mcts = tdata / \"multi-channel-time-series.ome.tif\"  # C=3 T=7\n",
    "bigtiff = tdata / \"LC26GFP_1.tf8\"  # bigtiff\n",
    "\n",
    "slif = str(lif)\n",
    "simg_tile = str(img_tile)\n",
    "simg_void_tile = str(img_void_tile)\n",
    "simgsingle = str(imgsingle)\n",
    "smcts = str(mcts)\n",
    "sbigtiff = str(bigtiff)"
   ]
  },
  {
   "cell_type": "markdown",
   "id": "b23a791c-1080-4e38-bc12-f5d53eca2c2e",
   "metadata": {},
   "source": [
    "So, we have few options to open microscopy datafiles:\n",
    "\n",
    "- skimage.io.imread\n",
    "- skimage.io.imread_collection\n",
    "- tifffile.TiffFile\n",
    "- tifffile.TiffSequence\n",
    "- bioformats.ImageReader\n",
    "\n",
    "Imagej hyperstack are organized as **TZCYXS**.\n",
    "\n",
    "Holoview can also be used. Check availability of reading from disk a la memmap.\n",
    "\n",
    "Bioformats claims the following standard: separate tiff for each channel and for each time point.\n",
    "Thus a ome.tif would contain a single plane or a zstack. \n",
    "\n",
    "What about tiles? Bioformats has some 6D, 7D and 8D working around 5D. But how is exactly defined 5D?"
   ]
  },
  {
   "cell_type": "markdown",
   "id": "cd09e9ee-e0a4-46ae-b04e-3411cc356dc8",
   "metadata": {
    "jp-MarkdownHeadingCollapsed": true
   },
   "source": [
    "## Skimage and Tifffile"
   ]
  },
  {
   "cell_type": "code",
   "execution_count": null,
   "id": "3d1b7d1a-27b9-417e-b974-dfed3dff625d",
   "metadata": {},
   "outputs": [],
   "source": [
    "t1 = skimage.io.imread(img_tile, plugin=\"tifffile\")\n",
    "t2 = skimage.io.imread(img_void_tile, plugin=\"tifffile\")\n",
    "t1.shape, t2.shape"
   ]
  },
  {
   "cell_type": "code",
   "execution_count": null,
   "id": "1ca4cfa8-8e52-4e23-9924-db71af66b75f",
   "metadata": {},
   "outputs": [],
   "source": [
    "tf1 = tifffile.imread(img_tile)\n",
    "tf2 = tifffile.imread(img_void_tile)\n",
    "tf1.shape, tf2.shape"
   ]
  },
  {
   "cell_type": "markdown",
   "id": "0cde09f8-0896-42fd-ab9c-ef3f70a1393b",
   "metadata": {},
   "source": [
    "Only for tiff data files provides:\n",
    "\n",
    "- sequence\n",
    "- OME metadata\n",
    "- memmap\n",
    "- zarr"
   ]
  },
  {
   "cell_type": "code",
   "execution_count": null,
   "id": "1b11f1b2-cb32-4e05-aedf-706fbccf9fbe",
   "metadata": {},
   "outputs": [],
   "source": [
    "fp1glob = \"/home/dati/liaisan/data/260816/FLAT/cyan_em10/cyan_em10_p*.tif\"\n",
    "tifs = tifffile.TiffSequence(fp1glob)\n",
    "d = tifs.asarray()\n",
    "print(d.shape)\n",
    "print(tifs.shape)"
   ]
  },
  {
   "cell_type": "code",
   "execution_count": null,
   "id": "05781629-a043-4ce5-990c-06c0f4a10aac",
   "metadata": {},
   "outputs": [],
   "source": [
    "with tifffile.TiffFile(img_tile) as tif:\n",
    "    tag = tif.pages[0].tags[\"ImageDescription\"]\n",
    "\n",
    "tag.value"
   ]
  },
  {
   "attachments": {},
   "cell_type": "markdown",
   "id": "8891da44-eeb8-4915-9fd2-fe0e62c6335f",
   "metadata": {},
   "source": [
    "## nima_io.read\n",
    "\n",
    "| function   |  time | Pos in md | extra md | no errors | note                     |\n",
    "|------------|-------|-----------|----------|-----------|--------------------------|\n",
    "| read       |  4.68 | yes       | no       | no        |                          |\n",
    "| read2      |  12.4 | no        | yes      | no        |                          |\n",
    "| read_inf   |  4.46 | no        | no       | yes       | core md misses many keys |\n",
    "| read_bf    | 0.487 | no        | no       | no        |                          |\n",
    "| reaf_jb    |  4.47 | yes       | no       | no        |                          |\n",
    "| read_wrap  |     - | yes       | no       | yes       | It calls read            |\n",
    "|----\n",
    "| read_pims  |  2.57 | yes       | no       | yes       | extra pims DIMS          |\n",
    "| read_jpype | 0.263 | yes       | yes      | yes       |                          |\n",
    "\n",
    "Summary:\n",
    "\n",
    "- The Jpype approach stands out for its thoroughness and performance.\n",
    "- Scyjava, built on Jpype, is now superseding it.\n",
    "- Functions like read_inf and read_bf may be candidates for removal from the convenient library.\n",
    "\n",
    "In the following, various bioformats implementations are explored. While python-bioformats produces a verbose warning log through python-javabridge, the numerous metadata linked to individual planes are not returned by the external library. Hence, I decided to develop a small library to handle additional (neglected) metadata, such as acquisition stage position (essential for reconstructing tiled images) and illumination and emission settings."
   ]
  },
  {
   "attachments": {},
   "cell_type": "markdown",
   "id": "720634ea-3ffb-4003-b64c-a5fac69419d2",
   "metadata": {},
   "source": [
    "### read"
   ]
  },
  {
   "cell_type": "code",
   "execution_count": null,
   "id": "6ea6bcdc-fead-4212-b340-8fed02b1c08f",
   "metadata": {},
   "outputs": [],
   "source": [
    "ir.ensure_vm()"
   ]
  },
  {
   "cell_type": "code",
   "execution_count": null,
   "id": "a45898ba-19f0-4489-b468-9d0172ed4424",
   "metadata": {},
   "outputs": [],
   "source": [
    "r = ir.read(simg_void_tile)"
   ]
  },
  {
   "cell_type": "code",
   "execution_count": null,
   "id": "41f193b1-217b-493d-a70a-d1d97a1dfb2c",
   "metadata": {},
   "outputs": [],
   "source": [
    "r"
   ]
  },
  {
   "cell_type": "markdown",
   "id": "0e96b3f3-2ce3-4ba5-9940-8ba08310bdcd",
   "metadata": {
    "jp-MarkdownHeadingCollapsed": true
   },
   "source": [
    "### read2"
   ]
  },
  {
   "cell_type": "code",
   "execution_count": null,
   "id": "a8ab6e8c-61eb-4137-b87d-b90e59cab748",
   "metadata": {
    "scrolled": true
   },
   "outputs": [],
   "source": [
    "%memit ir.read2(simg_void_tile)\n",
    "r2 = ir.read2(simg_void_tile)"
   ]
  },
  {
   "cell_type": "code",
   "execution_count": null,
   "id": "674ed41d-2848-42a2-bd6c-fe50b04db3b9",
   "metadata": {},
   "outputs": [],
   "source": [
    "r2"
   ]
  },
  {
   "cell_type": "code",
   "execution_count": null,
   "id": "bdcc1981-cdf2-456c-b22d-1489986a0a61",
   "metadata": {},
   "outputs": [],
   "source": [
    "np.save(\"extra_md_read2.npy\", r2[0])"
   ]
  },
  {
   "cell_type": "markdown",
   "id": "d03ae657-bc44-4482-9bec-2b7260598c14",
   "metadata": {
    "jp-MarkdownHeadingCollapsed": true
   },
   "source": [
    "### read_inf"
   ]
  },
  {
   "cell_type": "code",
   "execution_count": null,
   "id": "4f344978-50d7-4934-9bf6-686a5d786360",
   "metadata": {},
   "outputs": [],
   "source": [
    "%timeit ir.read_inf(img_void_tile)\n",
    "%memit ir.read_inf(img_void_tile)\n",
    "rinf = ir.read_inf(img_void_tile)\n",
    "rinf"
   ]
  },
  {
   "cell_type": "markdown",
   "id": "7491dc60-3bc7-44d5-9194-c40b4bbc1113",
   "metadata": {
    "jp-MarkdownHeadingCollapsed": true
   },
   "source": [
    "### read_bf - bioformats (std)"
   ]
  },
  {
   "cell_type": "code",
   "execution_count": null,
   "id": "d13b3f0c-2812-475d-872a-8dbe8fa9aa1b",
   "metadata": {},
   "outputs": [],
   "source": [
    "%timeit ir.read_bf(simg_void_tile)"
   ]
  },
  {
   "cell_type": "code",
   "execution_count": null,
   "id": "d763a715-1015-422f-bde7-7cb485617aa0",
   "metadata": {},
   "outputs": [],
   "source": [
    "%memit ir.read_bf(simg_void_tile)"
   ]
  },
  {
   "cell_type": "code",
   "execution_count": null,
   "id": "8225cbc5-b6b7-4145-96a0-a1a25e7d8b6a",
   "metadata": {},
   "outputs": [],
   "source": [
    "rbf = ir.read_bf(simg_void_tile)"
   ]
  },
  {
   "cell_type": "code",
   "execution_count": null,
   "id": "5a9bf218-c66b-43f8-a322-4866bc165c51",
   "metadata": {},
   "outputs": [],
   "source": [
    "rbf"
   ]
  },
  {
   "cell_type": "markdown",
   "id": "a58856dc-2985-4ea8-bb16-d7e0db762044",
   "metadata": {
    "jp-MarkdownHeadingCollapsed": true
   },
   "source": [
    "### javabridge"
   ]
  },
  {
   "cell_type": "code",
   "execution_count": null,
   "id": "27a1f900-e8a5-4c43-9dbe-ab5d49c818bf",
   "metadata": {},
   "outputs": [],
   "source": [
    "%timeit ir.read_jb(simg_void_tile)"
   ]
  },
  {
   "cell_type": "code",
   "execution_count": null,
   "id": "93a7ce2a-a7cc-4df8-bde0-ad69071e3edc",
   "metadata": {},
   "outputs": [],
   "source": [
    "%memit ir.read_jb(simg_void_tile)"
   ]
  },
  {
   "cell_type": "code",
   "execution_count": null,
   "id": "d09e5372-60d5-4773-8ea4-cde2a1a03c9a",
   "metadata": {},
   "outputs": [],
   "source": [
    "rjb = ir.read_jb(simg_void_tile)"
   ]
  },
  {
   "cell_type": "code",
   "execution_count": null,
   "id": "1349f5f0-44fb-4b42-a6d5-30194a7cf0f5",
   "metadata": {},
   "outputs": [],
   "source": [
    "rjb"
   ]
  },
  {
   "cell_type": "markdown",
   "id": "98e5d9de-4b62-476e-86f0-e5d60ab91b2e",
   "metadata": {},
   "source": [
    "### Stitch"
   ]
  },
  {
   "cell_type": "code",
   "execution_count": null,
   "id": "819679c9-ecdc-44c0-a545-633f97c68995",
   "metadata": {},
   "outputs": [],
   "source": [
    "f = ir.stitch(r[0], r[1], c=2, t=2)\n",
    "skimage.io.imshow(f)"
   ]
  },
  {
   "cell_type": "code",
   "execution_count": null,
   "id": "671a69b7-4373-45d5-bb8c-3c02aae20cbd",
   "metadata": {},
   "outputs": [],
   "source": [
    "r[0][\"series\"][0][\"PositionXYZ\"]"
   ]
  }
 ],
 "metadata": {
  "kernelspec": {
   "display_name": "Python 3 (ipykernel)",
   "language": "python",
   "name": "python3"
  },
  "language_info": {
   "codemirror_mode": {
    "name": "ipython",
    "version": 3
   },
   "file_extension": ".py",
   "mimetype": "text/x-python",
   "name": "python",
   "nbconvert_exporter": "python",
   "pygments_lexer": "ipython3",
   "version": "3.10.13"
  }
 },
 "nbformat": 4,
 "nbformat_minor": 5
}
