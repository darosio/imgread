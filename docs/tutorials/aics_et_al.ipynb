{
 "cells": [
  {
   "cell_type": "markdown",
   "id": "5b631045-a739-4722-82eb-2af8cee4500f",
   "metadata": {},
   "source": [
    "# Choosing the Right Tool: A Comprehensive Guide to Reading Microscopy Data in Python\n",
    "\n",
    "Microscopy data analysis in Python offers a multitude of options, each with its unique strengths and capabilities. Navigating the expansive landscape of tools can be daunting, but selecting the right one can significantly impact your workflow efficiency and data insights. This guide aims to provide a comprehensive overview of the various Python libraries and frameworks available for reading microscopy data. Whether you prioritize speed, versatility, or integration with other data analysis tools, this guide will help you make informed decisions to meet your specific requirements. Explore the possibilities and empower your microscopy data analysis with the right tools for the job.\n",
    "\n",
    "## Import and Data Path Assignment\n",
    "\n",
    "To begin our analysis, we first need to import the necessary libraries and assign the path to our data files. This step ensures that we have access to the tools and resources required for the subsequent tasks.\n",
    "\n",
    "Let's get started by executing the following code:"
   ]
  },
  {
   "cell_type": "code",
   "execution_count": null,
   "id": "5a23c9e2-cb1e-4518-9ca1-d12e03722461",
   "metadata": {},
   "outputs": [],
   "source": [
    "%load_ext autoreload\n",
    "%autoreload 2\n",
    "\n",
    "%load_ext line_profiler\n",
    "%load_ext memory_profiler\n",
    "\n",
    "import matplotlib.pyplot as plt\n",
    "import skimage.io\n",
    "import numpy as np\n",
    "import tifffile\n",
    "\n",
    "import nima_io.read as ir\n",
    "\n",
    "from pathlib import Path\n",
    "\n",
    "tdata = Path(\"../../tests/data/\")\n",
    "\n",
    "# lif = tdata / \"2015Aug28_TransHXB2_50min+DMSO.lif\"\n",
    "img_tile = tdata / \"t4_1.tif\"  # C=3 T=4 S=15\n",
    "img_void_tile = tdata / \"tile6_1.tif\"  # C=4 T=3 S=14 scattered\n",
    "# imgsingle = tdata / \"exp2_2.tif\"  # C=2 T=81\n",
    "\n",
    "# mcts = tdata / \"multi-channel-time-series.ome.tif\"  # C=3 T=7\n",
    "# bigtiff = tdata / \"LC26GFP_1.tf8\"  # bigtiff\n",
    "\n",
    "# slif = str(lif)\n",
    "simg_tile = str(img_tile)\n",
    "simg_void_tile = str(img_void_tile)\n",
    "# simgsingle = str(imgsingle)\n",
    "# smcts = str(mcts)\n",
    "# sbigtiff = str(bigtiff)"
   ]
  },
  {
   "cell_type": "markdown",
   "id": "b23a791c-1080-4e38-bc12-f5d53eca2c2e",
   "metadata": {},
   "source": [
    "So, we have few options to open microscopy datafiles:\n",
    "\n",
    "- skimage.io.imread\n",
    "- skimage.io.imread_collection\n",
    "- tifffile.TiffFile\n",
    "- tifffile.TiffSequence\n",
    "- bioformats.ImageReader\n",
    "\n",
    "Imagej hyperstack are organized as **TZCYXS**.\n",
    "\n",
    "Holoview can also be used. Check availability of reading from disk a la memmap.\n",
    "\n",
    "Bioformats claims the following standard: separate tiff for each channel and for each time point.\n",
    "Thus a ome.tif would contain a single plane or a zstack. \n",
    "\n",
    "What about tiles? Bioformats has some 6D, 7D and 8D working around 5D. But how is exactly defined 5D?"
   ]
  },
  {
   "cell_type": "markdown",
   "id": "cd09e9ee-e0a4-46ae-b04e-3411cc356dc8",
   "metadata": {},
   "source": [
    "## Skimage and Tifffile"
   ]
  },
  {
   "cell_type": "code",
   "execution_count": null,
   "id": "3d1b7d1a-27b9-417e-b974-dfed3dff625d",
   "metadata": {},
   "outputs": [],
   "source": [
    "t1 = skimage.io.imread(img_tile, plugin=\"tifffile\")\n",
    "t2 = skimage.io.imread(img_void_tile, plugin=\"tifffile\")\n",
    "t1.shape, t2.shape"
   ]
  },
  {
   "cell_type": "code",
   "execution_count": null,
   "id": "1ca4cfa8-8e52-4e23-9924-db71af66b75f",
   "metadata": {},
   "outputs": [],
   "source": [
    "tf1 = tifffile.imread(img_tile)\n",
    "tf2 = tifffile.imread(img_void_tile)\n",
    "tf1.shape, tf2.shape"
   ]
  },
  {
   "cell_type": "markdown",
   "id": "0cde09f8-0896-42fd-ab9c-ef3f70a1393b",
   "metadata": {},
   "source": [
    "Only for tiff data files provides:\n",
    "\n",
    "- sequence\n",
    "- OME metadata\n",
    "- memmap\n",
    "- zarr"
   ]
  },
  {
   "cell_type": "code",
   "execution_count": null,
   "id": "1b11f1b2-cb32-4e05-aedf-706fbccf9fbe",
   "metadata": {},
   "outputs": [],
   "source": [
    "fp1glob = str(tdata / \"im1s1z3c5t_?.ome.tif\")\n",
    "\n",
    "tifs = tifffile.TiffSequence(fp1glob)\n",
    "d = tifs.asarray()\n",
    "print(d.shape)\n",
    "print(tifs.shape)"
   ]
  },
  {
   "cell_type": "code",
   "execution_count": null,
   "id": "05781629-a043-4ce5-990c-06c0f4a10aac",
   "metadata": {},
   "outputs": [],
   "source": [
    "with tifffile.TiffFile(img_tile) as tif:\n",
    "    tag = tif.pages[0].tags[\"ImageDescription\"]\n",
    "\n",
    "tag.value"
   ]
  },
  {
   "attachments": {},
   "cell_type": "markdown",
   "id": "720634ea-3ffb-4003-b64c-a5fac69419d2",
   "metadata": {},
   "source": [
    "## nima_io\n",
    "### read"
   ]
  },
  {
   "cell_type": "code",
   "execution_count": null,
   "id": "c3ab9203-0e9e-4f05-9eb1-3349c7c06d6d",
   "metadata": {},
   "outputs": [],
   "source": [
    "r = ir.read(simg_void_tile)\n",
    "r"
   ]
  },
  {
   "cell_type": "markdown",
   "id": "0e96b3f3-2ce3-4ba5-9940-8ba08310bdcd",
   "metadata": {},
   "source": [
    "### read2"
   ]
  },
  {
   "cell_type": "code",
   "execution_count": null,
   "id": "337c62f2-50da-4aaf-82e3-04537cc8176c",
   "metadata": {},
   "outputs": [],
   "source": [
    "r2 = ir.read2(simg_void_tile)\n",
    "r2[0]"
   ]
  },
  {
   "cell_type": "markdown",
   "id": "98e5d9de-4b62-476e-86f0-e5d60ab91b2e",
   "metadata": {},
   "source": [
    "### Stitch"
   ]
  },
  {
   "cell_type": "code",
   "execution_count": null,
   "id": "819679c9-ecdc-44c0-a545-633f97c68995",
   "metadata": {},
   "outputs": [],
   "source": [
    "f = ir.stitch(r[0], r[1], c=2, t=2)\n",
    "skimage.io.imshow(f)"
   ]
  },
  {
   "cell_type": "code",
   "execution_count": null,
   "id": "671a69b7-4373-45d5-bb8c-3c02aae20cbd",
   "metadata": {},
   "outputs": [],
   "source": [
    "r[0][\"series\"][2][\"PositionXYZ\"]"
   ]
  },
  {
   "attachments": {},
   "cell_type": "markdown",
   "id": "8891da44-eeb8-4915-9fd2-fe0e62c6335f",
   "metadata": {},
   "source": [
    "## nima_io.read\n",
    "\n",
    "| function   |  time | Pos in md | extra md | no errors | note                     |\n",
    "|------------|-------|-----------|----------|-----------|--------------------------|\n",
    "| read       |  4.68 | yes       | no       | no        |                          |\n",
    "| read2      |  12.4 | no        | yes      | no        |                          |\n",
    "| read_wrap  |     - | yes       | no       | yes       | It calls read            |\n",
    "|----\n",
    "| read_pims  |  2.57 | yes       | no       | yes       | extra pims DIMS          |\n",
    "| read_jpype | 0.263 | yes       | yes      | yes       |                          |\n",
    "\n",
    "Summary:\n",
    "\n",
    "- The Jpype approach stands out for its thoroughness and performance.\n",
    "- Scyjava, built on Jpype, is now superseding it.\n",
    "- Functions like read_inf and read_bf may be candidates for removal from the convenient library.\n",
    "\n",
    "In the following, various bioformats implementations are explored. While python-bioformats produces a verbose warning log through python-javabridge, the numerous metadata linked to individual planes are not returned by the external library. Hence, I decided to develop a small library to handle additional (neglected) metadata, such as acquisition stage position (essential for reconstructing tiled images) and illumination and emission settings.\n",
    "\n",
    "### read_jpype"
   ]
  },
  {
   "cell_type": "code",
   "execution_count": null,
   "id": "ff65a9d5-2d1f-452c-a1ff-7934f219650c",
   "metadata": {},
   "outputs": [],
   "source": [
    "rjpype = ir.read_jpype(simg_void_tile)"
   ]
  },
  {
   "cell_type": "code",
   "execution_count": null,
   "id": "5e5b04b9-69ea-4fd5-8eda-24da94a3db13",
   "metadata": {},
   "outputs": [],
   "source": [
    "(core_md_jpype, (wr_jpype, type, extra_md_jpype)) = rjpype"
   ]
  },
  {
   "cell_type": "code",
   "execution_count": null,
   "id": "71245cf8-aca0-4434-b942-f686dce5789e",
   "metadata": {},
   "outputs": [],
   "source": [
    "# read_dictionary = np.load(\"extra_md_read2.npy\", allow_pickle=True).item()\n",
    "\n",
    "sorted_dict = {k: r2[0][k] for k in sorted(r2[0].keys())}\n",
    "sorted_dictJ = {k: extra_md_jpype[k] for k in sorted(extra_md_jpype.keys())}"
   ]
  },
  {
   "cell_type": "code",
   "execution_count": null,
   "id": "7b61e539-7ac2-4f60-a76b-4e53333fad15",
   "metadata": {},
   "outputs": [],
   "source": [
    "sorted(extra_md_jpype.keys()) == sorted(r2[0].keys())"
   ]
  },
  {
   "cell_type": "code",
   "execution_count": null,
   "id": "228bc1bf-5a41-491a-94f4-d3aad95611bb",
   "metadata": {},
   "outputs": [],
   "source": [
    "r2[0].keys() - extra_md_jpype.keys()"
   ]
  },
  {
   "cell_type": "code",
   "execution_count": null,
   "id": "56192c9f-6b5b-45d4-bc37-60350f1000e3",
   "metadata": {},
   "outputs": [],
   "source": [
    "r2[0][\"Creator\"]"
   ]
  },
  {
   "cell_type": "code",
   "execution_count": null,
   "id": "59f3a1ed-a036-4a35-82ac-259f4d294ff0",
   "metadata": {},
   "outputs": [],
   "source": [
    "# r2[0].pop(\"Format\")\n",
    "r2[0].pop(\"Creator\")"
   ]
  },
  {
   "cell_type": "code",
   "execution_count": null,
   "id": "ea45bd88-9c45-4f39-b7fc-e957bb77c784",
   "metadata": {},
   "outputs": [],
   "source": [
    "sorted_dict = {k: r2[0][k] for k in sorted(r2[0].keys())}\n",
    "for k in sorted_dict:\n",
    "    if not sorted_dict[k] == sorted_dictJ.get(k):\n",
    "        print(k)"
   ]
  },
  {
   "cell_type": "code",
   "execution_count": null,
   "id": "938dafb7-ae1b-46a1-bc9b-79a63b46e7d8",
   "metadata": {},
   "outputs": [],
   "source": [
    "r2[0][\"LightPathExcitationFilterRefCount\"]"
   ]
  },
  {
   "cell_type": "code",
   "execution_count": null,
   "id": "6dc29b8a-012e-489d-bf3c-863d2b2509b5",
   "metadata": {},
   "outputs": [],
   "source": [
    "print(\n",
    "    r2[0][\"ChannelLightSourceSettingsAttenuation\"],\n",
    "    extra_md_jpype[\"ChannelLightSourceSettingsAttenuation\"],\n",
    ")\n",
    "print(r2[0][\"PixelsBigEndian\"], extra_md_jpype[\"PixelsBigEndian\"])\n",
    "print(r2[0][\"PixelsInterleaved\"], extra_md_jpype[\"PixelsInterleaved\"])"
   ]
  },
  {
   "cell_type": "code",
   "execution_count": null,
   "id": "74fec14e-c24e-4a1e-81ab-9554809f48c9",
   "metadata": {},
   "outputs": [],
   "source": [
    "f = ir.stitch(core_md_jpype, wr_jpype, c=1, t=0)\n",
    "skimage.io.imshow(f)"
   ]
  },
  {
   "cell_type": "code",
   "execution_count": null,
   "id": "7c3f26f7-da7c-4dca-949a-7c6adb1d3784",
   "metadata": {},
   "outputs": [],
   "source": [
    "core_md_jpype[\"series\"][0][\"PositionXYZ\"]"
   ]
  },
  {
   "cell_type": "markdown",
   "id": "82111f56-2420-4db4-9dbb-f0d64b3f0209",
   "metadata": {},
   "source": [
    "### PIMS\n",
    "\n",
    "Which is currently unable to download loci_tools.jar.\n",
    "\n",
    "**I really like the frame metadata t_s, x_um, y_um and z_um.\n",
    "Every array (2D, 3D, ..., n-D) having those metadata in common are contained in the Frame obj: a numpy array with metadata(dict) and frame_no(int).**\n",
    "\n",
    "Are fs.bundle_axes (fs.frame_shape), fs.iter_axes and fs.default_coords overcomplicated?\n",
    "\n",
    "Anyway: iter=0 == iter=n which is at least unexpected."
   ]
  },
  {
   "cell_type": "code",
   "execution_count": null,
   "id": "bc25301d-002b-4f4c-9710-c61ed74638e5",
   "metadata": {},
   "outputs": [],
   "source": [
    "rpims = ir.read_pims(img_void_tile)\n",
    "rpims"
   ]
  },
  {
   "cell_type": "code",
   "execution_count": null,
   "id": "3922ed69-2eaf-4043-ba53-34718ca241f5",
   "metadata": {},
   "outputs": [],
   "source": [
    "import scyjava\n",
    "\n",
    "scyjava.jvm_started()"
   ]
  },
  {
   "cell_type": "code",
   "execution_count": null,
   "id": "c4de9bba-b5ec-46af-8b20-f1c183dc278f",
   "metadata": {},
   "outputs": [],
   "source": [
    "md, wr = ir.read(simg_tile)"
   ]
  },
  {
   "cell_type": "code",
   "execution_count": null,
   "id": "6d3ae5b9-b048-46a5-b9ad-2395507d10d8",
   "metadata": {},
   "outputs": [],
   "source": [
    "mdata = wr.rdr.getMetadataStore()"
   ]
  },
  {
   "cell_type": "code",
   "execution_count": null,
   "id": "a3585a04-cca5-4217-b7a9-839f718cdad7",
   "metadata": {},
   "outputs": [],
   "source": [
    "root = mdata.getRoot()"
   ]
  },
  {
   "cell_type": "code",
   "execution_count": null,
   "id": "a2d1f293-02c6-44ac-a939-3fa8ee77f421",
   "metadata": {},
   "outputs": [],
   "source": [
    "im0 = root.getImage(0)"
   ]
  },
  {
   "cell_type": "code",
   "execution_count": null,
   "id": "a4945eaf-d84a-40f4-b45e-1b19cd83ff77",
   "metadata": {},
   "outputs": [],
   "source": [
    "pixels = im0.getPixels()"
   ]
  },
  {
   "cell_type": "code",
   "execution_count": null,
   "id": "13be7ffa-5d4a-4a7c-899f-bdb4d8b20028",
   "metadata": {},
   "outputs": [],
   "source": [
    "for idx in range(pixels.sizeOfTiffDataList()):\n",
    "    tiffData = pixels.getTiffData(idx)\n",
    "    c = tiffData.getFirstC().getValue().intValue()\n",
    "    t = tiffData.getFirstT().getValue().intValue()\n",
    "    print(\"TiffData: c=%d, t=%d\" % (c, t))"
   ]
  },
  {
   "cell_type": "markdown",
   "id": "953f0cb2-a996-4cb6-aaf0-6e96da4d28f7",
   "metadata": {},
   "source": [
    "## ImageIO"
   ]
  },
  {
   "cell_type": "code",
   "execution_count": null,
   "id": "9477b049-2b46-4ab3-8e6b-b809c762bda3",
   "metadata": {},
   "outputs": [],
   "source": [
    "from imageio.v3 import imread\n",
    "\n",
    "%timeit imread(img_void_tile, index=13)\n",
    "%memit imread(img_void_tile, index=13)\n",
    "i = imread(img_void_tile, index=13)\n",
    "i.shape"
   ]
  },
  {
   "cell_type": "code",
   "execution_count": null,
   "id": "f88e7ba7-21e4-4c2d-bf08-20a7157d6f40",
   "metadata": {},
   "outputs": [],
   "source": [
    "i.nbytes, 512**2 * 3 * 4 * 2"
   ]
  },
  {
   "cell_type": "markdown",
   "id": "8e1fa466-c8b6-4edb-b5b7-87dcbca156b8",
   "metadata": {},
   "source": [
    "It can read tif (tf8) files. Series might be passed using `index` (you need to know in advance).\n",
    "\n",
    "## AICSImageIO"
   ]
  },
  {
   "cell_type": "code",
   "execution_count": null,
   "id": "0bad2621-ee75-4c61-9a3c-434c67866c31",
   "metadata": {},
   "outputs": [],
   "source": [
    "from aicsimageio import AICSImage\n",
    "\n",
    "i = AICSImage(img_void_tile)\n",
    "# i = AICSImage(img_void_tile, reconstruct_mosaic=True)\n",
    "# i_lif = AICSImage(lif)"
   ]
  },
  {
   "cell_type": "code",
   "execution_count": null,
   "id": "e63e480e-af93-4654-ac9a-0f87738eaa64",
   "metadata": {},
   "outputs": [],
   "source": [
    "i.ome_metadata"
   ]
  },
  {
   "cell_type": "code",
   "execution_count": null,
   "id": "e872772c-7b09-4180-b663-99c516029b66",
   "metadata": {},
   "outputs": [],
   "source": [
    "i.metadata.images[0].pixels.channels[0].light_source_settings.attenuation"
   ]
  },
  {
   "cell_type": "code",
   "execution_count": null,
   "id": "5482b4a9-8bb7-4c86-8d24-d066d55e9678",
   "metadata": {},
   "outputs": [],
   "source": [
    "i.scenes"
   ]
  },
  {
   "cell_type": "code",
   "execution_count": null,
   "id": "06fa9adb-e8f3-4e78-bfcf-e292ab941c8f",
   "metadata": {},
   "outputs": [],
   "source": [
    "i.get_dask_stack()"
   ]
  },
  {
   "cell_type": "markdown",
   "id": "5ff0083c-40ef-4ff7-ab40-cb0d5193f345",
   "metadata": {},
   "source": [
    "Mosaic stitch is not supported on tif files; so I will use my function relying on the PositionXYZ metadata.\n",
    "\n",
    "## dask_image"
   ]
  },
  {
   "cell_type": "code",
   "execution_count": null,
   "id": "086065c7-e210-410f-8d96-07fb1fc27a43",
   "metadata": {},
   "outputs": [],
   "source": [
    "from dask_image.imread import imread\n",
    "\n",
    "i = imread(img_void_tile)"
   ]
  },
  {
   "cell_type": "code",
   "execution_count": null,
   "id": "fe7d003f-96d6-44f5-a229-79bfc07e95fb",
   "metadata": {},
   "outputs": [],
   "source": [
    "i"
   ]
  },
  {
   "cell_type": "code",
   "execution_count": null,
   "id": "a6d9b62a-5aea-4dcd-9310-f2d8bdbf9930",
   "metadata": {},
   "outputs": [],
   "source": [
    "imread(lif)"
   ]
  },
  {
   "cell_type": "markdown",
   "id": "71d2c542-5b10-457d-88b5-25c5c474184a",
   "metadata": {},
   "source": [
    "Somehow it uses bioformats and can handle lif. No mosaic, no metadata though.\n",
    "\n",
    "**Pycroscopy** https://pypi.org/project/pycroscopy/ is not reading lif nor ome-tif at the moment.\n",
    "\n",
    "**large-image[all]** failed to install.\n",
    "\n",
    "**pyimagej** need conda?\n",
    "\n",
    "## bioio-bioformats"
   ]
  },
  {
   "cell_type": "code",
   "execution_count": null,
   "id": "44f47685-c33a-49d4-92cc-22fc010ee7d6",
   "metadata": {},
   "outputs": [],
   "source": [
    "import bioio_ome_tiled_tiff"
   ]
  },
  {
   "cell_type": "code",
   "execution_count": null,
   "id": "32aefc16-475d-4254-b336-433c8dc57316",
   "metadata": {},
   "outputs": [],
   "source": [
    "bioio_ome_tiled_tiff.Reader(str(img_tile))"
   ]
  },
  {
   "cell_type": "code",
   "execution_count": null,
   "id": "b48df022-16b9-40a8-bf06-e93714d3ffe9",
   "metadata": {},
   "outputs": [],
   "source": [
    "import bioio_bioformats\n",
    "\n",
    "im = bioio_bioformats.Reader(img_void_tile)\n",
    "bioio_bioformats.ReaderMetadata(img_void_tile)"
   ]
  },
  {
   "cell_type": "code",
   "execution_count": null,
   "id": "c71b717f-fcd0-4054-8cef-6be1e0727b6a",
   "metadata": {},
   "outputs": [],
   "source": [
    "im.xarray_dask_data"
   ]
  },
  {
   "cell_type": "code",
   "execution_count": null,
   "id": "24ec421e-3b7b-4649-8e6b-8bfa7e65669d",
   "metadata": {},
   "outputs": [],
   "source": [
    "i = bioio_bioformats.Reader(img_tile)\n",
    "i.data.shape"
   ]
  },
  {
   "cell_type": "code",
   "execution_count": null,
   "id": "e697140f-b756-486f-bca7-725ccd25f782",
   "metadata": {},
   "outputs": [],
   "source": [
    "i.xarray_dask_data.attrs[\"processed\"]"
   ]
  },
  {
   "cell_type": "code",
   "execution_count": null,
   "id": "19b06f57-3802-4c00-b86d-878d6ba6af01",
   "metadata": {},
   "outputs": [],
   "source": [
    "import nima_io.read as ir"
   ]
  },
  {
   "cell_type": "code",
   "execution_count": null,
   "id": "7554121e-de88-4b3c-93ca-9b7cd1a37392",
   "metadata": {},
   "outputs": [],
   "source": [
    "ir.bioformats.get_omexml_metadata(img_tile)"
   ]
  },
  {
   "cell_type": "code",
   "execution_count": null,
   "id": "bc355042-d3e2-4260-9f3a-dfa49d780ba1",
   "metadata": {},
   "outputs": [],
   "source": [
    "unp = i.xarray_dask_data.attrs[\"unprocessed\"]\n",
    "?ir.get_md_dict"
   ]
  },
  {
   "cell_type": "code",
   "execution_count": null,
   "id": "5d8afb5b-daf9-46dd-ab1f-cf351f749e6d",
   "metadata": {},
   "outputs": [],
   "source": [
    "i.ome_metadata"
   ]
  },
  {
   "cell_type": "code",
   "execution_count": null,
   "id": "48df43f5-f189-48d0-b5e0-d2243c6b72cb",
   "metadata": {},
   "outputs": [],
   "source": [
    "stk = i.get_dask_stack()"
   ]
  },
  {
   "cell_type": "code",
   "execution_count": null,
   "id": "6d910666-9ed5-4809-aa73-6bb116baed51",
   "metadata": {},
   "outputs": [],
   "source": [
    "stk.A"
   ]
  },
  {
   "cell_type": "markdown",
   "id": "54963f96-3e06-4e85-8c4b-1870689c2523",
   "metadata": {},
   "source": [
    "## bfio"
   ]
  },
  {
   "cell_type": "code",
   "execution_count": null,
   "id": "c14d2152-521b-4c3d-924f-462525647be5",
   "metadata": {},
   "outputs": [],
   "source": [
    "import bfio\n",
    "\n",
    "bfio.BioReader(img_void_tile)"
   ]
  },
  {
   "cell_type": "code",
   "execution_count": null,
   "id": "a5650a71-bf23-4632-9857-be38ddb32bb2",
   "metadata": {},
   "outputs": [],
   "source": [
    "rdr = bfio.BioReader(img_void_tile)\n",
    "%timeit i = rdr.read()\n",
    "i = rdr.read()\n",
    "i.shape"
   ]
  },
  {
   "cell_type": "code",
   "execution_count": null,
   "id": "69328e4b-cfff-45ec-af5a-73b94577c230",
   "metadata": {},
   "outputs": [],
   "source": [
    "rdr.metadata"
   ]
  },
  {
   "cell_type": "code",
   "execution_count": null,
   "id": "a222f1fe-34db-43d1-8a97-6720ccede82a",
   "metadata": {},
   "outputs": [],
   "source": [
    "rdr.ps_x"
   ]
  },
  {
   "cell_type": "code",
   "execution_count": null,
   "id": "eab10d55-8697-453f-8422-145418ef10d6",
   "metadata": {},
   "outputs": [],
   "source": [
    "rdr.close()"
   ]
  },
  {
   "cell_type": "markdown",
   "id": "e6d681d7-0dd1-4be8-b5ed-6e25d09bcf58",
   "metadata": {},
   "source": [
    "## PIMS"
   ]
  },
  {
   "cell_type": "code",
   "execution_count": null,
   "id": "ea19fd32-096d-4cf4-9d1f-a17143d950ec",
   "metadata": {},
   "outputs": [],
   "source": [
    "import pims\n",
    "\n",
    "%timeit fs = pims.Bioformats(img_void_tile)\n",
    "fs = pims.Bioformats(img_void_tile)\n",
    "fs.sizes"
   ]
  },
  {
   "cell_type": "markdown",
   "id": "51091c74-7230-4ae9-b34c-3eb998e2a2a9",
   "metadata": {},
   "source": [
    "## PyOMETiff"
   ]
  },
  {
   "cell_type": "code",
   "execution_count": null,
   "id": "d1584382-71bc-45a3-8b1a-864919a2bddf",
   "metadata": {},
   "outputs": [],
   "source": [
    "import pyometiff\n",
    "\n",
    "%timeit rdr = pyometiff.OMETIFFReader(fpath=img_void_tile)\n",
    "rdr = pyometiff.OMETIFFReader(fpath=img_void_tile)"
   ]
  },
  {
   "cell_type": "code",
   "execution_count": null,
   "id": "9c0c6e95-2056-4cbe-83bb-015924e804e0",
   "metadata": {},
   "outputs": [],
   "source": [
    "%timeit r = rdr.read()\n",
    "res = rdr.read()"
   ]
  },
  {
   "cell_type": "code",
   "execution_count": null,
   "id": "776b9078-04d4-41b1-ade6-2583d4741810",
   "metadata": {},
   "outputs": [],
   "source": [
    "res[2]"
   ]
  },
  {
   "cell_type": "code",
   "execution_count": null,
   "id": "7eb964f5-be1a-4c65-9304-87eef305059e",
   "metadata": {},
   "outputs": [],
   "source": [
    "pyometiff.OMETIFFReader._get_metadata_template()"
   ]
  },
  {
   "cell_type": "markdown",
   "id": "173fc85e-e4e3-40ff-bf57-97d1c252d4a0",
   "metadata": {},
   "source": [
    "## Final Note\n",
    "\n",
    "I will keep \n",
    "\n",
    "0. Read\n",
    "1. stitch\n",
    "2. md_grouping\n",
    "\n",
    "- impy\n",
    "- napari.read\n",
    "- pycromanager\n",
    "- microscope\n",
    "- python-microscopy"
   ]
  }
 ],
 "metadata": {
  "kernelspec": {
   "display_name": "Python 3 (ipykernel)",
   "language": "python",
   "name": "python3"
  },
  "language_info": {
   "codemirror_mode": {
    "name": "ipython",
    "version": 3
   },
   "file_extension": ".py",
   "mimetype": "text/x-python",
   "name": "python",
   "nbconvert_exporter": "python",
   "pygments_lexer": "ipython3",
   "version": "3.10.13"
  }
 },
 "nbformat": 4,
 "nbformat_minor": 5
}
