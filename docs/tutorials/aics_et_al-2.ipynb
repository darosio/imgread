{
 "cells": [
  {
   "cell_type": "code",
   "execution_count": null,
   "id": "5a23c9e2-cb1e-4518-9ca1-d12e03722461",
   "metadata": {},
   "outputs": [],
   "source": [
    "%load_ext autoreload\n",
    "%autoreload 2\n",
    "\n",
    "%load_ext line_profiler\n",
    "%load_ext memory_profiler\n",
    "\n",
    "import matplotlib.pyplot as plt\n",
    "import skimage.io\n",
    "import numpy as np\n",
    "import tifffile\n",
    "\n",
    "import nima_io.read as ir\n",
    "\n",
    "from pathlib import Path\n",
    "\n",
    "tdata = Path(\"../../tests/data/\")\n",
    "\n",
    "lif = tdata / \"2015Aug28_TransHXB2_50min+DMSO.lif\"\n",
    "img_tile = tdata / \"t4_1.tif\"  # C=3 T=4 S=15\n",
    "img_void_tile = tdata / \"tile6_1.tif\"  # C=4 T=3 S=14 scattered\n",
    "imgsingle = tdata / \"exp2_2.tif\"  # C=2 T=81\n",
    "\n",
    "mcts = tdata / \"multi-channel-time-series.ome.tif\"  # C=3 T=7\n",
    "bigtiff = tdata / \"LC26GFP_1.tf8\"  # bigtiff\n",
    "\n",
    "slif = str(lif)\n",
    "simg_tile = str(img_tile)\n",
    "simg_void_tile = str(img_void_tile)\n",
    "simgsingle = str(imgsingle)\n",
    "smcts = str(mcts)\n",
    "sbigtiff = str(bigtiff)"
   ]
  },
  {
   "attachments": {},
   "cell_type": "markdown",
   "id": "8891da44-eeb8-4915-9fd2-fe0e62c6335f",
   "metadata": {},
   "source": [
    "## nima_io.read\n",
    "\n",
    "| function   |  time | Pos in md | extra md | no errors | note                     |\n",
    "|------------|-------|-----------|----------|-----------|--------------------------|\n",
    "| read       |  4.68 | yes       | no       | no        |                          |\n",
    "| read2      |  12.4 | no        | yes      | no        |                          |\n",
    "| read_bf    | 0.487 | no        | no       | no        |                          |\n",
    "| reaf_jb    |  4.47 | yes       | no       | no        |                          |\n",
    "| read_wrap  |     - | yes       | no       | yes       | It calls read            |\n",
    "|----\n",
    "| read_pims  |  2.57 | yes       | no       | yes       | extra pims DIMS          |\n",
    "| read_jpype | 0.263 | yes       | yes      | yes       |                          |\n",
    "\n",
    "Summary:\n",
    "\n",
    "- The Jpype approach stands out for its thoroughness and performance.\n",
    "- Scyjava, built on Jpype, is now superseding it.\n",
    "- Functions like read_inf and read_bf may be candidates for removal from the convenient library.\n",
    "\n",
    "In the following, various bioformats implementations are explored. While python-bioformats produces a verbose warning log through python-javabridge, the numerous metadata linked to individual planes are not returned by the external library. Hence, I decided to develop a small library to handle additional (neglected) metadata, such as acquisition stage position (essential for reconstructing tiled images) and illumination and emission settings.\n",
    "\n",
    "### read_jpype"
   ]
  },
  {
   "cell_type": "code",
   "execution_count": null,
   "id": "ff65a9d5-2d1f-452c-a1ff-7934f219650c",
   "metadata": {},
   "outputs": [],
   "source": [
    "%timeit ir.read_jpype(simg_void_tile)\n",
    "%memit ir.read_jpype(simg_void_tile)\n",
    "\n",
    "rjpype = ir.read_jpype(simg_void_tile)"
   ]
  },
  {
   "cell_type": "code",
   "execution_count": null,
   "id": "5e5b04b9-69ea-4fd5-8eda-24da94a3db13",
   "metadata": {},
   "outputs": [],
   "source": [
    "(core_md_jpype, (wr_jpype, type, extra_md_jpype)) = rjpype"
   ]
  },
  {
   "cell_type": "code",
   "execution_count": null,
   "id": "71245cf8-aca0-4434-b942-f686dce5789e",
   "metadata": {},
   "outputs": [],
   "source": [
    "read_dictionary = np.load(\"extra_md_read2.npy\", allow_pickle=True).item()\n",
    "\n",
    "sorted_dict = {k: read_dictionary[k] for k in sorted(read_dictionary.keys())}\n",
    "sorted_dictJ = {k: extra_md_jpype[k] for k in sorted(extra_md_jpype.keys())}"
   ]
  },
  {
   "cell_type": "code",
   "execution_count": null,
   "id": "7b61e539-7ac2-4f60-a76b-4e53333fad15",
   "metadata": {},
   "outputs": [],
   "source": [
    "sorted(extra_md_jpype.keys()) == sorted(read_dictionary.keys())"
   ]
  },
  {
   "cell_type": "code",
   "execution_count": null,
   "id": "228bc1bf-5a41-491a-94f4-d3aad95611bb",
   "metadata": {},
   "outputs": [],
   "source": [
    "read_dictionary.keys() - extra_md_jpype.keys()"
   ]
  },
  {
   "cell_type": "code",
   "execution_count": null,
   "id": "56192c9f-6b5b-45d4-bc37-60350f1000e3",
   "metadata": {},
   "outputs": [],
   "source": [
    "read_dictionary[\"Format\"], read_dictionary[\"Creator\"]"
   ]
  },
  {
   "cell_type": "code",
   "execution_count": null,
   "id": "59f3a1ed-a036-4a35-82ac-259f4d294ff0",
   "metadata": {},
   "outputs": [],
   "source": [
    "read_dictionary.pop(\"Format\")\n",
    "read_dictionary.pop(\"Creator\")"
   ]
  },
  {
   "cell_type": "code",
   "execution_count": null,
   "id": "ea45bd88-9c45-4f39-b7fc-e957bb77c784",
   "metadata": {},
   "outputs": [],
   "source": [
    "sorted_dict = {k: read_dictionary[k] for k in sorted(read_dictionary.keys())}\n",
    "for k in sorted_dict:\n",
    "    if not sorted_dict[k] == sorted_dictJ[k]:\n",
    "        print(k)"
   ]
  },
  {
   "cell_type": "code",
   "execution_count": null,
   "id": "6dc29b8a-012e-489d-bf3c-863d2b2509b5",
   "metadata": {},
   "outputs": [],
   "source": [
    "print(\n",
    "    read_dictionary[\"ChannelLightSourceSettingsAttenuation\"],\n",
    "    extra_md_jpype[\"ChannelLightSourceSettingsAttenuation\"],\n",
    ")\n",
    "print(read_dictionary[\"PixelsBigEndian\"], extra_md_jpype[\"PixelsBigEndian\"])\n",
    "print(read_dictionary[\"PixelsInterleaved\"], extra_md_jpype[\"PixelsInterleaved\"])"
   ]
  },
  {
   "cell_type": "code",
   "execution_count": null,
   "id": "74fec14e-c24e-4a1e-81ab-9554809f48c9",
   "metadata": {},
   "outputs": [],
   "source": [
    "f = ir.stitch(core_md_jpype, wr_jpype, c=1, t=0)\n",
    "skimage.io.imshow(f)"
   ]
  },
  {
   "cell_type": "code",
   "execution_count": null,
   "id": "7c3f26f7-da7c-4dca-949a-7c6adb1d3784",
   "metadata": {},
   "outputs": [],
   "source": [
    "core_md_jpype[\"series\"][0][\"PositionXYZ\"]"
   ]
  },
  {
   "cell_type": "markdown",
   "id": "82111f56-2420-4db4-9dbb-f0d64b3f0209",
   "metadata": {},
   "source": [
    "### PIMS\n",
    "\n",
    "Which is currently unable to download loci_tools.jar.\n",
    "\n",
    "**I really like the frame metadata t_s, x_um, y_um and z_um.\n",
    "Every array (2D, 3D, ..., n-D) having those metadata in common are contained in the Frame obj: a numpy array with metadata(dict) and frame_no(int).**\n",
    "\n",
    "Are fs.bundle_axes (fs.frame_shape), fs.iter_axes and fs.default_coords overcomplicated?\n",
    "\n",
    "Anyway: iter=0 == iter=n which is at least unexpected."
   ]
  },
  {
   "cell_type": "code",
   "execution_count": null,
   "id": "bc25301d-002b-4f4c-9710-c61ed74638e5",
   "metadata": {},
   "outputs": [],
   "source": [
    "%timeit ir.read_pims(img_void_tile)\n",
    "%memit ir.read_pims(img_void_tile)\n",
    "\n",
    "rpims = ir.read_pims(img_void_tile)\n",
    "rpims"
   ]
  },
  {
   "cell_type": "markdown",
   "id": "b729aadb-85dd-4c8f-8643-9a12bfc6adfd",
   "metadata": {},
   "source": [
    "### Update bioformats to scyjava\n",
    "\n",
    "So to remove the annoying long warning, find the jar for loci and start stop JVM properly."
   ]
  },
  {
   "cell_type": "code",
   "execution_count": null,
   "id": "393dd90f-716e-45f5-8ae0-9b0cfddd978a",
   "metadata": {},
   "outputs": [],
   "source": [
    "bioformats.ImageReader(str(img_tile))"
   ]
  },
  {
   "cell_type": "code",
   "execution_count": null,
   "id": "ed144ae8-2517-475f-9f1e-006b62621a69",
   "metadata": {},
   "outputs": [],
   "source": [
    "# bioformats_jar\n",
    "import jpype\n",
    "import scyjava\n",
    "\n",
    "scyjava.config.endpoints.append(\"ome:formats-gpl:6.7.0\")\n",
    "scyjava.start_jvm()\n",
    "loci = jpype.JPackage(\"loci\")\n",
    "loci.common.DebugTools.setRootLevel(\"ERROR\")\n",
    "\n",
    "\n",
    "def hello():\n",
    "    JOptionPane = scyjava.jimport(\"javax.swing.JOptionPane\")\n",
    "    JOptionPane.showMessageDialog(None, \"Hello world\")\n",
    "\n",
    "\n",
    "# jpype.setupGuiEnvironment(hello)"
   ]
  },
  {
   "cell_type": "code",
   "execution_count": null,
   "id": "e4491c8b-5cfa-48ef-902b-a893543277da",
   "metadata": {},
   "outputs": [],
   "source": [
    "# rdr = loci.formats.ChannelSeparator(loci.formats.ChannelFiller())\n",
    "rdr = loci.formats.ImageReader()"
   ]
  },
  {
   "cell_type": "code",
   "execution_count": null,
   "id": "d349714c-dda3-4d2b-b575-1c52ad4fb228",
   "metadata": {},
   "outputs": [],
   "source": [
    "rdr.setMetadataStore(loci.formats.MetadataTools.createOMEXMLMetadata())\n",
    "rdr.setId(simg_void_tile)\n",
    "xml_md = rdr.getMetadataStore()"
   ]
  },
  {
   "cell_type": "code",
   "execution_count": null,
   "id": "77ceeeb0-6ef3-45fc-85ee-cfb9b8636ae5",
   "metadata": {},
   "outputs": [],
   "source": [
    "# sr = image_reader.getSeriesCount()\n",
    "md, mdd = ir.get_md_dict(xml_md, simg_void_tile)"
   ]
  },
  {
   "cell_type": "code",
   "execution_count": null,
   "id": "04240a45-7dc1-44c9-b61a-147336d3ce2b",
   "metadata": {},
   "outputs": [],
   "source": [
    "# md['Format'] = rdr.format\n",
    "# new core_md\n",
    "# core_md = init_metadata(md[\"ImageCount\"][0][1], rdr.format)\n",
    "core_md = ir.init_metadata(md[\"ImageCount\"][0][1], rdr.getFormat())"
   ]
  },
  {
   "cell_type": "code",
   "execution_count": null,
   "id": "61005f47-3c24-47c7-b9aa-91b0f9fd29bc",
   "metadata": {},
   "outputs": [],
   "source": [
    "core_md"
   ]
  },
  {
   "cell_type": "code",
   "execution_count": null,
   "id": "3922ed69-2eaf-4043-ba53-34718ca241f5",
   "metadata": {},
   "outputs": [],
   "source": [
    "scyjava.jvm_started()"
   ]
  },
  {
   "cell_type": "markdown",
   "id": "d80f9ba6-4b1d-4908-a7dd-38a8a51f245b",
   "metadata": {},
   "source": [
    "### TileSticher\n",
    "   #+begin_src jupyter-python\n",
    "\n",
    "     filepath = img_tile\n",
    "     rdr = bioformats.formatreader.make_image_reader_class()()\n",
    "     rdr.allowOpenToCheckType(True)\n",
    "\n",
    "     clsOMEXMLService = javabridge.JClassWrapper('loci.formats.services.OMEXMLService')\n",
    "     serviceFactory = javabridge.JClassWrapper('loci.common.services.ServiceFactory')()\n",
    "     service = serviceFactory.getInstance(clsOMEXMLService.klass)\n",
    "     metadata = service.createOMEXMLMetadata()\n",
    "     rdr.setMetadataStore(metadata)\n",
    "     rdr.setId(filepath)\n",
    "\n",
    "\n",
    "\n",
    "     ts = javabridge.JClassWrapper('loci.formats.TileStitcher')(rdr)\n",
    "     cs = javabridge.JClassWrapper('loci.formats.ChannelSeparator')(rdr)\n",
    "     ##is_tile = ts.makeTileStitcher(rdr)\n",
    "   #+end_src\n",
    "\n",
    "   #+RESULTS:\n",
    "\n",
    "\n",
    "   #+begin_src jupyter-python\n",
    "\n",
    "     rdr.setId(filepath)\n",
    "\n",
    "     s = 0\n",
    "     root = metadata.getRoot()\n",
    "     first_image = root.getImage(s)\n",
    "     pixels = first_image.getPixels()\n",
    "\n",
    "     # The plane data isn't in the planes, it's in the tiff data\n",
    "     for idx in range(pixels.sizeOfTiffDataList()):\n",
    "         tiffData = pixels.getTiffData(idx)\n",
    "         c = tiffData.getFirstC().getValue().intValue()\n",
    "         t = tiffData.getFirstT().getValue().intValue()\n",
    "         print(\"TiffData: c=%d, t=%d\" % (c, t))\n",
    "   #+end_src\n",
    "\n",
    "#+RESULTS:\n",
    "#+begin_example\n",
    "  TiffData: c=0, t=0\n",
    "  TiffData: c=1, t=0\n",
    "  TiffData: c=2, t=0\n",
    "  TiffData: c=3, t=0\n",
    "  TiffData: c=0, t=1\n",
    "  TiffData: c=1, t=1\n",
    "  TiffData: c=2, t=1\n",
    "  TiffData: c=3, t=1\n",
    "  TiffData: c=0, t=2\n",
    "  TiffData: c=1, t=2\n",
    "  TiffData: c=2, t=2\n",
    "  TiffData: c=3, t=2\n",
    "#+end_example\n",
    "\n"
   ]
  },
  {
   "cell_type": "markdown",
   "id": "953f0cb2-a996-4cb6-aaf0-6e96da4d28f7",
   "metadata": {},
   "source": [
    "## ImageIO"
   ]
  },
  {
   "cell_type": "markdown",
   "id": "8b430fef-d232-4ec4-b379-090e58f2ee18",
   "metadata": {},
   "source": [
    "Started comparing the available options to read microscopy file.\n",
    "\n",
    "- mosaic"
   ]
  },
  {
   "cell_type": "code",
   "execution_count": null,
   "id": "9477b049-2b46-4ab3-8e6b-b809c762bda3",
   "metadata": {},
   "outputs": [],
   "source": [
    "from imageio.v3 import imread\n",
    "\n",
    "%timeit imread(img_void_tile, index=13)\n",
    "%memit imread(img_void_tile, index=13)\n",
    "i = imread(img_void_tile, index=13)\n",
    "i.shape"
   ]
  },
  {
   "cell_type": "code",
   "execution_count": null,
   "id": "f88e7ba7-21e4-4c2d-bf08-20a7157d6f40",
   "metadata": {},
   "outputs": [],
   "source": [
    "i.nbytes, 512**2 * 3 * 4 * 2"
   ]
  },
  {
   "cell_type": "markdown",
   "id": "8e1fa466-c8b6-4edb-b5b7-87dcbca156b8",
   "metadata": {},
   "source": [
    "It can read tif (tf8) files. Series might be passed using `index` (you need to know in advance).\n",
    "\n",
    "## AICSImageIO"
   ]
  },
  {
   "cell_type": "code",
   "execution_count": null,
   "id": "0bad2621-ee75-4c61-9a3c-434c67866c31",
   "metadata": {},
   "outputs": [],
   "source": [
    "from aicsimageio import AICSImage\n",
    "\n",
    "i = AICSImage(img_void_tile)\n",
    "# i = AICSImage(img_void_tile, reconstruct_mosaic=True)\n",
    "# i_lif = AICSImage(lif)"
   ]
  },
  {
   "cell_type": "code",
   "execution_count": null,
   "id": "e63e480e-af93-4654-ac9a-0f87738eaa64",
   "metadata": {},
   "outputs": [],
   "source": [
    "i.ome_metadata"
   ]
  },
  {
   "cell_type": "code",
   "execution_count": null,
   "id": "5482b4a9-8bb7-4c86-8d24-d066d55e9678",
   "metadata": {},
   "outputs": [],
   "source": [
    "i.scenes"
   ]
  },
  {
   "cell_type": "code",
   "execution_count": null,
   "id": "06fa9adb-e8f3-4e78-bfcf-e292ab941c8f",
   "metadata": {},
   "outputs": [],
   "source": [
    "i.get_dask_stack()"
   ]
  },
  {
   "cell_type": "markdown",
   "id": "5ff0083c-40ef-4ff7-ab40-cb0d5193f345",
   "metadata": {},
   "source": [
    "Mosaic stitch is not supported on tif files; so I will use my function relying on the PositionXYZ metadata.\n",
    "\n",
    "## dask_image"
   ]
  },
  {
   "cell_type": "code",
   "execution_count": null,
   "id": "086065c7-e210-410f-8d96-07fb1fc27a43",
   "metadata": {},
   "outputs": [],
   "source": [
    "from dask_image.imread import imread\n",
    "\n",
    "i = imread(img_void_tile)"
   ]
  },
  {
   "cell_type": "code",
   "execution_count": null,
   "id": "fe7d003f-96d6-44f5-a229-79bfc07e95fb",
   "metadata": {},
   "outputs": [],
   "source": [
    "i"
   ]
  },
  {
   "cell_type": "code",
   "execution_count": null,
   "id": "a6d9b62a-5aea-4dcd-9310-f2d8bdbf9930",
   "metadata": {},
   "outputs": [],
   "source": [
    "imread(lif)"
   ]
  },
  {
   "cell_type": "markdown",
   "id": "71d2c542-5b10-457d-88b5-25c5c474184a",
   "metadata": {},
   "source": [
    "Somehow it uses bioformats and can handle lif. No mosaic, no metadata though.\n",
    "\n",
    "**Pycroscopy** https://pypi.org/project/pycroscopy/ is not reading lif nor ome-tif at the moment.\n",
    "\n",
    "**large-image[all]** failed to install.\n",
    "\n",
    "**pyimagej** need conda?\n",
    "\n",
    "## bioio-bioformats"
   ]
  },
  {
   "cell_type": "code",
   "execution_count": null,
   "id": "44f47685-c33a-49d4-92cc-22fc010ee7d6",
   "metadata": {},
   "outputs": [],
   "source": [
    "import bioio_ome_tiled_tiff"
   ]
  },
  {
   "cell_type": "code",
   "execution_count": null,
   "id": "32aefc16-475d-4254-b336-433c8dc57316",
   "metadata": {},
   "outputs": [],
   "source": [
    "bioio_ome_tiled_tiff.Reader(str(img_tile))"
   ]
  },
  {
   "cell_type": "code",
   "execution_count": null,
   "id": "b48df022-16b9-40a8-bf06-e93714d3ffe9",
   "metadata": {},
   "outputs": [],
   "source": [
    "import bioio_bioformats\n",
    "\n",
    "im = bioio_bioformats.Reader(img_void_tile)\n",
    "bioio_bioformats.ReaderMetadata(img_void_tile)"
   ]
  },
  {
   "cell_type": "code",
   "execution_count": null,
   "id": "c71b717f-fcd0-4054-8cef-6be1e0727b6a",
   "metadata": {},
   "outputs": [],
   "source": [
    "im.xarray_dask_data"
   ]
  },
  {
   "cell_type": "code",
   "execution_count": null,
   "id": "24ec421e-3b7b-4649-8e6b-8bfa7e65669d",
   "metadata": {},
   "outputs": [],
   "source": [
    "i = bioio_bioformats.Reader(img_tile)\n",
    "i.data.shape"
   ]
  },
  {
   "cell_type": "code",
   "execution_count": null,
   "id": "e697140f-b756-486f-bca7-725ccd25f782",
   "metadata": {},
   "outputs": [],
   "source": [
    "i.xarray_dask_data.attrs[\"processed\"]"
   ]
  },
  {
   "cell_type": "code",
   "execution_count": null,
   "id": "19b06f57-3802-4c00-b86d-878d6ba6af01",
   "metadata": {},
   "outputs": [],
   "source": [
    "import nima_io.read as ir"
   ]
  },
  {
   "cell_type": "code",
   "execution_count": null,
   "id": "7554121e-de88-4b3c-93ca-9b7cd1a37392",
   "metadata": {},
   "outputs": [],
   "source": [
    "ir.bioformats.get_omexml_metadata(img_tile)"
   ]
  },
  {
   "cell_type": "code",
   "execution_count": null,
   "id": "bc355042-d3e2-4260-9f3a-dfa49d780ba1",
   "metadata": {},
   "outputs": [],
   "source": [
    "unp = i.xarray_dask_data.attrs[\"unprocessed\"]\n",
    "?ir.get_md_dict"
   ]
  },
  {
   "cell_type": "code",
   "execution_count": null,
   "id": "5d8afb5b-daf9-46dd-ab1f-cf351f749e6d",
   "metadata": {},
   "outputs": [],
   "source": [
    "i.ome_metadata"
   ]
  },
  {
   "cell_type": "code",
   "execution_count": null,
   "id": "48df43f5-f189-48d0-b5e0-d2243c6b72cb",
   "metadata": {},
   "outputs": [],
   "source": [
    "stk = i.get_dask_stack()"
   ]
  },
  {
   "cell_type": "code",
   "execution_count": null,
   "id": "6d910666-9ed5-4809-aa73-6bb116baed51",
   "metadata": {},
   "outputs": [],
   "source": [
    "stk.A"
   ]
  },
  {
   "cell_type": "markdown",
   "id": "54963f96-3e06-4e85-8c4b-1870689c2523",
   "metadata": {},
   "source": [
    "## bfio"
   ]
  },
  {
   "cell_type": "code",
   "execution_count": null,
   "id": "c14d2152-521b-4c3d-924f-462525647be5",
   "metadata": {},
   "outputs": [],
   "source": [
    "import bfio\n",
    "\n",
    "bfio.BioReader(img_void_tile)"
   ]
  },
  {
   "cell_type": "code",
   "execution_count": null,
   "id": "a5650a71-bf23-4632-9857-be38ddb32bb2",
   "metadata": {},
   "outputs": [],
   "source": [
    "rdr = bfio.BioReader(img_void_tile)\n",
    "%timeit i = rdr.read()\n",
    "i = rdr.read()\n",
    "i.shape"
   ]
  },
  {
   "cell_type": "code",
   "execution_count": null,
   "id": "69328e4b-cfff-45ec-af5a-73b94577c230",
   "metadata": {},
   "outputs": [],
   "source": [
    "rdr.metadata"
   ]
  },
  {
   "cell_type": "code",
   "execution_count": null,
   "id": "a222f1fe-34db-43d1-8a97-6720ccede82a",
   "metadata": {},
   "outputs": [],
   "source": [
    "rdr.ps_x"
   ]
  },
  {
   "cell_type": "code",
   "execution_count": null,
   "id": "eab10d55-8697-453f-8422-145418ef10d6",
   "metadata": {},
   "outputs": [],
   "source": [
    "rdr.close()"
   ]
  },
  {
   "cell_type": "markdown",
   "id": "e6d681d7-0dd1-4be8-b5ed-6e25d09bcf58",
   "metadata": {},
   "source": [
    "## PIMS"
   ]
  },
  {
   "cell_type": "code",
   "execution_count": null,
   "id": "ea19fd32-096d-4cf4-9d1f-a17143d950ec",
   "metadata": {},
   "outputs": [],
   "source": [
    "import pims\n",
    "\n",
    "%timeit fs = pims.Bioformats(img_void_tile)\n",
    "fs = pims.Bioformats(img_void_tile)\n",
    "fs.sizes"
   ]
  },
  {
   "cell_type": "markdown",
   "id": "51091c74-7230-4ae9-b34c-3eb998e2a2a9",
   "metadata": {},
   "source": [
    "## PyOMETiff"
   ]
  },
  {
   "cell_type": "code",
   "execution_count": null,
   "id": "d1584382-71bc-45a3-8b1a-864919a2bddf",
   "metadata": {},
   "outputs": [],
   "source": [
    "import pyometiff\n",
    "\n",
    "%timeit rdr = pyometiff.OMETIFFReader(fpath=img_void_tile)\n",
    "rdr = pyometiff.OMETIFFReader(fpath=img_void_tile)"
   ]
  },
  {
   "cell_type": "code",
   "execution_count": null,
   "id": "9c0c6e95-2056-4cbe-83bb-015924e804e0",
   "metadata": {},
   "outputs": [],
   "source": [
    "%timeit r = rdr.read()\n",
    "res = rdr.read()"
   ]
  },
  {
   "cell_type": "code",
   "execution_count": null,
   "id": "776b9078-04d4-41b1-ade6-2583d4741810",
   "metadata": {},
   "outputs": [],
   "source": [
    "res[2]"
   ]
  },
  {
   "cell_type": "code",
   "execution_count": null,
   "id": "7eb964f5-be1a-4c65-9304-87eef305059e",
   "metadata": {},
   "outputs": [],
   "source": [
    "pyometiff.OMETIFFReader._get_metadata_template()"
   ]
  },
  {
   "cell_type": "markdown",
   "id": "173fc85e-e4e3-40ff-bf57-97d1c252d4a0",
   "metadata": {},
   "source": [
    "## Final Note\n",
    "\n",
    "I will keep \n",
    "\n",
    "0. Read\n",
    "1. stitch\n",
    "2. md_grouping\n",
    "\n",
    "- impy\n",
    "- napari.read\n",
    "- pycromanager\n",
    "- microscope\n",
    "- python-microscopy"
   ]
  }
 ],
 "metadata": {
  "kernelspec": {
   "display_name": "Python 3 (ipykernel)",
   "language": "python",
   "name": "python3"
  },
  "language_info": {
   "codemirror_mode": {
    "name": "ipython",
    "version": 3
   },
   "file_extension": ".py",
   "mimetype": "text/x-python",
   "name": "python",
   "nbconvert_exporter": "python",
   "pygments_lexer": "ipython3",
   "version": "3.10.13"
  }
 },
 "nbformat": 4,
 "nbformat_minor": 5
}
