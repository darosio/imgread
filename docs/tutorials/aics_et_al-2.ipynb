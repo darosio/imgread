{
 "cells": [
  {
   "cell_type": "code",
   "execution_count": 1,
   "id": "5a23c9e2-cb1e-4518-9ca1-d12e03722461",
   "metadata": {},
   "outputs": [],
   "source": [
    "%load_ext autoreload\n",
    "%autoreload 2\n",
    "\n",
    "%load_ext line_profiler\n",
    "%load_ext memory_profiler\n",
    "\n",
    "import matplotlib.pyplot as plt\n",
    "import skimage.io\n",
    "import numpy as np\n",
    "import tifffile\n",
    "\n",
    "import nima_io.read as ir\n",
    "\n",
    "from pathlib import Path\n",
    "\n",
    "tdata = Path(\"../../tests/data/\")\n",
    "\n",
    "lif = tdata / \"2015Aug28_TransHXB2_50min+DMSO.lif\"\n",
    "img_tile = tdata / \"t4_1.tif\"  # C=3 T=4 S=15\n",
    "img_void_tile = tdata / \"tile6_1.tif\"  # C=4 T=3 S=14 scattered\n",
    "imgsingle = tdata / \"exp2_2.tif\"  # C=2 T=81\n",
    "\n",
    "mcts = tdata / \"multi-channel-time-series.ome.tif\"  # C=3 T=7\n",
    "bigtiff = tdata / \"LC26GFP_1.tf8\"  # bigtiff\n",
    "\n",
    "slif = str(lif)\n",
    "simg_tile = str(img_tile)\n",
    "simg_void_tile = str(img_void_tile)\n",
    "simgsingle = str(imgsingle)\n",
    "smcts = str(mcts)\n",
    "sbigtiff = str(bigtiff)"
   ]
  },
  {
   "attachments": {},
   "cell_type": "markdown",
   "id": "8891da44-eeb8-4915-9fd2-fe0e62c6335f",
   "metadata": {},
   "source": [
    "## nima_io.read\n",
    "\n",
    "| function   |  time | Pos in md | extra md | no errors | note                     |\n",
    "|------------|-------|-----------|----------|-----------|--------------------------|\n",
    "| read       |  4.68 | yes       | no       | no        |                          |\n",
    "| read2      |  12.4 | no        | yes      | no        |                          |\n",
    "| read_inf   |  4.46 | no        | no       | yes       | core md misses many keys |\n",
    "| read_bf    | 0.487 | no        | no       | no        |                          |\n",
    "| reaf_jb    |  4.47 | yes       | no       | no        |                          |\n",
    "| read_wrap  |     - | yes       | no       | yes       | It calls read            |\n",
    "|----\n",
    "| read_pims  |  2.57 | yes       | no       | yes       | extra pims DIMS          |\n",
    "| read_jpype | 0.263 | yes       | yes      | yes       |                          |\n",
    "\n",
    "### read_jpype"
   ]
  },
  {
   "cell_type": "code",
   "execution_count": 6,
   "id": "ff65a9d5-2d1f-452c-a1ff-7934f219650c",
   "metadata": {},
   "outputs": [
    {
     "name": "stdout",
     "output_type": "stream",
     "text": [
      "233 ms ± 4.55 ms per loop (mean ± std. dev. of 7 runs, 1 loop each)\n",
      "peak memory: 896.71 MiB, increment: 2.74 MiB\n"
     ]
    }
   ],
   "source": [
    "%timeit ir.read_jpype(simg_void_tile)\n",
    "%memit ir.read_jpype(simg_void_tile)\n",
    "\n",
    "rjpype = ir.read_jpype(simg_void_tile)"
   ]
  },
  {
   "cell_type": "code",
   "execution_count": 7,
   "id": "5e5b04b9-69ea-4fd5-8eda-24da94a3db13",
   "metadata": {},
   "outputs": [],
   "source": [
    "(core_md_jpype, (wr_jpype, type, extra_md_jpype)) = rjpype"
   ]
  },
  {
   "cell_type": "code",
   "execution_count": 11,
   "id": "71245cf8-aca0-4434-b942-f686dce5789e",
   "metadata": {},
   "outputs": [],
   "source": [
    "read_dictionary = np.load(\"extra_md_read2.npy\", allow_pickle=True).item()\n",
    "\n",
    "sorted_dict = {k: read_dictionary[k] for k in sorted(read_dictionary.keys())}\n",
    "sorted_dictJ = {k: extra_md_jpype[k] for k in sorted(extra_md_jpype.keys())}"
   ]
  },
  {
   "cell_type": "code",
   "execution_count": 13,
   "id": "7b61e539-7ac2-4f60-a76b-4e53333fad15",
   "metadata": {},
   "outputs": [
    {
     "data": {
      "text/plain": [
       "False"
      ]
     },
     "execution_count": 13,
     "metadata": {},
     "output_type": "execute_result"
    }
   ],
   "source": [
    "sorted(extra_md_jpype.keys()) == sorted(read_dictionary.keys())"
   ]
  },
  {
   "cell_type": "code",
   "execution_count": 15,
   "id": "228bc1bf-5a41-491a-94f4-d3aad95611bb",
   "metadata": {},
   "outputs": [
    {
     "data": {
      "text/plain": [
       "{'Creator', 'Format'}"
      ]
     },
     "execution_count": 15,
     "metadata": {},
     "output_type": "execute_result"
    }
   ],
   "source": [
    "read_dictionary.keys() - extra_md_jpype.keys()"
   ]
  },
  {
   "cell_type": "code",
   "execution_count": 17,
   "id": "56192c9f-6b5b-45d4-bc37-60350f1000e3",
   "metadata": {},
   "outputs": [
    {
     "data": {
      "text/plain": [
       "('OME-TIFF', [((), 'FEI Munich GmbH, Live Acquisition, V2.5.0.6')])"
      ]
     },
     "execution_count": 17,
     "metadata": {},
     "output_type": "execute_result"
    }
   ],
   "source": [
    "read_dictionary[\"Format\"], read_dictionary[\"Creator\"]"
   ]
  },
  {
   "cell_type": "code",
   "execution_count": 18,
   "id": "59f3a1ed-a036-4a35-82ac-259f4d294ff0",
   "metadata": {},
   "outputs": [
    {
     "data": {
      "text/plain": [
       "[((), 'FEI Munich GmbH, Live Acquisition, V2.5.0.6')]"
      ]
     },
     "execution_count": 18,
     "metadata": {},
     "output_type": "execute_result"
    }
   ],
   "source": [
    "read_dictionary.pop(\"Format\")\n",
    "read_dictionary.pop(\"Creator\")"
   ]
  },
  {
   "cell_type": "code",
   "execution_count": 19,
   "id": "ea45bd88-9c45-4f39-b7fc-e957bb77c784",
   "metadata": {},
   "outputs": [
    {
     "name": "stdout",
     "output_type": "stream",
     "text": [
      "ChannelLightSourceSettingsAttenuation\n",
      "PixelsBigEndian\n",
      "PixelsInterleaved\n"
     ]
    }
   ],
   "source": [
    "sorted_dict = {k: read_dictionary[k] for k in sorted(read_dictionary.keys())}\n",
    "for k in sorted_dict:\n",
    "    if not sorted_dict[k] == sorted_dictJ[k]:\n",
    "        print(k)"
   ]
  },
  {
   "cell_type": "code",
   "execution_count": 21,
   "id": "6dc29b8a-012e-489d-bf3c-863d2b2509b5",
   "metadata": {},
   "outputs": [
    {
     "name": "stdout",
     "output_type": "stream",
     "text": [
      "[((13, 2), 0.9)] [((13, 2), 0.8999999761581421)]\n",
      "[((13,), False)] [((13,), 'False')]\n",
      "[((13,), False)] [((13,), 'False')]\n"
     ]
    }
   ],
   "source": [
    "print(\n",
    "    read_dictionary[\"ChannelLightSourceSettingsAttenuation\"],\n",
    "    extra_md_jpype[\"ChannelLightSourceSettingsAttenuation\"],\n",
    ")\n",
    "print(read_dictionary[\"PixelsBigEndian\"], extra_md_jpype[\"PixelsBigEndian\"])\n",
    "print(read_dictionary[\"PixelsInterleaved\"], extra_md_jpype[\"PixelsInterleaved\"])"
   ]
  },
  {
   "cell_type": "code",
   "execution_count": 29,
   "id": "74fec14e-c24e-4a1e-81ab-9554809f48c9",
   "metadata": {},
   "outputs": [
    {
     "ename": "ValueError",
     "evalue": "One or more series doesn't have a single XYZ position.",
     "output_type": "error",
     "traceback": [
      "\u001b[0;31m---------------------------------------------------------------------------\u001b[0m",
      "\u001b[0;31mValueError\u001b[0m                                Traceback (most recent call last)",
      "Cell \u001b[0;32mIn[29], line 1\u001b[0m\n\u001b[0;32m----> 1\u001b[0m f \u001b[38;5;241m=\u001b[39m \u001b[43mir\u001b[49m\u001b[38;5;241;43m.\u001b[39;49m\u001b[43mstitch\u001b[49m\u001b[43m(\u001b[49m\u001b[43mcore_md_jpype\u001b[49m\u001b[43m,\u001b[49m\u001b[43m \u001b[49m\u001b[43mwr_jpype\u001b[49m\u001b[43m,\u001b[49m\u001b[43m \u001b[49m\u001b[43mc\u001b[49m\u001b[38;5;241;43m=\u001b[39;49m\u001b[38;5;241;43m1\u001b[39;49m\u001b[43m,\u001b[49m\u001b[43m \u001b[49m\u001b[43mt\u001b[49m\u001b[38;5;241;43m=\u001b[39;49m\u001b[38;5;241;43m0\u001b[39;49m\u001b[43m)\u001b[49m\n\u001b[1;32m      2\u001b[0m skimage\u001b[38;5;241m.\u001b[39mio\u001b[38;5;241m.\u001b[39mimshow(f)\n",
      "File \u001b[0;32m~/workspace/nima_io/src/nima_io/read.py:612\u001b[0m, in \u001b[0;36mstitch\u001b[0;34m(md, wrapper, c, t, z)\u001b[0m\n\u001b[1;32m    610\u001b[0m \u001b[38;5;28;01mif\u001b[39;00m \u001b[38;5;129;01mnot\u001b[39;00m \u001b[38;5;28mall\u001b[39m(\u001b[38;5;28mlen\u001b[39m(p) \u001b[38;5;241m==\u001b[39m \u001b[38;5;241m1\u001b[39m \u001b[38;5;28;01mfor\u001b[39;00m p \u001b[38;5;129;01min\u001b[39;00m xyz_list_of_sets):\n\u001b[1;32m    611\u001b[0m     msg \u001b[38;5;241m=\u001b[39m \u001b[38;5;124m\"\u001b[39m\u001b[38;5;124mOne or more series doesn\u001b[39m\u001b[38;5;124m'\u001b[39m\u001b[38;5;124mt have a single XYZ position.\u001b[39m\u001b[38;5;124m\"\u001b[39m\n\u001b[0;32m--> 612\u001b[0m     \u001b[38;5;28;01mraise\u001b[39;00m \u001b[38;5;167;01mValueError\u001b[39;00m(msg)\n\u001b[1;32m    613\u001b[0m xy_positions \u001b[38;5;241m=\u001b[39m [\u001b[38;5;28mnext\u001b[39m(\u001b[38;5;28miter\u001b[39m(p))[:\u001b[38;5;241m2\u001b[39m] \u001b[38;5;28;01mfor\u001b[39;00m p \u001b[38;5;129;01min\u001b[39;00m xyz_list_of_sets]\n\u001b[1;32m    614\u001b[0m unique_x \u001b[38;5;241m=\u001b[39m np\u001b[38;5;241m.\u001b[39msort(\u001b[38;5;28mlist\u001b[39m({xy[\u001b[38;5;241m0\u001b[39m] \u001b[38;5;28;01mfor\u001b[39;00m xy \u001b[38;5;129;01min\u001b[39;00m xy_positions}))\n",
      "\u001b[0;31mValueError\u001b[0m: One or more series doesn't have a single XYZ position."
     ]
    }
   ],
   "source": [
    "f = ir.stitch(core_md_jpype, wr_jpype, c=1, t=0)\n",
    "skimage.io.imshow(f)"
   ]
  },
  {
   "cell_type": "code",
   "execution_count": 45,
   "id": "7c3f26f7-da7c-4dca-949a-7c6adb1d3784",
   "metadata": {},
   "outputs": [
    {
     "data": {
      "text/plain": [
       "{21.953, 50.62738, 81.83527}"
      ]
     },
     "execution_count": 45,
     "metadata": {},
     "output_type": "execute_result"
    }
   ],
   "source": [
    "core_md_jpype[\"series\"][0][\"PositionXYZ\"]"
   ]
  },
  {
   "cell_type": "markdown",
   "id": "82111f56-2420-4db4-9dbb-f0d64b3f0209",
   "metadata": {},
   "source": [
    "### PIMS\n",
    "\n",
    "Which is currently unable to download loci_tools.jar.\n",
    "\n",
    "**I really like the frame metadata t_s, x_um, y_um and z_um.\n",
    "Every array (2D, 3D, ..., nD) having those metadata in common are contained in the Frame obj: a numpy array with metadata(dict) and frame_no(int).**\n",
    "\n",
    "Are fs.bundle_axes (fs.frame_shape), fs.iter_axes and fs.default_coords overcomplicated?\n",
    "\n",
    "Anyway: iter=0 == iter=n which is at least unexpected."
   ]
  },
  {
   "cell_type": "code",
   "execution_count": null,
   "id": "bc25301d-002b-4f4c-9710-c61ed74638e5",
   "metadata": {},
   "outputs": [],
   "source": [
    "%timeit ir.read_pims(img_void_tile)\n",
    "%memit ir.read_pims(img_void_tile)\n",
    "\n",
    "rpims = ir.read_pims(img_void_tile)\n",
    "rpims"
   ]
  },
  {
   "cell_type": "markdown",
   "id": "b729aadb-85dd-4c8f-8643-9a12bfc6adfd",
   "metadata": {},
   "source": [
    "### Update bioformats to scyjava\n",
    "\n",
    "So to remove the annoying long warning, find the jar for loci and start stop JVM properly."
   ]
  },
  {
   "cell_type": "code",
   "execution_count": null,
   "id": "393dd90f-716e-45f5-8ae0-9b0cfddd978a",
   "metadata": {},
   "outputs": [],
   "source": [
    "bioformats.ImageReader(str(img_tile))"
   ]
  },
  {
   "cell_type": "code",
   "execution_count": null,
   "id": "f09a02fb-faa0-4193-adaf-56be348f0ae9",
   "metadata": {},
   "outputs": [],
   "source": [
    "import jpype, scyjava\n",
    "\n",
    "scyjava.start_jvm()\n",
    "\n",
    "\n",
    "def hello():\n",
    "    JOptionPane = scyjava.jimport(\"javax.swing.JOptionPane\")\n",
    "    JOptionPane.showMessageDialog(None, \"Hello world\")\n",
    "\n",
    "\n",
    "jpype.setupGuiEnvironment(hello)"
   ]
  },
  {
   "cell_type": "code",
   "execution_count": 2,
   "id": "ed144ae8-2517-475f-9f1e-006b62621a69",
   "metadata": {},
   "outputs": [],
   "source": [
    "# bioformats_jar\n",
    "import jpype\n",
    "import scyjava\n",
    "\n",
    "scyjava.config.endpoints.append(\"ome:formats-gpl:6.7.0\")\n",
    "scyjava.start_jvm()\n",
    "loci = jpype.JPackage(\"loci\")\n",
    "loci.common.DebugTools.setRootLevel(\"ERROR\")"
   ]
  },
  {
   "cell_type": "code",
   "execution_count": 3,
   "id": "e4491c8b-5cfa-48ef-902b-a893543277da",
   "metadata": {},
   "outputs": [],
   "source": [
    "# rdr = loci.formats.ChannelSeparator(loci.formats.ChannelFiller())\n",
    "rdr = loci.formats.ImageReader()"
   ]
  },
  {
   "cell_type": "code",
   "execution_count": 12,
   "id": "d349714c-dda3-4d2b-b575-1c52ad4fb228",
   "metadata": {},
   "outputs": [],
   "source": [
    "rdr.setMetadataStore(loci.formats.MetadataTools.createOMEXMLMetadata())\n",
    "rdr.setId(simg_void_tile)\n",
    "xml_md = rdr.getMetadataStore()"
   ]
  },
  {
   "cell_type": "code",
   "execution_count": 17,
   "id": "77ceeeb0-6ef3-45fc-85ee-cfb9b8636ae5",
   "metadata": {},
   "outputs": [],
   "source": [
    "# sr = image_reader.getSeriesCount()\n",
    "md, mdd = ir.get_md_dict(xml_md, simg_void_tile)"
   ]
  },
  {
   "cell_type": "code",
   "execution_count": 21,
   "id": "04240a45-7dc1-44c9-b61a-147336d3ce2b",
   "metadata": {},
   "outputs": [],
   "source": [
    "# md['Format'] = rdr.format\n",
    "# new core_md\n",
    "# core_md = init_metadata(md[\"ImageCount\"][0][1], rdr.format)\n",
    "core_md = ir.init_metadata(md[\"ImageCount\"][0][1], rdr.getFormat())"
   ]
  },
  {
   "cell_type": "code",
   "execution_count": 23,
   "id": "61005f47-3c24-47c7-b9aa-91b0f9fd29bc",
   "metadata": {},
   "outputs": [
    {
     "data": {
      "text/plain": [
       "{'SizeS': 14, 'Format': 'OME-TIFF', 'series': []}"
      ]
     },
     "execution_count": 23,
     "metadata": {},
     "output_type": "execute_result"
    }
   ],
   "source": [
    "core_md"
   ]
  },
  {
   "cell_type": "code",
   "execution_count": 29,
   "id": "3922ed69-2eaf-4043-ba53-34718ca241f5",
   "metadata": {},
   "outputs": [
    {
     "data": {
      "text/plain": [
       "False"
      ]
     },
     "execution_count": 29,
     "metadata": {},
     "output_type": "execute_result"
    }
   ],
   "source": [
    "scyjava.jvm_started()"
   ]
  },
  {
   "cell_type": "markdown",
   "id": "d80f9ba6-4b1d-4908-a7dd-38a8a51f245b",
   "metadata": {},
   "source": [
    "### TileSticher\n",
    "   #+begin_src jupyter-python\n",
    "\n",
    "     filepath = img_tile\n",
    "     rdr = bioformats.formatreader.make_image_reader_class()()\n",
    "     rdr.allowOpenToCheckType(True)\n",
    "\n",
    "     clsOMEXMLService = javabridge.JClassWrapper('loci.formats.services.OMEXMLService')\n",
    "     serviceFactory = javabridge.JClassWrapper('loci.common.services.ServiceFactory')()\n",
    "     service = serviceFactory.getInstance(clsOMEXMLService.klass)\n",
    "     metadata = service.createOMEXMLMetadata()\n",
    "     rdr.setMetadataStore(metadata)\n",
    "     rdr.setId(filepath)\n",
    "\n",
    "\n",
    "\n",
    "     ts = javabridge.JClassWrapper('loci.formats.TileStitcher')(rdr)\n",
    "     cs = javabridge.JClassWrapper('loci.formats.ChannelSeparator')(rdr)\n",
    "     ##is_tile = ts.makeTileStitcher(rdr)\n",
    "   #+end_src\n",
    "\n",
    "   #+RESULTS:\n",
    "\n",
    "\n",
    "   #+begin_src jupyter-python\n",
    "\n",
    "     rdr.setId(filepath)\n",
    "\n",
    "     s = 0\n",
    "     root = metadata.getRoot()\n",
    "     first_image = root.getImage(s)\n",
    "     pixels = first_image.getPixels()\n",
    "\n",
    "     # The plane data isn't in the planes, it's in the tiff data\n",
    "     for idx in range(pixels.sizeOfTiffDataList()):\n",
    "         tiffData = pixels.getTiffData(idx)\n",
    "         c = tiffData.getFirstC().getValue().intValue()\n",
    "         t = tiffData.getFirstT().getValue().intValue()\n",
    "         print(\"TiffData: c=%d, t=%d\" % (c, t))\n",
    "   #+end_src\n",
    "\n",
    "#+RESULTS:\n",
    "#+begin_example\n",
    "  TiffData: c=0, t=0\n",
    "  TiffData: c=1, t=0\n",
    "  TiffData: c=2, t=0\n",
    "  TiffData: c=3, t=0\n",
    "  TiffData: c=0, t=1\n",
    "  TiffData: c=1, t=1\n",
    "  TiffData: c=2, t=1\n",
    "  TiffData: c=3, t=1\n",
    "  TiffData: c=0, t=2\n",
    "  TiffData: c=1, t=2\n",
    "  TiffData: c=2, t=2\n",
    "  TiffData: c=3, t=2\n",
    "#+end_example\n",
    "\n"
   ]
  },
  {
   "cell_type": "markdown",
   "id": "953f0cb2-a996-4cb6-aaf0-6e96da4d28f7",
   "metadata": {},
   "source": [
    "## ImageIO"
   ]
  },
  {
   "cell_type": "markdown",
   "id": "8b430fef-d232-4ec4-b379-090e58f2ee18",
   "metadata": {},
   "source": [
    "Started comparing the available options to read microscopy file.\n",
    "\n",
    "- mosaic"
   ]
  },
  {
   "cell_type": "code",
   "execution_count": null,
   "id": "9477b049-2b46-4ab3-8e6b-b809c762bda3",
   "metadata": {},
   "outputs": [],
   "source": [
    "from imageio.v3 import imread\n",
    "\n",
    "%timeit imread(img_void_tile, index=13)\n",
    "%memit imread(img_void_tile, index=13)\n",
    "i = imread(img_void_tile, index=13)\n",
    "i.shape"
   ]
  },
  {
   "cell_type": "code",
   "execution_count": null,
   "id": "f88e7ba7-21e4-4c2d-bf08-20a7157d6f40",
   "metadata": {},
   "outputs": [],
   "source": [
    "i.nbytes, 512**2 * 3 * 4 * 2"
   ]
  },
  {
   "cell_type": "markdown",
   "id": "8e1fa466-c8b6-4edb-b5b7-87dcbca156b8",
   "metadata": {},
   "source": [
    "It can read tif (tf8) files. Series might be passed using `index` (you need to know in advance).\n",
    "\n",
    "## AICSImageIO"
   ]
  },
  {
   "cell_type": "code",
   "execution_count": 23,
   "id": "0bad2621-ee75-4c61-9a3c-434c67866c31",
   "metadata": {},
   "outputs": [],
   "source": [
    "from aicsimageio import AICSImage\n",
    "\n",
    "i = AICSImage(img_void_tile)\n",
    "# i = AICSImage(img_void_tile, reconstruct_mosaic=True)\n",
    "# i_lif = AICSImage(lif)"
   ]
  },
  {
   "cell_type": "code",
   "execution_count": 24,
   "id": "e63e480e-af93-4654-ac9a-0f87738eaa64",
   "metadata": {},
   "outputs": [
    {
     "data": {
      "text/plain": [
       "OME(\n",
       "   experiments=[{'description': '', 'experimenter_ref': {'id': 'Experimenter:0ec49b9d-d35f-46d9-9adc-9526e28d4f4d'}, 'type': [<Experiment_value.FOUR_DPLUS: 'FourDPlus'>], 'id': 'Experiment:344b0000-4d68-4181-9d41-1cf0eb64969b'}],\n",
       "   plates=[<1 field_type>],\n",
       "   experimenters=[{'id': 'Experimenter:0ec49b9d-d35f-46d9-9adc-9526e28d4f4d'}],\n",
       "   instruments=[<1 field_type>],\n",
       "   images=[<14 field_type>],\n",
       "   structured_annotations=[<1 field_type>],\n",
       "   creator='FEI Munich GmbH, Live Acquisition, V2.5.0.6',\n",
       ")"
      ]
     },
     "execution_count": 24,
     "metadata": {},
     "output_type": "execute_result"
    }
   ],
   "source": [
    "i.ome_metadata"
   ]
  },
  {
   "cell_type": "code",
   "execution_count": 26,
   "id": "5482b4a9-8bb7-4c86-8d24-d066d55e9678",
   "metadata": {},
   "outputs": [
    {
     "data": {
      "text/plain": [
       "('Image:99b33976-bed6-4899-82b1-ab02a8aa1cd0',\n",
       " 'Image:be6d30af-41ed-4e5c-9c47-852f36b61456',\n",
       " 'Image:327165fa-ccde-4824-9031-f01e1f69e9d3',\n",
       " 'Image:4c24a448-6b56-4c94-9c93-76d0b7bafa61',\n",
       " 'Image:0b97b10a-b6cb-4610-aea2-f37e14c228fb',\n",
       " 'Image:b373be78-0fdd-47c0-8abf-3aedcd326dd1',\n",
       " 'Image:2c74a9ce-16a4-4623-a111-3ece6c88c02e',\n",
       " 'Image:714448cb-93cc-4ac1-9c30-68ca09798360',\n",
       " 'Image:2f1dd659-32b6-4f62-83fd-22955e200d98',\n",
       " 'Image:a671c95b-87ac-41ea-86ae-040c127d66bb',\n",
       " 'Image:62a6a209-360c-4625-8562-89ff3fe8da14',\n",
       " 'Image:8b48ee80-7dff-49fe-bea6-0054b702a24c',\n",
       " 'Image:8257b63a-fba0-453e-a535-814138d2bc62',\n",
       " 'Image:de6e3901-0832-4544-b41c-d8f0420195b2')"
      ]
     },
     "execution_count": 26,
     "metadata": {},
     "output_type": "execute_result"
    }
   ],
   "source": [
    "i.scenes"
   ]
  },
  {
   "cell_type": "code",
   "execution_count": 27,
   "id": "06fa9adb-e8f3-4e78-bfcf-e292ab941c8f",
   "metadata": {},
   "outputs": [
    {
     "data": {
      "text/html": [
       "<table>\n",
       "    <tr>\n",
       "        <td>\n",
       "            <table style=\"border-collapse: collapse;\">\n",
       "                <thead>\n",
       "                    <tr>\n",
       "                        <td> </td>\n",
       "                        <th> Array </th>\n",
       "                        <th> Chunk </th>\n",
       "                    </tr>\n",
       "                </thead>\n",
       "                <tbody>\n",
       "                    \n",
       "                    <tr>\n",
       "                        <th> Bytes </th>\n",
       "                        <td> 84.00 MiB </td>\n",
       "                        <td> 512.00 kiB </td>\n",
       "                    </tr>\n",
       "                    \n",
       "                    <tr>\n",
       "                        <th> Shape </th>\n",
       "                        <td> (14, 4, 3, 1, 512, 512) </td>\n",
       "                        <td> (1, 1, 1, 1, 512, 512) </td>\n",
       "                    </tr>\n",
       "                    <tr>\n",
       "                        <th> Dask graph </th>\n",
       "                        <td colspan=\"2\"> 168 chunks in 631 graph layers </td>\n",
       "                    </tr>\n",
       "                    <tr>\n",
       "                        <th> Data type </th>\n",
       "                        <td colspan=\"2\"> uint16 numpy.ndarray </td>\n",
       "                    </tr>\n",
       "                </tbody>\n",
       "            </table>\n",
       "        </td>\n",
       "        <td>\n",
       "        <svg width=\"430\" height=\"184\" style=\"stroke:rgb(0,0,0);stroke-width:1\" >\n",
       "\n",
       "  <!-- Horizontal lines -->\n",
       "  <line x1=\"10\" y1=\"0\" x2=\"28\" y2=\"18\" style=\"stroke-width:2\" />\n",
       "  <line x1=\"10\" y1=\"6\" x2=\"28\" y2=\"24\" />\n",
       "  <line x1=\"10\" y1=\"12\" x2=\"28\" y2=\"30\" />\n",
       "  <line x1=\"10\" y1=\"19\" x2=\"28\" y2=\"37\" />\n",
       "  <line x1=\"10\" y1=\"25\" x2=\"28\" y2=\"43\" style=\"stroke-width:2\" />\n",
       "\n",
       "  <!-- Vertical lines -->\n",
       "  <line x1=\"10\" y1=\"0\" x2=\"10\" y2=\"25\" style=\"stroke-width:2\" />\n",
       "  <line x1=\"11\" y1=\"1\" x2=\"11\" y2=\"26\" />\n",
       "  <line x1=\"12\" y1=\"2\" x2=\"12\" y2=\"28\" />\n",
       "  <line x1=\"13\" y1=\"3\" x2=\"13\" y2=\"29\" />\n",
       "  <line x1=\"15\" y1=\"5\" x2=\"15\" y2=\"30\" />\n",
       "  <line x1=\"16\" y1=\"6\" x2=\"16\" y2=\"31\" />\n",
       "  <line x1=\"17\" y1=\"7\" x2=\"17\" y2=\"33\" />\n",
       "  <line x1=\"19\" y1=\"9\" x2=\"19\" y2=\"34\" />\n",
       "  <line x1=\"20\" y1=\"10\" x2=\"20\" y2=\"35\" />\n",
       "  <line x1=\"21\" y1=\"11\" x2=\"21\" y2=\"37\" />\n",
       "  <line x1=\"22\" y1=\"12\" x2=\"22\" y2=\"38\" />\n",
       "  <line x1=\"24\" y1=\"14\" x2=\"24\" y2=\"39\" />\n",
       "  <line x1=\"25\" y1=\"15\" x2=\"25\" y2=\"40\" />\n",
       "  <line x1=\"26\" y1=\"16\" x2=\"26\" y2=\"42\" />\n",
       "  <line x1=\"28\" y1=\"18\" x2=\"28\" y2=\"43\" style=\"stroke-width:2\" />\n",
       "\n",
       "  <!-- Colored Rectangle -->\n",
       "  <polygon points=\"10.0,0.0 28.140307210998174,18.140307210998174 28.140307210998174,43.552923725580655 10.0,25.412616514582485\" style=\"fill:#ECB172A0;stroke-width:0\"/>\n",
       "\n",
       "  <!-- Horizontal lines -->\n",
       "  <line x1=\"10\" y1=\"0\" x2=\"35\" y2=\"0\" style=\"stroke-width:2\" />\n",
       "  <line x1=\"11\" y1=\"1\" x2=\"36\" y2=\"1\" />\n",
       "  <line x1=\"12\" y1=\"2\" x2=\"38\" y2=\"2\" />\n",
       "  <line x1=\"13\" y1=\"3\" x2=\"39\" y2=\"3\" />\n",
       "  <line x1=\"15\" y1=\"5\" x2=\"40\" y2=\"5\" />\n",
       "  <line x1=\"16\" y1=\"6\" x2=\"41\" y2=\"6\" />\n",
       "  <line x1=\"17\" y1=\"7\" x2=\"43\" y2=\"7\" />\n",
       "  <line x1=\"19\" y1=\"9\" x2=\"44\" y2=\"9\" />\n",
       "  <line x1=\"20\" y1=\"10\" x2=\"45\" y2=\"10\" />\n",
       "  <line x1=\"21\" y1=\"11\" x2=\"47\" y2=\"11\" />\n",
       "  <line x1=\"22\" y1=\"12\" x2=\"48\" y2=\"12\" />\n",
       "  <line x1=\"24\" y1=\"14\" x2=\"49\" y2=\"14\" />\n",
       "  <line x1=\"25\" y1=\"15\" x2=\"50\" y2=\"15\" />\n",
       "  <line x1=\"26\" y1=\"16\" x2=\"52\" y2=\"16\" />\n",
       "  <line x1=\"28\" y1=\"18\" x2=\"53\" y2=\"18\" style=\"stroke-width:2\" />\n",
       "\n",
       "  <!-- Vertical lines -->\n",
       "  <line x1=\"10\" y1=\"0\" x2=\"28\" y2=\"18\" style=\"stroke-width:2\" />\n",
       "  <line x1=\"18\" y1=\"0\" x2=\"36\" y2=\"18\" />\n",
       "  <line x1=\"26\" y1=\"0\" x2=\"45\" y2=\"18\" />\n",
       "  <line x1=\"35\" y1=\"0\" x2=\"53\" y2=\"18\" style=\"stroke-width:2\" />\n",
       "\n",
       "  <!-- Colored Rectangle -->\n",
       "  <polygon points=\"10.0,0.0 35.41261651458248,0.0 53.552923725580655,18.140307210998174 28.140307210998174,18.140307210998174\" style=\"fill:#ECB172A0;stroke-width:0\"/>\n",
       "\n",
       "  <!-- Horizontal lines -->\n",
       "  <line x1=\"28\" y1=\"18\" x2=\"53\" y2=\"18\" style=\"stroke-width:2\" />\n",
       "  <line x1=\"28\" y1=\"24\" x2=\"53\" y2=\"24\" />\n",
       "  <line x1=\"28\" y1=\"30\" x2=\"53\" y2=\"30\" />\n",
       "  <line x1=\"28\" y1=\"37\" x2=\"53\" y2=\"37\" />\n",
       "  <line x1=\"28\" y1=\"43\" x2=\"53\" y2=\"43\" style=\"stroke-width:2\" />\n",
       "\n",
       "  <!-- Vertical lines -->\n",
       "  <line x1=\"28\" y1=\"18\" x2=\"28\" y2=\"43\" style=\"stroke-width:2\" />\n",
       "  <line x1=\"36\" y1=\"18\" x2=\"36\" y2=\"43\" />\n",
       "  <line x1=\"45\" y1=\"18\" x2=\"45\" y2=\"43\" />\n",
       "  <line x1=\"53\" y1=\"18\" x2=\"53\" y2=\"43\" style=\"stroke-width:2\" />\n",
       "\n",
       "  <!-- Colored Rectangle -->\n",
       "  <polygon points=\"28.140307210998174,18.140307210998174 53.552923725580655,18.140307210998174 53.552923725580655,43.552923725580655 28.140307210998174,43.552923725580655\" style=\"fill:#ECB172A0;stroke-width:0\"/>\n",
       "\n",
       "  <!-- Text -->\n",
       "  <text x=\"40.846615\" y=\"63.552924\" font-size=\"1.0rem\" font-weight=\"100\" text-anchor=\"middle\" >3</text>\n",
       "  <text x=\"73.552924\" y=\"30.846615\" font-size=\"1.0rem\" font-weight=\"100\" text-anchor=\"middle\" transform=\"rotate(0,73.552924,30.846615)\">4</text>\n",
       "  <text x=\"9.070154\" y=\"54.482770\" font-size=\"1.0rem\" font-weight=\"100\" text-anchor=\"middle\" transform=\"rotate(45,9.070154,54.482770)\">14</text>\n",
       "\n",
       "\n",
       "  <!-- Horizontal lines -->\n",
       "  <line x1=\"123\" y1=\"0\" x2=\"137\" y2=\"14\" style=\"stroke-width:2\" />\n",
       "  <line x1=\"123\" y1=\"120\" x2=\"137\" y2=\"134\" style=\"stroke-width:2\" />\n",
       "\n",
       "  <!-- Vertical lines -->\n",
       "  <line x1=\"123\" y1=\"0\" x2=\"123\" y2=\"120\" style=\"stroke-width:2\" />\n",
       "  <line x1=\"137\" y1=\"14\" x2=\"137\" y2=\"134\" style=\"stroke-width:2\" />\n",
       "\n",
       "  <!-- Colored Rectangle -->\n",
       "  <polygon points=\"123.0,0.0 137.9485979497544,14.948597949754403 137.9485979497544,134.9485979497544 123.0,120.0\" style=\"fill:#ECB172A0;stroke-width:0\"/>\n",
       "\n",
       "  <!-- Horizontal lines -->\n",
       "  <line x1=\"123\" y1=\"0\" x2=\"243\" y2=\"0\" style=\"stroke-width:2\" />\n",
       "  <line x1=\"137\" y1=\"14\" x2=\"257\" y2=\"14\" style=\"stroke-width:2\" />\n",
       "\n",
       "  <!-- Vertical lines -->\n",
       "  <line x1=\"123\" y1=\"0\" x2=\"137\" y2=\"14\" style=\"stroke-width:2\" />\n",
       "  <line x1=\"243\" y1=\"0\" x2=\"257\" y2=\"14\" style=\"stroke-width:2\" />\n",
       "\n",
       "  <!-- Colored Rectangle -->\n",
       "  <polygon points=\"123.0,0.0 243.0,0.0 257.9485979497544,14.948597949754403 137.9485979497544,14.948597949754403\" style=\"fill:#ECB172A0;stroke-width:0\"/>\n",
       "\n",
       "  <!-- Horizontal lines -->\n",
       "  <line x1=\"137\" y1=\"14\" x2=\"257\" y2=\"14\" style=\"stroke-width:2\" />\n",
       "  <line x1=\"137\" y1=\"134\" x2=\"257\" y2=\"134\" style=\"stroke-width:2\" />\n",
       "\n",
       "  <!-- Vertical lines -->\n",
       "  <line x1=\"137\" y1=\"14\" x2=\"137\" y2=\"134\" style=\"stroke-width:2\" />\n",
       "  <line x1=\"257\" y1=\"14\" x2=\"257\" y2=\"134\" style=\"stroke-width:2\" />\n",
       "\n",
       "  <!-- Colored Rectangle -->\n",
       "  <polygon points=\"137.9485979497544,14.948597949754403 257.9485979497544,14.948597949754403 257.9485979497544,134.9485979497544 137.9485979497544,134.9485979497544\" style=\"fill:#ECB172A0;stroke-width:0\"/>\n",
       "\n",
       "  <!-- Text -->\n",
       "  <text x=\"197.948598\" y=\"154.948598\" font-size=\"1.0rem\" font-weight=\"100\" text-anchor=\"middle\" >512</text>\n",
       "  <text x=\"277.948598\" y=\"74.948598\" font-size=\"1.0rem\" font-weight=\"100\" text-anchor=\"middle\" transform=\"rotate(-90,277.948598,74.948598)\">512</text>\n",
       "  <text x=\"120.474299\" y=\"147.474299\" font-size=\"1.0rem\" font-weight=\"100\" text-anchor=\"middle\" transform=\"rotate(45,120.474299,147.474299)\">1</text>\n",
       "</svg>\n",
       "        </td>\n",
       "    </tr>\n",
       "</table>"
      ],
      "text/plain": [
       "dask.array<stack, shape=(14, 4, 3, 1, 512, 512), dtype=uint16, chunksize=(1, 1, 1, 1, 512, 512), chunktype=numpy.ndarray>"
      ]
     },
     "execution_count": 27,
     "metadata": {},
     "output_type": "execute_result"
    }
   ],
   "source": [
    "i.get_dask_stack()"
   ]
  },
  {
   "cell_type": "markdown",
   "id": "5ff0083c-40ef-4ff7-ab40-cb0d5193f345",
   "metadata": {},
   "source": [
    "Mosaic stitch is not supported on tif files; so I will use my function relying on the PositionXYZ metadata.\n",
    "\n",
    "## dask_image"
   ]
  },
  {
   "cell_type": "code",
   "execution_count": null,
   "id": "086065c7-e210-410f-8d96-07fb1fc27a43",
   "metadata": {},
   "outputs": [],
   "source": [
    "from dask_image.imread import imread\n",
    "\n",
    "i = imread(img_void_tile)"
   ]
  },
  {
   "cell_type": "code",
   "execution_count": null,
   "id": "fe7d003f-96d6-44f5-a229-79bfc07e95fb",
   "metadata": {},
   "outputs": [],
   "source": [
    "i"
   ]
  },
  {
   "cell_type": "code",
   "execution_count": null,
   "id": "a6d9b62a-5aea-4dcd-9310-f2d8bdbf9930",
   "metadata": {},
   "outputs": [],
   "source": [
    "imread(lif)"
   ]
  },
  {
   "cell_type": "markdown",
   "id": "71d2c542-5b10-457d-88b5-25c5c474184a",
   "metadata": {},
   "source": [
    "Somehow it uses bioformats and can handle lif. No mosaic, no metadata though.\n",
    "\n",
    "**Pycroscopy** https://pypi.org/project/pycroscopy/ is not reading lif nor ome-tif at the moment.\n",
    "\n",
    "**large-image[all]** failed to install.\n",
    "\n",
    "**pyimagej** need conda?\n",
    "\n",
    "## bioio-bioformats"
   ]
  },
  {
   "cell_type": "code",
   "execution_count": null,
   "id": "44f47685-c33a-49d4-92cc-22fc010ee7d6",
   "metadata": {},
   "outputs": [],
   "source": [
    "import bioio_ome_tiled_tiff"
   ]
  },
  {
   "cell_type": "code",
   "execution_count": null,
   "id": "32aefc16-475d-4254-b336-433c8dc57316",
   "metadata": {},
   "outputs": [],
   "source": [
    "bioio_ome_tiled_tiff.Reader(str(img_tile))"
   ]
  },
  {
   "cell_type": "code",
   "execution_count": null,
   "id": "b48df022-16b9-40a8-bf06-e93714d3ffe9",
   "metadata": {},
   "outputs": [],
   "source": [
    "import bioio_bioformats\n",
    "\n",
    "im = bioio_bioformats.Reader(img_void_tile)\n",
    "bioio_bioformats.ReaderMetadata(img_void_tile)"
   ]
  },
  {
   "cell_type": "code",
   "execution_count": null,
   "id": "c71b717f-fcd0-4054-8cef-6be1e0727b6a",
   "metadata": {},
   "outputs": [],
   "source": [
    "im.xarray_dask_data"
   ]
  },
  {
   "cell_type": "code",
   "execution_count": null,
   "id": "24ec421e-3b7b-4649-8e6b-8bfa7e65669d",
   "metadata": {},
   "outputs": [],
   "source": [
    "i = bioio_bioformats.Reader(img_tile)\n",
    "i.data.shape"
   ]
  },
  {
   "cell_type": "code",
   "execution_count": null,
   "id": "e697140f-b756-486f-bca7-725ccd25f782",
   "metadata": {},
   "outputs": [],
   "source": [
    "i.xarray_dask_data.attrs[\"processed\"]"
   ]
  },
  {
   "cell_type": "code",
   "execution_count": null,
   "id": "19b06f57-3802-4c00-b86d-878d6ba6af01",
   "metadata": {},
   "outputs": [],
   "source": [
    "import nima_io.read as ir"
   ]
  },
  {
   "cell_type": "code",
   "execution_count": null,
   "id": "7554121e-de88-4b3c-93ca-9b7cd1a37392",
   "metadata": {},
   "outputs": [],
   "source": [
    "ir.bioformats.get_omexml_metadata(img_tile)"
   ]
  },
  {
   "cell_type": "code",
   "execution_count": null,
   "id": "bc355042-d3e2-4260-9f3a-dfa49d780ba1",
   "metadata": {},
   "outputs": [],
   "source": [
    "unp = i.xarray_dask_data.attrs[\"unprocessed\"]\n",
    "?ir.get_md_dict"
   ]
  },
  {
   "cell_type": "code",
   "execution_count": null,
   "id": "5d8afb5b-daf9-46dd-ab1f-cf351f749e6d",
   "metadata": {},
   "outputs": [],
   "source": [
    "i.ome_metadata"
   ]
  },
  {
   "cell_type": "code",
   "execution_count": null,
   "id": "48df43f5-f189-48d0-b5e0-d2243c6b72cb",
   "metadata": {},
   "outputs": [],
   "source": [
    "stk = i.get_dask_stack()"
   ]
  },
  {
   "cell_type": "code",
   "execution_count": null,
   "id": "6d910666-9ed5-4809-aa73-6bb116baed51",
   "metadata": {},
   "outputs": [],
   "source": [
    "stk.A"
   ]
  },
  {
   "cell_type": "markdown",
   "id": "54963f96-3e06-4e85-8c4b-1870689c2523",
   "metadata": {},
   "source": [
    "## bfio"
   ]
  },
  {
   "cell_type": "code",
   "execution_count": null,
   "id": "c14d2152-521b-4c3d-924f-462525647be5",
   "metadata": {},
   "outputs": [],
   "source": [
    "import bfio\n",
    "\n",
    "bfio.BioReader(img_void_tile)"
   ]
  },
  {
   "cell_type": "code",
   "execution_count": null,
   "id": "a5650a71-bf23-4632-9857-be38ddb32bb2",
   "metadata": {},
   "outputs": [],
   "source": [
    "rdr = bfio.BioReader(img_void_tile)\n",
    "%timeit i = rdr.read()\n",
    "i = rdr.read()\n",
    "i.shape"
   ]
  },
  {
   "cell_type": "code",
   "execution_count": null,
   "id": "69328e4b-cfff-45ec-af5a-73b94577c230",
   "metadata": {},
   "outputs": [],
   "source": [
    "rdr.metadata"
   ]
  },
  {
   "cell_type": "code",
   "execution_count": null,
   "id": "a222f1fe-34db-43d1-8a97-6720ccede82a",
   "metadata": {},
   "outputs": [],
   "source": [
    "rdr.ps_x"
   ]
  },
  {
   "cell_type": "code",
   "execution_count": null,
   "id": "eab10d55-8697-453f-8422-145418ef10d6",
   "metadata": {},
   "outputs": [],
   "source": [
    "rdr.close()"
   ]
  },
  {
   "cell_type": "markdown",
   "id": "e6d681d7-0dd1-4be8-b5ed-6e25d09bcf58",
   "metadata": {},
   "source": [
    "## PIMS"
   ]
  },
  {
   "cell_type": "code",
   "execution_count": null,
   "id": "ea19fd32-096d-4cf4-9d1f-a17143d950ec",
   "metadata": {},
   "outputs": [],
   "source": [
    "import pims\n",
    "\n",
    "%timeit fs = pims.Bioformats(img_void_tile)\n",
    "fs = pims.Bioformats(img_void_tile)\n",
    "fs.sizes"
   ]
  },
  {
   "cell_type": "markdown",
   "id": "51091c74-7230-4ae9-b34c-3eb998e2a2a9",
   "metadata": {},
   "source": [
    "## PyOMETiff"
   ]
  },
  {
   "cell_type": "code",
   "execution_count": null,
   "id": "d1584382-71bc-45a3-8b1a-864919a2bddf",
   "metadata": {},
   "outputs": [],
   "source": [
    "import pyometiff\n",
    "\n",
    "%timeit rdr = pyometiff.OMETIFFReader(fpath=img_void_tile)\n",
    "rdr = pyometiff.OMETIFFReader(fpath=img_void_tile)"
   ]
  },
  {
   "cell_type": "code",
   "execution_count": null,
   "id": "9c0c6e95-2056-4cbe-83bb-015924e804e0",
   "metadata": {},
   "outputs": [],
   "source": [
    "%timeit r = rdr.read()\n",
    "res = rdr.read()"
   ]
  },
  {
   "cell_type": "code",
   "execution_count": null,
   "id": "776b9078-04d4-41b1-ade6-2583d4741810",
   "metadata": {},
   "outputs": [],
   "source": [
    "res[2]"
   ]
  },
  {
   "cell_type": "code",
   "execution_count": null,
   "id": "7eb964f5-be1a-4c65-9304-87eef305059e",
   "metadata": {},
   "outputs": [],
   "source": [
    "pyometiff.OMETIFFReader._get_metadata_template()"
   ]
  },
  {
   "cell_type": "markdown",
   "id": "173fc85e-e4e3-40ff-bf57-97d1c252d4a0",
   "metadata": {},
   "source": [
    "## Final Note\n",
    "\n",
    "I will keep \n",
    "\n",
    "0. Read\n",
    "1. stitch\n",
    "2. md_grouping\n",
    "\n",
    "- impy\n",
    "- napari.read\n",
    "- pycromanager\n",
    "- microscope\n",
    "- python-microscopy"
   ]
  }
 ],
 "metadata": {
  "kernelspec": {
   "display_name": "Python 3 (ipykernel)",
   "language": "python",
   "name": "python3"
  },
  "language_info": {
   "codemirror_mode": {
    "name": "ipython",
    "version": 3
   },
   "file_extension": ".py",
   "mimetype": "text/x-python",
   "name": "python",
   "nbconvert_exporter": "python",
   "pygments_lexer": "ipython3",
   "version": "3.10.13"
  }
 },
 "nbformat": 4,
 "nbformat_minor": 5
}
